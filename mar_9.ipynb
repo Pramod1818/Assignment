{
 "cells": [
  {
   "cell_type": "markdown",
   "id": "2d5add27-9e28-4e02-ba88-d3076e5bc5f1",
   "metadata": {},
   "source": [
    "Q1: What are the Probability Mass Function (PMF) and Probability Density Function (PDF)? Explain with\n",
    "an example."
   ]
  },
  {
   "cell_type": "markdown",
   "id": "7e2a4ada-eb82-4bdb-ba6c-dc7a2e45948d",
   "metadata": {},
   "source": [
    "PMF is used for discrete random variables and gives the probability of a specific value occurring.\n",
    "Example of PMF: Rolling a fair six-sided die. The PMF gives the probability of getting each number (1, 2, 3, 4, 5, 6).\n",
    "\n",
    "PDF is used for continuous random variables and gives the relative likelihood of a value falling within a range.\n",
    "Example of PDF: Heights of people. The PDF describes the likelihood of a person's height falling within a certain range."
   ]
  },
  {
   "cell_type": "code",
   "execution_count": null,
   "id": "c5565fca-c451-4f4b-8381-3672f83f8317",
   "metadata": {},
   "outputs": [],
   "source": []
  },
  {
   "cell_type": "markdown",
   "id": "134612f2-1f95-4a5c-8d5e-1dc4fc58b7cd",
   "metadata": {},
   "source": [
    "Q2: What is Cumulative Density Function (CDF)? Explain with an example. Why CDF is used?"
   ]
  },
  {
   "cell_type": "markdown",
   "id": "1fea694a-33ca-41a4-a410-ad6330e57b70",
   "metadata": {},
   "source": [
    "CDF gives the probability that a random variable takes on a value less than or equal to a given value. It accumulates the probabilities as it goes from the lowest to the highest values.\n",
    "\n",
    "Example: For the fair six-sided die, the CDF gives the probability of rolling a number less than or equal to each possible value.\n",
    "\n",
    "The CDF is used to calculate probabilities, find percentiles, and understand the overall distribution of a random variable."
   ]
  },
  {
   "cell_type": "code",
   "execution_count": null,
   "id": "9d82e6f9-43e7-4966-8fdf-d2089cc35cd1",
   "metadata": {},
   "outputs": [],
   "source": []
  },
  {
   "cell_type": "markdown",
   "id": "9e5480a5-e822-47db-bfe2-5d1025ef2fdf",
   "metadata": {},
   "source": [
    "Q3: What are some examples of situations where the normal distribution might be used as a model?\n",
    "Explain how the parameters of the normal distribution relate to the shape of the distribution."
   ]
  },
  {
   "cell_type": "markdown",
   "id": "74c62d19-95e0-4882-9654-e0ef7620b125",
   "metadata": {},
   "source": [
    "Normal distribution is used as a model in situations where continuous variables are approximately symmetric and follow a bell-shaped curve. Examples include heights, IQ scores, errors in measurements. The parameters of the normal distribution are mean (μ) and standard deviation (σ). μ determines the center, while σ controls the spread."
   ]
  },
  {
   "cell_type": "code",
   "execution_count": null,
   "id": "2b33d3d7-a6dc-401c-9a6d-f00cfeed743a",
   "metadata": {},
   "outputs": [],
   "source": []
  },
  {
   "cell_type": "markdown",
   "id": "2203f672-4b5a-4aaf-8c22-9be2b54b5e4f",
   "metadata": {},
   "source": [
    "Q4: Explain the importance of Normal Distribution. Give a few real-life examples of Normal\n",
    "Distribution."
   ]
  },
  {
   "cell_type": "markdown",
   "id": "7cb03134-3e29-4c7f-8a79-27d7fcb9282c",
   "metadata": {},
   "source": [
    "Normal distribution is important because of the Central Limit Theorem and its widespread occurrence in nature. \n",
    "\n",
    "Examples: heights of people, test scores in a large population, measurement errors, IQ scores."
   ]
  },
  {
   "cell_type": "code",
   "execution_count": null,
   "id": "c4482f31-8faa-4ee9-9618-32beed58a920",
   "metadata": {},
   "outputs": [],
   "source": []
  },
  {
   "cell_type": "markdown",
   "id": "e4e3dad5-490b-4f8a-9221-4ce9b7788c15",
   "metadata": {},
   "source": [
    "Q5: What is Bernaulli Distribution? Give an Example. What is the difference between Bernoulli\n",
    "Distribution and Binomial Distribution?"
   ]
  },
  {
   "cell_type": "markdown",
   "id": "72d03f50-d307-4a9c-a9f3-5a52950b8a1d",
   "metadata": {},
   "source": [
    "Bernoulli distribution models binary outcomes (success/failure) in a single trial. Example: Coin flip (heads/tails).\n",
    "\n",
    "Difference from Binomial Distribution: Bernoulli is a special case of the binomial distribution with a single trial."
   ]
  },
  {
   "cell_type": "code",
   "execution_count": null,
   "id": "d8fe3ea5-db0d-4ca7-b412-61bd61b8901e",
   "metadata": {},
   "outputs": [],
   "source": []
  },
  {
   "cell_type": "markdown",
   "id": "774be6a3-04a1-496f-97eb-32c3503ebf41",
   "metadata": {},
   "source": [
    "Q6. Consider a dataset with a mean of 50 and a standard deviation of 10. If we assume that the dataset\n",
    "is normally distributed, what is the probability that a randomly selected observation will be greater\n",
    "than 60? Use the appropriate formula and show your calculations."
   ]
  },
  {
   "cell_type": "markdown",
   "id": "3bb7fa2c-0630-4d01-ab6d-cf9221063812",
   "metadata": {},
   "source": [
    "Using the Z-score formula: Z = (x - μ) / σ\n",
    "Given μ = 50, σ = 10, x > 60\n",
    "Z = (60 - 50) / 10 = 1\n",
    "Using a standard normal distribution table or calculator, the probability of Z > 1 is approximately 0.1587."
   ]
  },
  {
   "cell_type": "code",
   "execution_count": null,
   "id": "783d82e2-847f-4871-a7f6-95a0d52a282c",
   "metadata": {},
   "outputs": [],
   "source": []
  },
  {
   "cell_type": "markdown",
   "id": "dbd2ae80-9dbd-46e9-a3a6-6093919ac081",
   "metadata": {},
   "source": [
    "Q7: Explain uniform Distribution with an example."
   ]
  },
  {
   "cell_type": "markdown",
   "id": "795e45a4-f318-424a-8aeb-ea9c1cae07b7",
   "metadata": {},
   "source": [
    "Uniform distribution is used when all outcomes in a range are equally likely. Example: Rolling a fair six-sided die, where each number has an equal chance."
   ]
  },
  {
   "cell_type": "code",
   "execution_count": null,
   "id": "2cbca293-80ec-4f89-a42b-e5c53543bbcc",
   "metadata": {},
   "outputs": [],
   "source": []
  },
  {
   "cell_type": "markdown",
   "id": "f80e654d-c896-41c6-af6d-77f26d98e162",
   "metadata": {},
   "source": [
    "Q8: What is the z score? State the importance of the z score."
   ]
  },
  {
   "cell_type": "markdown",
   "id": "239ca0c4-7ae6-4c9d-80b4-22beb968937a",
   "metadata": {},
   "source": [
    "The Z-score measures how many standard deviations a data point is from the mean. It standardizes data and helps compare values from different distributions. It's used to find relative positions and probabilities in a standard normal distribution."
   ]
  },
  {
   "cell_type": "code",
   "execution_count": null,
   "id": "200876e0-9503-47ad-beef-d3505c054601",
   "metadata": {},
   "outputs": [],
   "source": []
  },
  {
   "cell_type": "markdown",
   "id": "db5d2902-8b81-4f25-b9e9-7d0876534f0b",
   "metadata": {},
   "source": [
    "Q9: What is Central Limit Theorem? State the significance of the Central Limit Theorem."
   ]
  },
  {
   "cell_type": "markdown",
   "id": "63941329-0a94-4818-9d64-8af90940bd4e",
   "metadata": {},
   "source": [
    "CLT states that the distribution of the sum of a large number of independent, identically distributed random variables approaches a normal distribution, regardless of the original distribution. It's significant because it explains why normal distribution is common and allows us to make approximations even when the underlying distribution is not normal."
   ]
  },
  {
   "cell_type": "code",
   "execution_count": null,
   "id": "a5c949eb-da96-4262-a30c-e896696e6822",
   "metadata": {},
   "outputs": [],
   "source": []
  },
  {
   "cell_type": "markdown",
   "id": "9b0eab89-b70d-4cd9-80e3-666686812a06",
   "metadata": {},
   "source": [
    "Q10: State the assumptions of the Central Limit Theorem."
   ]
  },
  {
   "cell_type": "markdown",
   "id": "b76cc8b3-37d1-446b-ad6d-32d963b291ca",
   "metadata": {},
   "source": [
    "Independence: The random variables should be independent of each other.\n",
    "Identical Distribution: The random variables should have the same distribution.\n",
    "Sample Size: The sample size should be sufficiently large (typically n ≥ 30) to ensure convergence to a normal distribution."
   ]
  },
  {
   "cell_type": "code",
   "execution_count": null,
   "id": "6999733e-1a2a-4416-88da-0666e6ad7aa4",
   "metadata": {},
   "outputs": [],
   "source": []
  }
 ],
 "metadata": {
  "kernelspec": {
   "display_name": "Python 3 (ipykernel)",
   "language": "python",
   "name": "python3"
  },
  "language_info": {
   "codemirror_mode": {
    "name": "ipython",
    "version": 3
   },
   "file_extension": ".py",
   "mimetype": "text/x-python",
   "name": "python",
   "nbconvert_exporter": "python",
   "pygments_lexer": "ipython3",
   "version": "3.10.8"
  }
 },
 "nbformat": 4,
 "nbformat_minor": 5
}
