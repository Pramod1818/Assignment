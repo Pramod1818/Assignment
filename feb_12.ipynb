{
 "cells": [
  {
   "cell_type": "markdown",
   "id": "0e5fe4b8-6481-442c-8ba0-a87636542c90",
   "metadata": {},
   "source": [
    "Q1. What is an Exception in python? Write the difference between Exceptions and Syntax errors.\n",
    "\n"
   ]
  },
  {
   "cell_type": "markdown",
   "id": "6f644f12-1293-4753-b923-85dafb1c3bba",
   "metadata": {},
   "source": [
    "An exception is an event that occurs during the execution of a program that disrupts the normal flow of instructions. When an exceptional condition arises, an object representing the exception is created, and the normal flow of the program is interrupted. Python provides a mechanism to handle exceptions using try-except blocks.\n",
    "\n",
    "Difference between Exceptions and Syntax Errors:\n",
    "\n",
    "Exceptions:\n",
    "Occur during the runtime of a program, when something unexpected occurs (e.g., division by zero, accessing an index out of range).\n",
    "\n",
    "Syntax Errors:\n",
    "Occur during the parsing of a program, when the code doesn't follow the correct syntax of the programming language."
   ]
  },
  {
   "cell_type": "code",
   "execution_count": null,
   "id": "459d78e2-c4b0-4c9c-9522-d4813b33c39d",
   "metadata": {},
   "outputs": [],
   "source": []
  },
  {
   "cell_type": "markdown",
   "id": "73184495-1869-43dc-bb13-48cf75d27617",
   "metadata": {},
   "source": [
    "Q2. What happens when an exception is not handled? Explain with an example.\n",
    "\n"
   ]
  },
  {
   "cell_type": "markdown",
   "id": "0f66185f-677c-4c36-a868-dd31fa661652",
   "metadata": {},
   "source": [
    "If an exception is not handled, it results in the program terminating abruptly, and the Python interpreter displays an error message (traceback) indicating the line of code where the exception occurred.\n",
    "\n",
    "Below eg shows, traceback showing the division by zero error."
   ]
  },
  {
   "cell_type": "code",
   "execution_count": 8,
   "id": "0b5a393a-5244-4ff6-ba03-63754e41300b",
   "metadata": {},
   "outputs": [
    {
     "ename": "ZeroDivisionError",
     "evalue": "division by zero",
     "output_type": "error",
     "traceback": [
      "\u001b[0;31m---------------------------------------------------------------------------\u001b[0m",
      "\u001b[0;31mZeroDivisionError\u001b[0m                         Traceback (most recent call last)",
      "Cell \u001b[0;32mIn[8], line 4\u001b[0m\n\u001b[1;32m      1\u001b[0m \u001b[38;5;28;01mdef\u001b[39;00m \u001b[38;5;21mdivide\u001b[39m(a, b):\n\u001b[1;32m      2\u001b[0m     result \u001b[38;5;241m=\u001b[39m a \u001b[38;5;241m/\u001b[39m b\n\u001b[0;32m----> 4\u001b[0m \u001b[43mdivide\u001b[49m\u001b[43m(\u001b[49m\u001b[38;5;241;43m90\u001b[39;49m\u001b[43m,\u001b[49m\u001b[43m \u001b[49m\u001b[38;5;241;43m0\u001b[39;49m\u001b[43m)\u001b[49m  \n",
      "Cell \u001b[0;32mIn[8], line 2\u001b[0m, in \u001b[0;36mdivide\u001b[0;34m(a, b)\u001b[0m\n\u001b[1;32m      1\u001b[0m \u001b[38;5;28;01mdef\u001b[39;00m \u001b[38;5;21mdivide\u001b[39m(a, b):\n\u001b[0;32m----> 2\u001b[0m     result \u001b[38;5;241m=\u001b[39m \u001b[43ma\u001b[49m\u001b[43m \u001b[49m\u001b[38;5;241;43m/\u001b[39;49m\u001b[43m \u001b[49m\u001b[43mb\u001b[49m\n",
      "\u001b[0;31mZeroDivisionError\u001b[0m: division by zero"
     ]
    }
   ],
   "source": [
    "def divide(a, b):\n",
    "    result = a / b\n",
    "\n",
    "divide(90, 0)  \n"
   ]
  },
  {
   "cell_type": "code",
   "execution_count": null,
   "id": "d728c761-2d1b-462d-a1a0-5590de58ff7a",
   "metadata": {},
   "outputs": [],
   "source": []
  },
  {
   "cell_type": "markdown",
   "id": "39379c58-b89b-4116-9ac5-47f89b760143",
   "metadata": {},
   "source": [
    "Q3. Which Python statements are used to catch and handle exceptions? Explain with an example."
   ]
  },
  {
   "cell_type": "markdown",
   "id": "6a159c6c-6487-405f-8e52-56bd7ce23d3c",
   "metadata": {},
   "source": [
    "The try and except statements are used to catch and handle exceptions."
   ]
  },
  {
   "cell_type": "code",
   "execution_count": 11,
   "id": "408531d6-4115-4946-a9c5-ea2263423267",
   "metadata": {},
   "outputs": [
    {
     "name": "stdout",
     "output_type": "stream",
     "text": [
      "Invalid conversion\n"
     ]
    }
   ],
   "source": [
    "try:\n",
    "    value = int(\"abc\")\n",
    "except ValueError:\n",
    "    print(\"Invalid conversion\")\n"
   ]
  },
  {
   "cell_type": "markdown",
   "id": "4d78d828-0bd9-4e53-a135-abd9c121c527",
   "metadata": {},
   "source": [
    "In this example, the code inside the try block will execute. If a ValueError occurs (trying to convert \"abc\" to an integer), the code inside the except block will execute to handle the exception."
   ]
  },
  {
   "cell_type": "code",
   "execution_count": null,
   "id": "1488e2cb-fae7-44aa-802b-28aeb0b57776",
   "metadata": {},
   "outputs": [],
   "source": []
  },
  {
   "cell_type": "markdown",
   "id": "a351262e-77dd-4162-b69c-723c68c00f1c",
   "metadata": {},
   "source": [
    "Q4. Explain with an example:\n",
    "a. try and else\n",
    "b. finally\n",
    "c. raise"
   ]
  },
  {
   "cell_type": "markdown",
   "id": "26561cea-b6b1-400e-ab1d-1e1790d75beb",
   "metadata": {},
   "source": [
    "a. try and else \n",
    "The else block is executed if no exceptions are raised in the try block.\n",
    "\n",
    "b. finally:\n",
    "The finally block is executed regardless of whether an exception was raised or not. It's used to perform cleanup actions, such as closing files or releasing resources.\n",
    "\n",
    "c. raise:\n",
    "The raise statement is used to explicitly raise an exception. It can be used to signal errors or exceptions based on specific conditions."
   ]
  },
  {
   "cell_type": "code",
   "execution_count": 12,
   "id": "d3caec70-bcf3-48d2-9eb1-019eee195ac0",
   "metadata": {},
   "outputs": [
    {
     "name": "stdin",
     "output_type": "stream",
     "text": [
      "Enter a number:  w\n"
     ]
    },
    {
     "name": "stdout",
     "output_type": "stream",
     "text": [
      "Invalid input\n"
     ]
    }
   ],
   "source": [
    "#try and  else\n",
    "try:\n",
    "    num = int(input(\"Enter a number: \"))\n",
    "except ValueError:\n",
    "    print(\"Invalid input\")\n",
    "else:\n",
    "    print(\"You entered:\", num)\n"
   ]
  },
  {
   "cell_type": "code",
   "execution_count": 14,
   "id": "d7250b39-53de-49df-8dc3-1fe81ffae8bb",
   "metadata": {},
   "outputs": [],
   "source": [
    "#finally\n",
    "try:\n",
    "    file = open(\"output.txt\", \"r\")\n",
    "    content = file.read()\n",
    "except FileNotFoundError:\n",
    "    print(\"File not found\")\n",
    "finally:\n",
    "    file.close()  # whether an exception occurred or not, the file will be closed\n"
   ]
  },
  {
   "cell_type": "code",
   "execution_count": 16,
   "id": "5acbf581-5eb2-42c5-9c80-7d3b00507652",
   "metadata": {},
   "outputs": [
    {
     "name": "stdin",
     "output_type": "stream",
     "text": [
      "Enter your age:  -12\n"
     ]
    },
    {
     "name": "stdout",
     "output_type": "stream",
     "text": [
      "Error: Age cannot be negative: -12\n"
     ]
    }
   ],
   "source": [
    "#raise\n",
    "try:\n",
    "    age = int(input(\"Enter your age: \"))\n",
    "    if age < 0:\n",
    "        raise ValueError(f\"Age cannot be negative: {age}\")\n",
    "except ValueError as ve:\n",
    "    print(\"Error:\", ve)\n",
    "    \n"
   ]
  },
  {
   "cell_type": "code",
   "execution_count": null,
   "id": "7b52d63f-d9b3-4064-bb7a-ddaa92fae30e",
   "metadata": {},
   "outputs": [],
   "source": []
  },
  {
   "cell_type": "markdown",
   "id": "8c7f5c7b-2910-4292-8530-1ff965120e91",
   "metadata": {},
   "source": [
    "Q5. What are Custom Exceptions in python? Why do we need Custom Exceptions? Explain with an eg."
   ]
  },
  {
   "cell_type": "markdown",
   "id": "7ecd7631-730a-4483-90ba-f9e87b4256ed",
   "metadata": {},
   "source": [
    "Custom exceptions are user-defined exceptions that extend the built-in exception classes. They allow you to create exception hierarchies tailored to your application's needs.\n",
    "\n",
    "Custom Exceptions need:\n",
    "To improve code readability and clarity.\n",
    "To handle specific error scenarios more effectively."
   ]
  },
  {
   "cell_type": "code",
   "execution_count": 17,
   "id": "c5fdc223-7393-40a9-adba-fb19d86bb03a",
   "metadata": {},
   "outputs": [
    {
     "name": "stdout",
     "output_type": "stream",
     "text": [
      "Custom error: Negative value not allowed\n"
     ]
    }
   ],
   "source": [
    "class CustomError(Exception):\n",
    "    pass\n",
    "\n",
    "def func(x):\n",
    "    if x < 0:\n",
    "        raise CustomError(\"Negative value not allowed\")\n",
    "\n",
    "try:\n",
    "    func(-5)\n",
    "except CustomError as ce:\n",
    "    print(\"Custom error:\", ce)\n"
   ]
  },
  {
   "cell_type": "code",
   "execution_count": null,
   "id": "348407cf-29ad-4a3e-b7e8-7423ec70b71e",
   "metadata": {},
   "outputs": [],
   "source": []
  },
  {
   "cell_type": "markdown",
   "id": "2b3a6578-7879-4801-8b31-b1fcab6cbb96",
   "metadata": {},
   "source": [
    "Q6. Create a custom exception class. Use this class to handle an exception."
   ]
  },
  {
   "cell_type": "code",
   "execution_count": 7,
   "id": "d974f525-7585-4af8-b48f-cd2193b80b8e",
   "metadata": {},
   "outputs": [
    {
     "name": "stdout",
     "output_type": "stream",
     "text": [
      "Custom error: Negative value not allowed\n"
     ]
    }
   ],
   "source": [
    "class MyCustomError(Exception):\n",
    "    def __init__(self, message):\n",
    "        self.message = message\n",
    "\n",
    "def custom_function(x):\n",
    "    if x < 0:\n",
    "        raise MyCustomError(\"Negative value not allowed\")\n",
    "\n",
    "try:\n",
    "    custom_function(-16)\n",
    "except MyCustomError as ce:\n",
    "    print(\"Custom error:\", ce.message)\n"
   ]
  },
  {
   "cell_type": "markdown",
   "id": "dc33c3bd-da6d-468c-9908-94670293170c",
   "metadata": {},
   "source": [
    "In this example, the custom exception MyCustomError is created and raised in the custom_function(). The exception is caught and handled in the except block."
   ]
  },
  {
   "cell_type": "code",
   "execution_count": null,
   "id": "e4557e44-3e32-46b6-9f11-8285bfc8ec51",
   "metadata": {},
   "outputs": [],
   "source": []
  }
 ],
 "metadata": {
  "kernelspec": {
   "display_name": "Python 3 (ipykernel)",
   "language": "python",
   "name": "python3"
  },
  "language_info": {
   "codemirror_mode": {
    "name": "ipython",
    "version": 3
   },
   "file_extension": ".py",
   "mimetype": "text/x-python",
   "name": "python",
   "nbconvert_exporter": "python",
   "pygments_lexer": "ipython3",
   "version": "3.10.8"
  }
 },
 "nbformat": 4,
 "nbformat_minor": 5
}
