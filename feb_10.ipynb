{
 "cells": [
  {
   "cell_type": "markdown",
   "id": "9b1f090f-963e-46a5-be0b-2c2ad24f29f1",
   "metadata": {},
   "source": [
    "Q1. Which function is used to open a file? What are the different modes of opening a file? Explain each mode\n",
    "of file opening.\n"
   ]
  },
  {
   "cell_type": "markdown",
   "id": "1813db36-df66-4bee-8818-d3936d255587",
   "metadata": {},
   "source": [
    "The open() function is used to open a file in Python. \n",
    "It takes two arguments: the file path and the mode in which the file should be opened. Modes specify the purpose for which you're opening the file (read, write, append, etc.).\n",
    "\n",
    "Different modes of opening a file:\n",
    "'r' (Read): Opens the file for reading (default mode). Raises an error if the file does not exist.\n",
    "'w' (Write): Opens the file for writing. Creates the file if it doesn't exist. If it exists, truncates its contents.\n",
    "'a' (Append): Opens the file for appending. Creates the file if it doesn't exist.\n",
    "'b' (Binary): Opens the file in binary mode, used alongside other modes (e.g., 'rb' or 'wb').\n",
    "'x' (Exclusive creation): Opens the file for exclusive creation. Raises an error if the file already exists."
   ]
  },
  {
   "cell_type": "code",
   "execution_count": null,
   "id": "9aa5c0cf-422f-4812-b7e7-239dc9ace002",
   "metadata": {},
   "outputs": [],
   "source": []
  },
  {
   "cell_type": "markdown",
   "id": "2a1ebb04-79e9-478d-8e3e-8e42dac493ae",
   "metadata": {},
   "source": [
    "Q2. Why close() function is used? Why is it important to close a file?\n"
   ]
  },
  {
   "cell_type": "markdown",
   "id": "2d129ae7-d0ba-4824-8997-522f51799b14",
   "metadata": {},
   "source": [
    "The close() function is used to close an opened file. It's important to close a file after you're done working with it because it releases system resources associated with the file. Not closing a file can lead to resource leaks and might prevent other programs from accessing the file."
   ]
  },
  {
   "cell_type": "code",
   "execution_count": null,
   "id": "9d0d4f2d-dc42-4f0a-afb6-87ded139a343",
   "metadata": {},
   "outputs": [],
   "source": []
  },
  {
   "cell_type": "markdown",
   "id": "1ab5d046-fda5-4bdc-9eb4-50b94f40ccce",
   "metadata": {},
   "source": [
    "Q3. Write a python program to create a text file. Write ‘I want to become a Data Scientist’ in that file. Then close the file. Open this file and read the content of the file.\n"
   ]
  },
  {
   "cell_type": "code",
   "execution_count": 15,
   "id": "4091f70d-5eb1-4d4c-b646-a42cbe10e777",
   "metadata": {},
   "outputs": [
    {
     "name": "stdout",
     "output_type": "stream",
     "text": [
      "I want to become a Data Scientist\n"
     ]
    }
   ],
   "source": [
    "#by using with its automatically close the file\n",
    "with open(\"data.txt\", \"w\") as file:\n",
    "    file.write(\"I want to become a Data Scientist\")\n",
    "\n",
    "\n",
    "with open(\"data.txt\", \"r\") as file:\n",
    "    content = file.read()\n",
    "    print(content)\n"
   ]
  },
  {
   "cell_type": "code",
   "execution_count": null,
   "id": "43490ed4-3106-4ce3-8948-724ac1c31428",
   "metadata": {},
   "outputs": [],
   "source": []
  },
  {
   "cell_type": "markdown",
   "id": "b2416f29-800a-45c5-96ee-e8d020405d10",
   "metadata": {},
   "source": [
    "Q4. Explain the following with python code: read(), readline() and readlines().\n"
   ]
  },
  {
   "cell_type": "markdown",
   "id": "0e543efd-c478-465a-985f-d2add809270b",
   "metadata": {},
   "source": [
    "read(): Reads the entire content of the file and returns it as a single string.\n",
    "readline(): Reads a single line from the file.\n",
    "readlines(): Reads all lines from the file and returns them as a list of strings."
   ]
  },
  {
   "cell_type": "code",
   "execution_count": 16,
   "id": "fc33651e-12c4-4f36-be12-89433519fbf4",
   "metadata": {},
   "outputs": [
    {
     "name": "stdout",
     "output_type": "stream",
     "text": [
      "I want to become a Data Scientist\n",
      "I want to become a Data Scientist\n",
      "['I want to become a Data Scientist']\n"
     ]
    }
   ],
   "source": [
    "with open(\"data.txt\", \"r\") as file:\n",
    "    content = file.read()\n",
    "    print(content)\n",
    "\n",
    "with open(\"data.txt\", \"r\") as file:\n",
    "    line = file.readline()\n",
    "    print(line)\n",
    "\n",
    "with open(\"data.txt\", \"r\") as file:\n",
    "    lines = file.readlines()\n",
    "    print(lines)\n"
   ]
  },
  {
   "cell_type": "code",
   "execution_count": null,
   "id": "ea7acce9-dfed-46f5-bd86-02db89b98382",
   "metadata": {},
   "outputs": [],
   "source": []
  },
  {
   "cell_type": "markdown",
   "id": "a71dc206-ecb7-4fac-b274-63f42c16cd4b",
   "metadata": {},
   "source": [
    "Q5. Explain why with statement is used with open(). What is the advantage of using with statement and\n",
    "open() together?\n"
   ]
  },
  {
   "cell_type": "markdown",
   "id": "0b7d9a22-6365-4d9e-9fa2-e0f3875b58d2",
   "metadata": {},
   "source": [
    "The with statement is used with open() to ensure proper file handling. It automatically takes care of opening and closing the file. It's advantageous because it guarantees that the file will be properly closed even if an exception is raised."
   ]
  },
  {
   "cell_type": "code",
   "execution_count": 17,
   "id": "57cfa8f2-f9a0-4baf-bfe1-bdef5aec46d0",
   "metadata": {},
   "outputs": [
    {
     "name": "stdout",
     "output_type": "stream",
     "text": [
      "I want to become a Data Scientist\n"
     ]
    }
   ],
   "source": [
    "with open(\"data.txt\", \"r\") as file:\n",
    "    content = file.read()\n",
    "    print(content)\n",
    "\n"
   ]
  },
  {
   "cell_type": "code",
   "execution_count": null,
   "id": "714f60a4-2c0c-4b10-94cb-44ffb4623e6b",
   "metadata": {},
   "outputs": [],
   "source": []
  },
  {
   "cell_type": "markdown",
   "id": "d79d0a0a-ae18-4059-b267-52b864ea00f4",
   "metadata": {},
   "source": [
    "Q6. Explain the write() and writelines() functions. Give a suitable example."
   ]
  },
  {
   "cell_type": "markdown",
   "id": "f75c49d0-fb4b-4959-b8db-a40777374bad",
   "metadata": {},
   "source": [
    "write(): Writes a string to the file. If the file is opened in write mode ('w'), it overwrites the existing content. If opened in append mode ('a'), it adds to the existing content.\n",
    "writelines(): Writes a list of strings to the file, with each string as a separate line."
   ]
  },
  {
   "cell_type": "code",
   "execution_count": 18,
   "id": "f628cdae-df86-4436-9817-a01fdb45c1a4",
   "metadata": {},
   "outputs": [],
   "source": [
    "with open(\"output.txt\", \"w\") as file:\n",
    "    file.write(\"Hello, world!\\n\")\n",
    "    file.write(\"This is a test file.\")\n",
    "\n",
    "lines = [\"Line 1 content \\n\", \"Line 2 content \\n\", \"Line 3 content\\n\"]\n",
    "with open(\"output.txt\", \"a\") as file:\n",
    "    file.writelines(lines)\n"
   ]
  },
  {
   "cell_type": "code",
   "execution_count": null,
   "id": "4cc7e1df-c43d-4c37-aef8-2a4aa6bc15b1",
   "metadata": {},
   "outputs": [],
   "source": [
    "'''\n",
    "data saved in file in this manner\n",
    "\n",
    "Hello, world!\n",
    "This is a test file.Line 1 content \n",
    "Line 2 content \n",
    "Line 3 content\n",
    "'''"
   ]
  },
  {
   "cell_type": "code",
   "execution_count": null,
   "id": "be173bc4-56db-4202-99f7-3663cda907ea",
   "metadata": {},
   "outputs": [],
   "source": []
  }
 ],
 "metadata": {
  "kernelspec": {
   "display_name": "Python 3 (ipykernel)",
   "language": "python",
   "name": "python3"
  },
  "language_info": {
   "codemirror_mode": {
    "name": "ipython",
    "version": 3
   },
   "file_extension": ".py",
   "mimetype": "text/x-python",
   "name": "python",
   "nbconvert_exporter": "python",
   "pygments_lexer": "ipython3",
   "version": "3.10.8"
  }
 },
 "nbformat": 4,
 "nbformat_minor": 5
}
