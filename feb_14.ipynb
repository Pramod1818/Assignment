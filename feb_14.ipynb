{
 "cells": [
  {
   "cell_type": "markdown",
   "id": "c2cd086a-f35d-4b1c-b3b9-57bccfc8f746",
   "metadata": {},
   "source": [
    "1. what is multithreading in python? why is it used? Name the module used to handle threads in python.\n"
   ]
  },
  {
   "cell_type": "markdown",
   "id": "0ac688e2-2324-4406-baeb-e9e31202fbc9",
   "metadata": {},
   "source": [
    "Multithreading is a concurrent execution technique in which multiple threads run in the context of a single process. Threads are smaller units of a process that can execute concurrently and share the same memory space. Multithreading is used to improve the efficiency of programs that perform multiple tasks simultaneously, allowing better utilization of CPU resources and enhancing responsiveness.\n",
    "\n",
    "In Python, the threading module is used to handle threads."
   ]
  },
  {
   "cell_type": "code",
   "execution_count": null,
   "id": "013246f8-0175-44f3-8133-afdf4f9c9909",
   "metadata": {},
   "outputs": [],
   "source": []
  },
  {
   "cell_type": "markdown",
   "id": "a3601020-7a25-4806-b890-86454fb39ea9",
   "metadata": {},
   "source": [
    "2. why threading module used? write the use of the following functions\n",
    " activeCount()\n",
    " currentThread()\n",
    " enumerate()\n",
    "\n"
   ]
  },
  {
   "cell_type": "markdown",
   "id": "3c91e3ee-5f6e-4b7c-a9f2-b5bb39e00c76",
   "metadata": {},
   "source": [
    "The threading module in Python is used to work with threads. Some of its functions include:\n",
    "\n",
    "activeCount(): Returns the number of Thread objects currently alive.\n",
    "currentThread(): Returns the current Thread object.\n",
    "enumerate(): Returns a list of all currently active Thread objects."
   ]
  },
  {
   "cell_type": "code",
   "execution_count": null,
   "id": "c341c58b-d2d5-494f-98f5-06df03d2a3a8",
   "metadata": {},
   "outputs": [],
   "source": []
  },
  {
   "cell_type": "markdown",
   "id": "252d843e-769f-410b-afdf-a368e0fa89ab",
   "metadata": {},
   "source": [
    "3. Explain the following functions\n",
    " run()\n",
    " start()\n",
    " join()\n",
    " isAlive()"
   ]
  },
  {
   "cell_type": "markdown",
   "id": "a1bea524-a3e8-41ba-929d-12572cb2c705",
   "metadata": {},
   "source": [
    "run(): This method is overridden in a subclass of Thread to define the code that the thread will execute.\n",
    "start(): This method is used to start the thread's activity.\n",
    "join(): This method blocks the calling thread until the thread whose join() method is called is terminated.\n",
    "isAlive(): This method returns True if the thread is currently executing, otherwise False."
   ]
  },
  {
   "cell_type": "code",
   "execution_count": null,
   "id": "f7a3c740-c282-4689-a375-5174075bd4eb",
   "metadata": {},
   "outputs": [],
   "source": []
  },
  {
   "cell_type": "markdown",
   "id": "1e660880-8922-47ba-9e16-f645b0ddffab",
   "metadata": {},
   "source": [
    "4. write a python program to create two threads. Thread one must print the list of squares and thread two must print the list of cubes."
   ]
  },
  {
   "cell_type": "code",
   "execution_count": 8,
   "id": "26a4f7c1-8544-46ef-95ea-cc9b6cbe867b",
   "metadata": {},
   "outputs": [
    {
     "name": "stdout",
     "output_type": "stream",
     "text": [
      "List of Squares: [1, 4, 9, 16, 25, 36, 49, 64, 81, 100]\n",
      "List Cubes: [1, 8, 27, 64, 125, 216, 343, 512, 729, 1000]\n",
      "Both threads are completely executed.\n"
     ]
    }
   ],
   "source": [
    "import threading\n",
    "\n",
    "def func_squares():\n",
    "    squares = [x*x for x in range(1, 11)]\n",
    "    print(\"List of Squares:\", squares)\n",
    "\n",
    "def func_cubes():\n",
    "    cubes = [x*x*x for x in range(1, 11)]\n",
    "    print(\"List Cubes:\", cubes)\n",
    "\n",
    "thread1 = threading.Thread(target=func_squares)\n",
    "thread2 = threading.Thread(target=func_cubes)\n",
    "\n",
    "thread1.start()\n",
    "thread2.start()\n",
    "\n",
    "thread1.join()\n",
    "thread2.join()\n",
    "\n",
    "print(\"Both threads are completely executed.\")"
   ]
  },
  {
   "cell_type": "code",
   "execution_count": null,
   "id": "e8092c59-3718-4b92-9723-d49837d31dcf",
   "metadata": {},
   "outputs": [],
   "source": []
  },
  {
   "cell_type": "markdown",
   "id": "22db01c6-3fed-42ca-a927-3c351ba07593",
   "metadata": {},
   "source": [
    "5. State advantages and disadvantages of multithreading.\n"
   ]
  },
  {
   "cell_type": "markdown",
   "id": "484c4d61-47ae-4495-868a-11775be4fb5e",
   "metadata": {},
   "source": [
    "Advantages:\n",
    "Efficient utilization of CPU resources.\n",
    "Enhanced program responsiveness.\n",
    "Parallelism for tasks that can be executed concurrently.\n",
    "\n",
    "Disadvantages:\n",
    "Complex to implement and debug due to shared memory.\n",
    "Potential for race conditions and deadlocks.\n",
    "Python's Global Interpreter Lock (GIL) limits the true parallelism for CPU-bound tasks."
   ]
  },
  {
   "cell_type": "code",
   "execution_count": null,
   "id": "5ebe0f7b-ea92-41fc-be6a-388b50fccd1d",
   "metadata": {},
   "outputs": [],
   "source": []
  },
  {
   "cell_type": "code",
   "execution_count": null,
   "id": "509cbba3-9164-436c-b99a-222da8e24d57",
   "metadata": {},
   "outputs": [],
   "source": [
    "6. Explain deadlocks and race conditions."
   ]
  },
  {
   "cell_type": "markdown",
   "id": "727eefc4-71ca-4e14-b7d1-13f0517ac7e1",
   "metadata": {},
   "source": [
    "Deadlock: A deadlock occurs when two or more threads are each waiting for another to release a resource, resulting in a standstill. None of the threads can proceed, and the program becomes unresponsive.\n",
    "\n",
    "Race Condition: A race condition occurs when multiple threads access shared resources concurrently, and the final outcome depends on the order of execution. It can lead to unpredictable results.\n"
   ]
  },
  {
   "cell_type": "code",
   "execution_count": null,
   "id": "b46d1a77-ac94-4758-886c-a666f789107e",
   "metadata": {},
   "outputs": [],
   "source": []
  }
 ],
 "metadata": {
  "kernelspec": {
   "display_name": "Python 3 (ipykernel)",
   "language": "python",
   "name": "python3"
  },
  "language_info": {
   "codemirror_mode": {
    "name": "ipython",
    "version": 3
   },
   "file_extension": ".py",
   "mimetype": "text/x-python",
   "name": "python",
   "nbconvert_exporter": "python",
   "pygments_lexer": "ipython3",
   "version": "3.10.8"
  }
 },
 "nbformat": 4,
 "nbformat_minor": 5
}
