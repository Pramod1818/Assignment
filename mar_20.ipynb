{
 "cells": [
  {
   "cell_type": "markdown",
   "id": "c31803d5-32f5-471d-9201-a72454675512",
   "metadata": {},
   "source": [
    "Q1. What is data encoding? How is it useful in data science?\n"
   ]
  },
  {
   "cell_type": "markdown",
   "id": "32019770-3f9f-4766-854a-b7c8ebd2ca4a",
   "metadata": {},
   "source": [
    "Data encoding refers to the process of converting categorical or textual data into a numerical format that can be used by machine learning algorithms.\n",
    "\n",
    "It is useful in data science because many machine learning algorithms require numerical input, and encoding helps transform non-numeric data into a suitable format for analysis."
   ]
  },
  {
   "cell_type": "markdown",
   "id": "963cd377-b82d-4468-ab1d-4efcf123992f",
   "metadata": {},
   "source": []
  },
  {
   "cell_type": "markdown",
   "id": "c4685304-44ae-4383-8098-90068c3bd380",
   "metadata": {},
   "source": [
    "Q2. What is nominal encoding? Provide an example of how you would use it in a real-world scenario."
   ]
  },
  {
   "cell_type": "markdown",
   "id": "89472156-567b-48da-8e47-d9249ce58aad",
   "metadata": {},
   "source": [
    "Nominal encoding, also known as label encoding, is a technique where each unique category in a categorical variable is assigned a unique integer value. For example, in a \"Color\" feature with values \"Red,\" \"Green,\" and \"Blue,\" you could encode them as 0, 1, and 2.\n",
    "\n",
    "Example: Suppose we're analyzing a dataset of customer feedback where customers are categorized as \"Positive,\" \"Neutral,\" and \"Negative.\" we can encode them as 0, 1, and 2, respectively."
   ]
  },
  {
   "cell_type": "code",
   "execution_count": null,
   "id": "b29ff3b6-2657-483a-9600-f62bd0d55788",
   "metadata": {},
   "outputs": [],
   "source": []
  },
  {
   "cell_type": "markdown",
   "id": "4b61afe8-0997-4221-8233-fe01cd3e7217",
   "metadata": {},
   "source": [
    "Q3. In what situations is nominal encoding preferred over one-hot encoding? Provide a practical example."
   ]
  },
  {
   "cell_type": "markdown",
   "id": "a999bf03-10b8-42dd-aa41-d9ce94f8a645",
   "metadata": {},
   "source": [
    "Nominal encoding is preferred over one-hot encoding when the categorical feature has an ordinal relationship, meaning there is a meaningful order among the categories. One-hot encoding would unnecessarily introduce additional dimensions in this case.\n",
    "\n",
    "Example: If we have a dataset with education levels categorized as \"High School,\" \"Bachelor's,\" \"Master's,\" and \"PhD,\" and these levels represent increasing education, using nominal encoding would preserve the ordinal information."
   ]
  },
  {
   "cell_type": "code",
   "execution_count": null,
   "id": "ad8aae69-0002-4152-b72b-03323a3c3d6e",
   "metadata": {},
   "outputs": [],
   "source": []
  },
  {
   "cell_type": "markdown",
   "id": "c934a228-578f-41db-ae83-57236be30faf",
   "metadata": {},
   "source": [
    "Q4. Suppose you have a dataset containing categorical data with 5 unique values. Which encoding\n",
    "technique would you use to transform this data into a format suitable for machine learning algorithms?\n",
    "Explain why you made this choice."
   ]
  },
  {
   "cell_type": "markdown",
   "id": "688c2ed3-564c-4a22-8033-642ab1d296c6",
   "metadata": {},
   "source": [
    "If the categorical data has a natural ordering or represents an ordinal relationship, nominal encoding can be used to transform it into a suitable format for machine learning algorithms. This maintains the ordinal relationship and doesn't introduce unnecessary dimensions like one-hot encoding would."
   ]
  },
  {
   "cell_type": "code",
   "execution_count": null,
   "id": "f645b880-11d7-4592-8c96-29dec85ba86d",
   "metadata": {},
   "outputs": [],
   "source": []
  },
  {
   "cell_type": "markdown",
   "id": "047c16c5-c8ec-4708-8833-b85ebce6916f",
   "metadata": {},
   "source": [
    "Q5. In a machine learning project, you have a dataset with 1000 rows and 5 columns. Two of the columns\n",
    "are categorical, and the remaining three columns are numerical. If you were to use nominal encoding to\n",
    "transform the categorical data, how many new columns would be created? Show your calculations."
   ]
  },
  {
   "cell_type": "markdown",
   "id": "d6f313ef-4a4b-4732-bfb1-5e5d02f7af2a",
   "metadata": {},
   "source": [
    "If we were to use nominal encoding on two categorical columns with 5 unique values each, you would create 2 new columns (one for each categorical column). This is because each unique value is assigned a distinct integer label. So, 5 unique values in each column would result in 5 different integer labels for each column."
   ]
  },
  {
   "cell_type": "code",
   "execution_count": null,
   "id": "519baf55-e4f1-4336-a8c4-a0dd627a7c46",
   "metadata": {},
   "outputs": [],
   "source": []
  },
  {
   "cell_type": "markdown",
   "id": "a3894de3-9af4-4b18-acd9-12eb9f64fed3",
   "metadata": {},
   "source": [
    "Q6. You are working with a dataset containing information about different types of animals, including their\n",
    "species, habitat, and diet. Which encoding technique would you use to transform the categorical data into\n",
    "a format suitable for machine learning algorithms? Justify your answer."
   ]
  },
  {
   "cell_type": "markdown",
   "id": "f2451a54-d0d8-43fb-918d-d08ab6db7dfc",
   "metadata": {},
   "source": [
    "For the dataset containing information about different types of animals, where the categorical features include \"species,\" \"habitat,\" and \"diet,\" one-hot encoding would be more appropriate. This is because these categorical features are not ordinal and don't have a natural ordering. One-hot encoding would create binary columns for each unique category, allowing the model to learn different patterns associated with each category."
   ]
  },
  {
   "cell_type": "code",
   "execution_count": null,
   "id": "2cb83f63-66b9-41d5-bf5c-38d1724b8372",
   "metadata": {},
   "outputs": [],
   "source": []
  },
  {
   "cell_type": "markdown",
   "id": "6df91311-7271-474d-831e-d9c2183233be",
   "metadata": {},
   "source": [
    "Q7.You are working on a project that involves predicting customer churn for a telecommunications\n",
    "company. You have a dataset with 5 features, including the customer's gender, age, contract type,\n",
    "monthly charges, and tenure. Which encoding technique(s) would you use to transform the categorical\n",
    "data into numerical data? Provide a step-by-step explanation of how you would implement the encoding."
   ]
  },
  {
   "cell_type": "markdown",
   "id": "b808bb53-cbd6-47ad-a9c7-29b4eb0d3c02",
   "metadata": {},
   "source": [
    "To transform the categorical data into numerical data for the customer churn prediction project:\n",
    "\n",
    "Step 1: For the \"gender\" feature, we can use nominal encoding. Encode \"Male\" as 0 and \"Female\" as 1.\n",
    "Step 2: For the \"contract type\" feature, we can use nominal encoding. Encode \"Month-to-month\" as 0, \"One year\" as 1, and \"Two year\" as 2.\n",
    "\n",
    "Now we have transformed the categorical features into numerical format suitable for machine learning algorithms. Numerical columns like \"age,\" \"monthly charges,\" and \"tenure\" can be used as they are. The resulting dataset will have a mix of numerical and encoded categorical columns, ready for model training."
   ]
  },
  {
   "cell_type": "code",
   "execution_count": null,
   "id": "b46528a8-2f51-4d11-8f1d-5449841b8ac2",
   "metadata": {},
   "outputs": [],
   "source": []
  }
 ],
 "metadata": {
  "kernelspec": {
   "display_name": "Python 3 (ipykernel)",
   "language": "python",
   "name": "python3"
  },
  "language_info": {
   "codemirror_mode": {
    "name": "ipython",
    "version": 3
   },
   "file_extension": ".py",
   "mimetype": "text/x-python",
   "name": "python",
   "nbconvert_exporter": "python",
   "pygments_lexer": "ipython3",
   "version": "3.10.8"
  }
 },
 "nbformat": 4,
 "nbformat_minor": 5
}
