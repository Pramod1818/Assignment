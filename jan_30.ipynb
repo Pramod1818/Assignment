{
 "cells": [
  {
   "cell_type": "markdown",
   "id": "4b83776a-4676-4602-b4b9-5f214541b35a",
   "metadata": {},
   "source": [
    "1. Write a program to accept percentage from the user and display the grade according to the following criteria:\n",
    "Marks  Grade\n",
    ">90  A\n",
    ">80 and <=90  B\n",
    ">60 and 80  C\n",
    "below 60  D"
   ]
  },
  {
   "cell_type": "code",
   "execution_count": 23,
   "id": "136db2b0-66a3-48ba-ae1e-888022cad87a",
   "metadata": {},
   "outputs": [
    {
     "name": "stdin",
     "output_type": "stream",
     "text": [
      "Enter the percentage obtained :  93\n"
     ]
    },
    {
     "name": "stdout",
     "output_type": "stream",
     "text": [
      "Your Grade is : A\n"
     ]
    }
   ],
   "source": [
    "percentage = float(input(\"Enter the percentage obtained : \"))\n",
    "\n",
    "if percentage > 90:\n",
    "    grade = 'A'\n",
    "elif percentage > 80:\n",
    "    grade = 'B'\n",
    "elif percentage > 60:\n",
    "    grade = 'C'\n",
    "else:\n",
    "    grade = 'D'\n",
    "\n",
    "print(f\"Your Grade is : {grade}\")"
   ]
  },
  {
   "cell_type": "code",
   "execution_count": null,
   "id": "6b7817b2-2840-4ef7-948e-12f91033d159",
   "metadata": {},
   "outputs": [],
   "source": []
  },
  {
   "cell_type": "markdown",
   "id": "1be3bcf4-5fa2-4f2e-aba7-ef3ceab46e07",
   "metadata": {},
   "source": [
    "2. Write a program to accept the cost price of a bike and display the road tax to be paid according to the following criteria:\n",
    "\n",
    "Tax Cost Price(in Rs)\n",
    "15% > 100000\n",
    "10% >50000 and <= 100000\n",
    "5% <= 50000\n",
    "\n"
   ]
  },
  {
   "cell_type": "code",
   "execution_count": 24,
   "id": "bd1a5b64-c0a9-4de5-be59-0646802fd316",
   "metadata": {},
   "outputs": [
    {
     "name": "stdin",
     "output_type": "stream",
     "text": [
      "Enter the cost price of the bike:  87000\n"
     ]
    },
    {
     "name": "stdout",
     "output_type": "stream",
     "text": [
      "Road tax to be paid: Rs 8700.00\n"
     ]
    }
   ],
   "source": [
    "cost_price = float(input(\"Enter the cost price of the bike: \"))\n",
    "\n",
    "if cost_price > 100000:\n",
    "    tax = cost_price * 0.15\n",
    "elif cost_price > 50000:\n",
    "    tax = cost_price * 0.10\n",
    "else:\n",
    "    tax = cost_price * 0.05\n",
    "\n",
    "print(f\"Road tax to be paid: Rs {tax:.2f}\")\n"
   ]
  },
  {
   "cell_type": "code",
   "execution_count": null,
   "id": "0280cd6d-90f9-494d-ad97-9ccac5a22181",
   "metadata": {},
   "outputs": [],
   "source": []
  },
  {
   "cell_type": "markdown",
   "id": "61a30da3-ae19-4452-ae1c-cb1516a0c725",
   "metadata": {},
   "source": [
    "3. Accept any city from the user and display monuments of that city.\n",
    "\n",
    "City Monument\n",
    "\n",
    "Delhi Red  Fort\n",
    "Agra  Taj Mahal\n",
    "Jaipur  Jal Mahal\n",
    "\n"
   ]
  },
  {
   "cell_type": "code",
   "execution_count": 13,
   "id": "3137e95c-c4d1-44a2-a05e-f1cf8eaa2dee",
   "metadata": {},
   "outputs": [
    {
     "name": "stdin",
     "output_type": "stream",
     "text": [
      "Enter a city:  Jaipur\n"
     ]
    },
    {
     "name": "stdout",
     "output_type": "stream",
     "text": [
      "The monument in Jaipur is Jal Mahal.\n"
     ]
    }
   ],
   "source": [
    "city = input(\"Enter a city: \")\n",
    "\n",
    "monuments = {\n",
    "    \"Delhi\": \"Red Fort\",\n",
    "    \"Agra\": \"Taj Mahal\",\n",
    "    \"Jaipur\": \"Jal Mahal\"\n",
    "}\n",
    "\n",
    "if city in monuments:\n",
    "    print(f\"The monument in {city} is {monuments[city]}.\")\n",
    "else:\n",
    "    print(\"Monument information not available for this city.\")\n"
   ]
  },
  {
   "cell_type": "code",
   "execution_count": null,
   "id": "fee105af-41c2-4a17-9494-e31064da9cbc",
   "metadata": {},
   "outputs": [],
   "source": []
  },
  {
   "cell_type": "markdown",
   "id": "f5085032-53a1-414b-8cfd-48fa354aaf5d",
   "metadata": {},
   "source": [
    "4. Check how many times a given number can be divided by 3 before it is less than or equal to 10\n",
    "\n"
   ]
  },
  {
   "cell_type": "code",
   "execution_count": 16,
   "id": "da9cc646-eb44-4db5-bb5b-47ccdf117364",
   "metadata": {},
   "outputs": [
    {
     "name": "stdin",
     "output_type": "stream",
     "text": [
      "Enter a number:  350\n"
     ]
    },
    {
     "name": "stdout",
     "output_type": "stream",
     "text": [
      "The number can be divided by 3, 4 times before it is <= 10.\n"
     ]
    }
   ],
   "source": [
    "no = int(input(\"Enter a number: \"))\n",
    "count = 0\n",
    "\n",
    "while no > 10:\n",
    "    no /= 3\n",
    "    count += 1\n",
    "\n",
    "print(f\"The number can be divided by 3, {count} times before it is <= 10.\")\n"
   ]
  },
  {
   "cell_type": "code",
   "execution_count": null,
   "id": "b4e17ca9-4c16-4522-819e-8245626a3942",
   "metadata": {},
   "outputs": [],
   "source": []
  },
  {
   "cell_type": "markdown",
   "id": "895f45d9-850e-4ef3-b490-8a218a7638f5",
   "metadata": {},
   "source": [
    "5. Why and When to Use while Loop in Python give a detailed description with example.\n",
    "\n"
   ]
  },
  {
   "cell_type": "markdown",
   "id": "a6fb7ad7-f611-4d59-9811-b7d6a33837f2",
   "metadata": {},
   "source": [
    "A while loop in Python is used to repeatedly execute a block of code as long as a given condition is True. It's useful when we want to perform a task multiple times until a certain condition is satisfied."
   ]
  },
  {
   "cell_type": "code",
   "execution_count": 18,
   "id": "2c840b9c-39e5-4cf1-9d55-c11337b271be",
   "metadata": {},
   "outputs": [
    {
     "name": "stdout",
     "output_type": "stream",
     "text": [
      "1\n",
      "2\n",
      "3\n",
      "4\n",
      "5\n"
     ]
    }
   ],
   "source": [
    "n = 1\n",
    "while n <= 5:\n",
    "    print(n)\n",
    "    n += 1\n"
   ]
  },
  {
   "cell_type": "code",
   "execution_count": null,
   "id": "8dc8fc50-e279-4989-8e8c-554aa2343ad5",
   "metadata": {},
   "outputs": [],
   "source": []
  },
  {
   "cell_type": "markdown",
   "id": "d551616c-b248-467c-ac6c-210475890acd",
   "metadata": {},
   "source": [
    "6. Use nested while loop to print 3 different pattern.\n",
    "\n"
   ]
  },
  {
   "cell_type": "code",
   "execution_count": 19,
   "id": "18227334-0c43-46f2-90a9-edb36ad014ea",
   "metadata": {},
   "outputs": [
    {
     "name": "stdout",
     "output_type": "stream",
     "text": [
      "* \n",
      "* * \n",
      "* * * \n",
      "* * * * \n",
      "* * * * * \n"
     ]
    }
   ],
   "source": [
    "n = 5\n",
    "i = 1\n",
    "while i <= n:\n",
    "    j = 1\n",
    "    while j <= i:\n",
    "        print(\"*\", end=\" \")\n",
    "        j += 1\n",
    "    print()\n",
    "    i += 1\n"
   ]
  },
  {
   "cell_type": "code",
   "execution_count": 20,
   "id": "829b3c9a-b051-4ebb-ab20-e513d7e5f00a",
   "metadata": {},
   "outputs": [
    {
     "name": "stdout",
     "output_type": "stream",
     "text": [
      "* * * * * \n",
      "* * * * \n",
      "* * * \n",
      "* * \n",
      "* \n"
     ]
    }
   ],
   "source": [
    "n = 5\n",
    "i = 1\n",
    "while i <= n:\n",
    "    j = n\n",
    "    while j >= i:\n",
    "        print(\"*\", end=\" \")\n",
    "        j -= 1\n",
    "    print()\n",
    "    i += 1\n"
   ]
  },
  {
   "cell_type": "code",
   "execution_count": 21,
   "id": "6883d650-93d0-427d-9ec5-3f06963082c1",
   "metadata": {},
   "outputs": [
    {
     "name": "stdout",
     "output_type": "stream",
     "text": [
      "        * \n",
      "      * * \n",
      "    * * * \n",
      "  * * * * \n",
      "* * * * * \n"
     ]
    }
   ],
   "source": [
    "n = 5\n",
    "i = 1\n",
    "while i <= n:\n",
    "    spaces = n - i\n",
    "    while spaces > 0:\n",
    "        print(\" \", end=\" \")\n",
    "        spaces -= 1\n",
    "    j = 1\n",
    "    while j <= i:\n",
    "        print(\"*\", end=\" \")\n",
    "        j += 1\n",
    "    print()\n",
    "    i += 1\n"
   ]
  },
  {
   "cell_type": "code",
   "execution_count": null,
   "id": "738a2c76-4c0a-4c5e-9b7e-c9d42033f9b1",
   "metadata": {},
   "outputs": [],
   "source": []
  },
  {
   "cell_type": "markdown",
   "id": "e931e4c8-4bfe-4b8e-84de-4653cd76d25a",
   "metadata": {},
   "source": [
    "7. Reverse a while loop to display numbers from 10 to 1.\n",
    "\n"
   ]
  },
  {
   "cell_type": "code",
   "execution_count": 22,
   "id": "dbd66105-afac-408f-b8a5-6544aa7639e6",
   "metadata": {},
   "outputs": [
    {
     "name": "stdout",
     "output_type": "stream",
     "text": [
      "10\n",
      "9\n",
      "8\n",
      "7\n",
      "6\n",
      "5\n",
      "4\n",
      "3\n",
      "2\n",
      "1\n"
     ]
    }
   ],
   "source": [
    "num = 10\n",
    "while num >= 1:\n",
    "    print(num)\n",
    "    num -= 1\n"
   ]
  },
  {
   "cell_type": "code",
   "execution_count": null,
   "id": "13947552-9fc9-49fb-be27-6ec098843639",
   "metadata": {},
   "outputs": [],
   "source": []
  },
  {
   "cell_type": "markdown",
   "id": "95d18b9d-3870-4210-a8c4-fb8a6946acd9",
   "metadata": {},
   "source": [
    "8. Reverse a while loop to display numbers from 10 to 1"
   ]
  },
  {
   "cell_type": "markdown",
   "id": "b987e5a1-b97b-483c-941b-d1b875ad7bb0",
   "metadata": {},
   "source": [
    "same prvs answer."
   ]
  },
  {
   "cell_type": "code",
   "execution_count": null,
   "id": "1d656ae4-2ab4-4527-b644-00d50246f634",
   "metadata": {},
   "outputs": [],
   "source": []
  }
 ],
 "metadata": {
  "kernelspec": {
   "display_name": "Python 3 (ipykernel)",
   "language": "python",
   "name": "python3"
  },
  "language_info": {
   "codemirror_mode": {
    "name": "ipython",
    "version": 3
   },
   "file_extension": ".py",
   "mimetype": "text/x-python",
   "name": "python",
   "nbconvert_exporter": "python",
   "pygments_lexer": "ipython3",
   "version": "3.10.8"
  }
 },
 "nbformat": 4,
 "nbformat_minor": 5
}
