{
 "cells": [
  {
   "cell_type": "markdown",
   "id": "7469d355-3386-4600-a512-fd47103a244c",
   "metadata": {},
   "source": [
    "Q1. Create a Pandas Series that contains the following data: 4, 8, 15, 16, 23, and 42. Then, print the series."
   ]
  },
  {
   "cell_type": "code",
   "execution_count": 20,
   "id": "4350eb28-4f16-4068-8f56-da0c7b2031ca",
   "metadata": {},
   "outputs": [
    {
     "name": "stdout",
     "output_type": "stream",
     "text": [
      "0     4\n",
      "1     8\n",
      "2    15\n",
      "3    16\n",
      "4    23\n",
      "5    42\n",
      "dtype: int64\n"
     ]
    }
   ],
   "source": [
    "import pandas as pd\n",
    "\n",
    "data = [4, 8, 15, 16, 23, 42]\n",
    "series = pd.Series(data)\n",
    "print(series)"
   ]
  },
  {
   "cell_type": "code",
   "execution_count": null,
   "id": "bf268991-cc1c-46dd-b16f-aa2b298b7472",
   "metadata": {},
   "outputs": [],
   "source": []
  },
  {
   "cell_type": "markdown",
   "id": "13e9fdfe-6556-444d-b7ec-837b8cd64bd7",
   "metadata": {},
   "source": [
    "Q2. Create a variable of list type containing 10 elements in it, and apply pandas.Series function on the\n",
    "variable print it."
   ]
  },
  {
   "cell_type": "code",
   "execution_count": 22,
   "id": "5aa3b801-976a-4639-970d-f1498f989e8f",
   "metadata": {},
   "outputs": [
    {
     "name": "stdout",
     "output_type": "stream",
     "text": [
      "0    13\n",
      "1    26\n",
      "2    37\n",
      "3    38\n",
      "4    41\n",
      "5    44\n",
      "6    48\n",
      "7    53\n",
      "8    65\n",
      "9    78\n",
      "dtype: int64\n"
     ]
    }
   ],
   "source": [
    "list_data = [13, 26, 37, 38, 41, 44, 48, 53, 65, 78]\n",
    "series_from_list = pd.Series(list_data)\n",
    "print(series_from_list)"
   ]
  },
  {
   "cell_type": "code",
   "execution_count": null,
   "id": "d9e475f3-4374-4766-8853-02510a49216c",
   "metadata": {},
   "outputs": [],
   "source": []
  },
  {
   "cell_type": "markdown",
   "id": "c6ed2bcc-d970-49f7-98c6-6a28a48f2dc7",
   "metadata": {},
   "source": [
    "Q3. Create a Pandas DataFrame that contains the following data:\n",
    "Name     Age    Genderb\n",
    "Alice    25    Female\n",
    "Bob      30    male\n",
    "Claire   27    Female     \n",
    "Then, print the DataFrame."
   ]
  },
  {
   "cell_type": "code",
   "execution_count": 24,
   "id": "2fc26924-ef61-4e72-b6cb-1edf8c029c26",
   "metadata": {},
   "outputs": [
    {
     "name": "stdout",
     "output_type": "stream",
     "text": [
      "     Name  Age  Gender\n",
      "0   Alice   25  Female\n",
      "1     Bob   30    male\n",
      "2  Claire   27  Female\n"
     ]
    }
   ],
   "source": [
    "data = {'Name': ['Alice', 'Bob', 'Claire'],\n",
    "        'Age': [25, 30, 27],\n",
    "        'Gender': ['Female', 'male', 'Female']}\n",
    "df = pd.DataFrame(data)\n",
    "print(df)"
   ]
  },
  {
   "cell_type": "code",
   "execution_count": null,
   "id": "667339c4-cad4-4d34-bc4d-a73e821ef452",
   "metadata": {},
   "outputs": [],
   "source": []
  },
  {
   "cell_type": "markdown",
   "id": "a674055e-baa1-40b6-9c03-6aadba5710af",
   "metadata": {},
   "source": [
    "Q4. What is ‘DataFrame’ in pandas and how is it different from pandas.series? Explain with an example.\n"
   ]
  },
  {
   "cell_type": "markdown",
   "id": "48cbca09-60d3-44a1-b7ed-f8116055a4c0",
   "metadata": {},
   "source": [
    "A DataFrame in pandas is a two-dimensional, size-mutable, and heterogeneous tabular data structure with labeled axes (rows and columns). It can store data of different types and is often used to represent structured data like SQL tables or Excel spreadsheets. A DataFrame can be thought of as a collection of Pandas Series, where each Series represents a column of the DataFrame.\n",
    "\n",
    "Example of the difference between Series and DataFrame:"
   ]
  },
  {
   "cell_type": "code",
   "execution_count": 25,
   "id": "938ced11-5f4e-4a1a-83b0-2fa002f18353",
   "metadata": {},
   "outputs": [
    {
     "name": "stdout",
     "output_type": "stream",
     "text": [
      "Series data:\n",
      "0     1\n",
      "1     2\n",
      "2     3\n",
      "3     4\n",
      "4     5\n",
      "5     6\n",
      "6     7\n",
      "7     8\n",
      "8     9\n",
      "9    10\n",
      "dtype: int64\n",
      "\n",
      "DataFrame of pandas:\n",
      "   Column_A Column_B\n",
      "0         1        A\n",
      "1         2        B\n",
      "2         3        C\n",
      "3         4        D\n"
     ]
    }
   ],
   "source": [
    "# Creating a Series\n",
    "s = pd.Series(range(1,11))\n",
    "\n",
    "# Creating a DataFrame from a dictionary\n",
    "dict_data = {'Column_A': [1, 2, 3, 4],\n",
    "        'Column_B': ['A', 'B', 'C', 'D']}\n",
    "df = pd.DataFrame(dict_data)\n",
    "\n",
    "print(\"Series data:\")\n",
    "print(s)\n",
    "print(\"\\nDataFrame of pandas:\")\n",
    "print(df)\n"
   ]
  },
  {
   "cell_type": "markdown",
   "id": "0291cc62-732b-4b3d-968b-7618b1006364",
   "metadata": {},
   "source": [
    "Q5. What are some common functions you can use to manipulate data in a Pandas DataFrame? Can\n",
    "you give an example of when you might use one of these functions?\n"
   ]
  },
  {
   "cell_type": "markdown",
   "id": "d566dd90-bef7-4505-9b24-483f5ea2fa40",
   "metadata": {},
   "source": [
    "head(), tail(), info(), describe(), sort_values(), groupby(), pivot_table(), drop(), fillna(), merge(), and more.\n",
    "\n",
    "\n",
    "# Grouping data by 'Gender' and calculating the average age for each gender\n",
    "avg_age_by_gender = df.groupby('Gender')['Age'].mean()\n",
    "print(avg_age_by_gender)\n"
   ]
  },
  {
   "cell_type": "code",
   "execution_count": null,
   "id": "feaa967f-e303-4ce6-b294-4a4c2c5a4fd2",
   "metadata": {},
   "outputs": [],
   "source": []
  },
  {
   "cell_type": "markdown",
   "id": "34f15fb0-c653-4438-9853-05f2741789a5",
   "metadata": {},
   "source": [
    "Q6. Which of the following is mutable in nature Series, DataFrame, Panel?\n"
   ]
  },
  {
   "cell_type": "markdown",
   "id": "88eeda4a-1e25-4d2d-9b5b-ed9f29b4b529",
   "metadata": {},
   "source": [
    "Among Series, DataFrame, and Panel (deprecated), only Series and DataFrame are currently part of the core Pandas library. Both Series and DataFrame are mutable in nature. You can modify their content and structure after creation."
   ]
  },
  {
   "cell_type": "code",
   "execution_count": null,
   "id": "2341f4f6-1470-41e7-adc9-e86307addc14",
   "metadata": {},
   "outputs": [],
   "source": []
  },
  {
   "cell_type": "markdown",
   "id": "a8cadabe-4965-4415-b1a0-446f749e04b1",
   "metadata": {},
   "source": [
    "Q7. Create a DataFrame using multiple Series. Explain with an example."
   ]
  },
  {
   "cell_type": "code",
   "execution_count": 28,
   "id": "de14ac10-83d9-4295-8af7-5fda4ff92c68",
   "metadata": {},
   "outputs": [
    {
     "name": "stdout",
     "output_type": "stream",
     "text": [
      "     Name  Age  Weight\n",
      "0   Naman   25      60\n",
      "1  Mayank   30      78\n",
      "2  Suresh   29      68\n",
      "3   Rohit   31      80\n"
     ]
    }
   ],
   "source": [
    "\n",
    "names = pd.Series(['Naman', 'Mayank', 'Suresh','Rohit'])\n",
    "ages = pd.Series([25, 30, 29,31])\n",
    "weight = pd.Series([60,78,68,80])\n",
    "\n",
    "\n",
    "data = {'Name': names, 'Age': ages, 'Weight': weight}\n",
    "df = pd.DataFrame(data)\n",
    "print(df)\n"
   ]
  }
 ],
 "metadata": {
  "kernelspec": {
   "display_name": "Python 3 (ipykernel)",
   "language": "python",
   "name": "python3"
  },
  "language_info": {
   "codemirror_mode": {
    "name": "ipython",
    "version": 3
   },
   "file_extension": ".py",
   "mimetype": "text/x-python",
   "name": "python",
   "nbconvert_exporter": "python",
   "pygments_lexer": "ipython3",
   "version": "3.10.8"
  }
 },
 "nbformat": 4,
 "nbformat_minor": 5
}
