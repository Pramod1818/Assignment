{
 "cells": [
  {
   "cell_type": "markdown",
   "id": "ab4c780b-97e6-4fa6-9238-05f0df644606",
   "metadata": {},
   "source": [
    "Q1. Which keyword is used to create a function? Create a function to return a list of odd numbers in the\n",
    "range of 1 to 25.\n"
   ]
  },
  {
   "cell_type": "code",
   "execution_count": null,
   "id": "fb1f0e42-0980-4baa-9ea4-d403a542eddd",
   "metadata": {},
   "outputs": [],
   "source": [
    "# def is the keyword used for function creation."
   ]
  },
  {
   "cell_type": "code",
   "execution_count": 8,
   "id": "1f70968b-95b8-4b16-a941-fde20e2452de",
   "metadata": {},
   "outputs": [
    {
     "name": "stdout",
     "output_type": "stream",
     "text": [
      "List of odd numbers: [1, 3, 5, 7, 9, 11, 13, 15, 17, 19, 21, 23, 25]\n"
     ]
    }
   ],
   "source": [
    "def odd_nos():\n",
    "    odd_numbers = [num for num in range(1,26) if num % 2 != 0]\n",
    "    return odd_numbers\n",
    "\n",
    "odd_list = odd_nos()\n",
    "print(\"List of odd numbers:\", odd_list)\n"
   ]
  },
  {
   "cell_type": "code",
   "execution_count": null,
   "id": "c914750f-d27b-463b-95a5-1c78d2f8fece",
   "metadata": {},
   "outputs": [],
   "source": []
  },
  {
   "cell_type": "markdown",
   "id": "edcbbce0-3d7e-410b-9e50-a5f83dff0ec7",
   "metadata": {},
   "source": [
    "Q2. Why *args and **kwargs is used in some functions? Create a function each for *args and **kwargs\n",
    "to demonstrate their use.\n"
   ]
  },
  {
   "cell_type": "code",
   "execution_count": null,
   "id": "1d28ff27-5e08-4700-874d-4c80e92a9e43",
   "metadata": {},
   "outputs": [],
   "source": [
    "#dictionary is a list in which  keys and there corresponding values will store.\n",
    "# *args: By using this we can pass any number of arguments  to the function and it should not be a dictionary argument\n",
    "\n",
    "# **kwargs: By using this we can pass any number of arguments to the function and it should be a dictionary argument.\n"
   ]
  },
  {
   "cell_type": "code",
   "execution_count": 11,
   "id": "293a29f5-c7db-47d8-8205-64c88272c82d",
   "metadata": {},
   "outputs": [
    {
     "name": "stdout",
     "output_type": "stream",
     "text": [
      "Arguments: (1, 2, 3)\n",
      "Keyword arguments or dictionary: {'a': 10, 'b': 20, 'c': 30}\n"
     ]
    }
   ],
   "source": [
    "def func_args(*args):\n",
    "    print(\"Arguments:\", args)\n",
    "\n",
    "def func_kwargs(**kwargs):\n",
    "    print(\"Keyword arguments or dictionary:\", kwargs)\n",
    "\n",
    "func_args(1, 2, 3)\n",
    "func_kwargs(a=10, b=20, c=30)\n"
   ]
  },
  {
   "cell_type": "code",
   "execution_count": null,
   "id": "33b69819-6ace-45b5-a2af-117e477a76eb",
   "metadata": {},
   "outputs": [],
   "source": []
  },
  {
   "cell_type": "markdown",
   "id": "a7802624-337e-4a13-8789-8b7fce4f1136",
   "metadata": {},
   "source": [
    "Q3. What is an iterator in python? Name the method used to initialise the iterator object and the method\n",
    "used for iteration. Use these methods to print the first five elements of the \n",
    "given list [2, 4, 6, 8, 10, 12, 14, 16, 18, 20].\n"
   ]
  },
  {
   "cell_type": "code",
   "execution_count": null,
   "id": "c4d7e60e-6fe3-4d06-9cf7-f3c02ce9af49",
   "metadata": {},
   "outputs": [],
   "source": [
    "# An iterator is an object that can be iterated (looped) over. It has two methods: __iter__() to initialize \n",
    "# the iterator object and __next__() to get the next value in the iteration."
   ]
  },
  {
   "cell_type": "code",
   "execution_count": 12,
   "id": "f98c69f4-423e-4e42-90e7-3e33b954d2fc",
   "metadata": {},
   "outputs": [
    {
     "name": "stdout",
     "output_type": "stream",
     "text": [
      "2\n",
      "4\n",
      "6\n",
      "8\n",
      "10\n"
     ]
    }
   ],
   "source": [
    "list1 = [2, 4, 6, 8, 10, 12, 14, 16, 18, 20]\n",
    "iterator = iter(list1)\n",
    "\n",
    "for _ in range(5):\n",
    "    print(next(iterator))\n"
   ]
  },
  {
   "cell_type": "code",
   "execution_count": null,
   "id": "bc095df8-13b6-4945-900f-74e7236fc57e",
   "metadata": {},
   "outputs": [],
   "source": []
  },
  {
   "cell_type": "markdown",
   "id": "b15ee640-1a24-4032-856c-2a1b8292e344",
   "metadata": {},
   "source": [
    "Q4. What is a generator function in python? Why yield keyword is used? Give an example of a generator\n",
    "function.\n"
   ]
  },
  {
   "cell_type": "code",
   "execution_count": null,
   "id": "efad2c35-e6dd-4eeb-96e0-22c6fa9b5c4e",
   "metadata": {},
   "outputs": [],
   "source": [
    "# A generator function is a special type of function that generates values on-the-fly using the yield keyword.\n",
    "# It creates iterators without creating full lists in memory."
   ]
  },
  {
   "cell_type": "code",
   "execution_count": 31,
   "id": "24d7babc-1e9e-403f-aa55-1543d057aa10",
   "metadata": {},
   "outputs": [
    {
     "name": "stdout",
     "output_type": "stream",
     "text": [
      " In tis iteration. 1 is yeild. Next value will yield in next iteration\n",
      " In tis iteration. 2 is yeild. Next value will yield in next iteration\n",
      " In tis iteration. 3 is yeild. Next value will yield in next iteration\n"
     ]
    }
   ],
   "source": [
    "def gen_func():\n",
    "    yield 1\n",
    "    yield 2\n",
    "    yield 3\n",
    "\n",
    "gen = gen_func()\n",
    "for value in gen:\n",
    "    print(f' In tis iteration. {value} is yeild. Next value will yield in next iteration')\n",
    "   \n",
    "    "
   ]
  },
  {
   "cell_type": "code",
   "execution_count": null,
   "id": "1620b999-fe82-4f04-aa9b-68757b91462a",
   "metadata": {},
   "outputs": [],
   "source": []
  },
  {
   "cell_type": "markdown",
   "id": "2dedce40-ff8e-4ab3-b501-dd226bf6fbdb",
   "metadata": {},
   "source": [
    "Q5. Create a generator function for prime numbers less than 1000. Use the next() method to print the\n",
    "first 20 prime numbers.\n"
   ]
  },
  {
   "cell_type": "code",
   "execution_count": 34,
   "id": "5fc338ce-7786-47e1-a5a6-0c5500d98479",
   "metadata": {},
   "outputs": [
    {
     "name": "stdout",
     "output_type": "stream",
     "text": [
      "2\n",
      "3\n",
      "5\n",
      "7\n",
      "11\n",
      "13\n",
      "17\n",
      "19\n",
      "23\n",
      "29\n",
      "31\n",
      "37\n",
      "41\n",
      "43\n",
      "47\n",
      "53\n",
      "59\n",
      "61\n",
      "67\n",
      "71\n"
     ]
    }
   ],
   "source": [
    "def is_prime(n):\n",
    "    if n <= 1:\n",
    "        return False\n",
    "    for i in range(2, int(n ** 0.5) + 1):\n",
    "        if n % i == 0:\n",
    "            return False\n",
    "    return True\n",
    "\n",
    "def generate_prime(limit):\n",
    "    num = 2\n",
    "    count = 0\n",
    "    while count < limit:\n",
    "        if is_prime(num):\n",
    "            yield num\n",
    "            count += 1\n",
    "        num += 1\n",
    "\n",
    "prime_gen = generate_prime(20)\n",
    "for _ in range(20):\n",
    "    print(next(prime_gen))\n"
   ]
  },
  {
   "cell_type": "code",
   "execution_count": null,
   "id": "3dd24db2-b74e-4b7d-8868-08f8a566ff3b",
   "metadata": {},
   "outputs": [],
   "source": []
  },
  {
   "cell_type": "code",
   "execution_count": null,
   "id": "cd6d1d92-9825-4a6b-9b90-3956fb28d5f5",
   "metadata": {},
   "outputs": [],
   "source": []
  },
  {
   "cell_type": "markdown",
   "id": "4a136302-f91a-427b-b3fa-5bc56f13da6d",
   "metadata": {},
   "source": [
    "Q6. Write a python program to print the first 10 Fibonacci numbers using a while loop.\n"
   ]
  },
  {
   "cell_type": "code",
   "execution_count": 35,
   "id": "405bee21-c0a1-4e1d-9548-68ac8363bc6b",
   "metadata": {},
   "outputs": [
    {
     "name": "stdout",
     "output_type": "stream",
     "text": [
      "0 1 1 2 3 5 8 13 21 34 "
     ]
    }
   ],
   "source": [
    "a, b = 0, 1\n",
    "count = 0\n",
    "while count < 10:\n",
    "    print(a, end=\" \")\n",
    "    a, b = b, a + b\n",
    "    count += 1\n"
   ]
  },
  {
   "cell_type": "code",
   "execution_count": null,
   "id": "dc4be62a-ecb0-49c6-9440-41890c9304ef",
   "metadata": {},
   "outputs": [],
   "source": []
  },
  {
   "cell_type": "markdown",
   "id": "6c08c364-c229-4c57-bfc7-f1e7c0df75b3",
   "metadata": {},
   "source": [
    "Q7. Write a List Comprehension to iterate through the given string: ‘pwskills’.\n",
    "Expected output: ['p', 'w', 's', 'k', 'i', 'l', 'l', 's']\n"
   ]
  },
  {
   "cell_type": "code",
   "execution_count": 36,
   "id": "8e5ddd59-8543-42b7-b4d3-fdac0f6fe5e3",
   "metadata": {},
   "outputs": [
    {
     "name": "stdout",
     "output_type": "stream",
     "text": [
      "['p', 'w', 's', 'k', 'i', 'l', 'l', 's']\n"
     ]
    }
   ],
   "source": [
    "string = 'pwskills'\n",
    "output = [char for char in string ]\n",
    "print(output)\n"
   ]
  },
  {
   "cell_type": "code",
   "execution_count": null,
   "id": "11783ca5-b58e-41b1-9d3c-a753230a091e",
   "metadata": {},
   "outputs": [],
   "source": []
  },
  {
   "cell_type": "markdown",
   "id": "4a733858-0a24-43e2-b856-fd19ee1ed6ff",
   "metadata": {},
   "source": [
    "Q8. Write a python program to check whether a given number is Palindrome or not using a while loop.\n"
   ]
  },
  {
   "cell_type": "code",
   "execution_count": 37,
   "id": "73eaacec-722f-40df-9726-f6b5fbe4d7b6",
   "metadata": {},
   "outputs": [
    {
     "name": "stdin",
     "output_type": "stream",
     "text": [
      "Enter a number:  16161\n"
     ]
    },
    {
     "name": "stdout",
     "output_type": "stream",
     "text": [
      "Palindrome\n"
     ]
    }
   ],
   "source": [
    "number = int(input(\"Enter a number: \"))\n",
    "given_no = number\n",
    "reverse = 0\n",
    "\n",
    "while number > 0:\n",
    "    digit = number % 10\n",
    "    reverse = reverse * 10 + digit\n",
    "    number = number // 10\n",
    "\n",
    "if given_no == reverse:\n",
    "    print(\"Palindrome\")\n",
    "else:\n",
    "    print(\"Not Palindrome\")\n"
   ]
  },
  {
   "cell_type": "code",
   "execution_count": null,
   "id": "eb35d4e0-08b4-4d8f-9737-969d369abb02",
   "metadata": {},
   "outputs": [],
   "source": []
  },
  {
   "cell_type": "code",
   "execution_count": null,
   "id": "1b15f69f-946f-4d32-bf74-f173532f6bf5",
   "metadata": {},
   "outputs": [],
   "source": []
  },
  {
   "cell_type": "markdown",
   "id": "7af7c716-27c2-4883-ae15-a5cc475e1bc9",
   "metadata": {},
   "source": [
    "Q9. Write a code to print odd numbers from 1 to 100 using list comprehension.\n",
    "Note: Use a list comprehension to create a list from 1 to 100 and use another List comprehension to filter out odd numbers."
   ]
  },
  {
   "cell_type": "code",
   "execution_count": 38,
   "id": "190c5254-1d68-4476-b552-9e8f03d16fa2",
   "metadata": {},
   "outputs": [
    {
     "ename": "NameError",
     "evalue": "name 'num' is not defined",
     "output_type": "error",
     "traceback": [
      "\u001b[0;31m---------------------------------------------------------------------------\u001b[0m",
      "\u001b[0;31mNameError\u001b[0m                                 Traceback (most recent call last)",
      "Cell \u001b[0;32mIn[38], line 2\u001b[0m\n\u001b[1;32m      1\u001b[0m no_list \u001b[38;5;241m=\u001b[39m [n \u001b[38;5;28;01mfor\u001b[39;00m n \u001b[38;5;129;01min\u001b[39;00m \u001b[38;5;28mrange\u001b[39m(\u001b[38;5;241m1\u001b[39m, \u001b[38;5;241m101\u001b[39m)]\n\u001b[0;32m----> 2\u001b[0m odd_no \u001b[38;5;241m=\u001b[39m [n \u001b[38;5;28;01mfor\u001b[39;00m n \u001b[38;5;129;01min\u001b[39;00m no_list \u001b[38;5;28;01mif\u001b[39;00m num \u001b[38;5;241m%\u001b[39m \u001b[38;5;241m2\u001b[39m \u001b[38;5;241m!=\u001b[39m \u001b[38;5;241m0\u001b[39m]\n\u001b[1;32m      3\u001b[0m \u001b[38;5;28mprint\u001b[39m(odd_no)\n",
      "Cell \u001b[0;32mIn[38], line 2\u001b[0m, in \u001b[0;36m<listcomp>\u001b[0;34m(.0)\u001b[0m\n\u001b[1;32m      1\u001b[0m no_list \u001b[38;5;241m=\u001b[39m [n \u001b[38;5;28;01mfor\u001b[39;00m n \u001b[38;5;129;01min\u001b[39;00m \u001b[38;5;28mrange\u001b[39m(\u001b[38;5;241m1\u001b[39m, \u001b[38;5;241m101\u001b[39m)]\n\u001b[0;32m----> 2\u001b[0m odd_no \u001b[38;5;241m=\u001b[39m [n \u001b[38;5;28;01mfor\u001b[39;00m n \u001b[38;5;129;01min\u001b[39;00m no_list \u001b[38;5;28;01mif\u001b[39;00m \u001b[43mnum\u001b[49m \u001b[38;5;241m%\u001b[39m \u001b[38;5;241m2\u001b[39m \u001b[38;5;241m!=\u001b[39m \u001b[38;5;241m0\u001b[39m]\n\u001b[1;32m      3\u001b[0m \u001b[38;5;28mprint\u001b[39m(odd_no)\n",
      "\u001b[0;31mNameError\u001b[0m: name 'num' is not defined"
     ]
    }
   ],
   "source": [
    "no_list = [n for n in range(1, 101)]\n",
    "odd_no = [n for n in no_list if num % 2 != 0]\n",
    "print(odd_no)\n"
   ]
  },
  {
   "cell_type": "code",
   "execution_count": null,
   "id": "6bcba0c1-30f6-4ca8-a671-78bf04f3fc55",
   "metadata": {},
   "outputs": [],
   "source": []
  },
  {
   "cell_type": "code",
   "execution_count": null,
   "id": "91a6b4b0-f223-4c35-9f6b-4a7a687b1f90",
   "metadata": {},
   "outputs": [],
   "source": []
  },
  {
   "cell_type": "code",
   "execution_count": null,
   "id": "eb9ba2cd-c4b5-4778-b037-61b226e31408",
   "metadata": {},
   "outputs": [],
   "source": []
  },
  {
   "cell_type": "code",
   "execution_count": null,
   "id": "2f845bde-4bea-41d3-bd86-7943dda27157",
   "metadata": {},
   "outputs": [],
   "source": []
  },
  {
   "cell_type": "code",
   "execution_count": null,
   "id": "17933ebb-02b2-47c7-84ed-54b2a1fa2e20",
   "metadata": {},
   "outputs": [],
   "source": []
  },
  {
   "cell_type": "code",
   "execution_count": null,
   "id": "c138091f-e02a-4862-97f7-8130a7a912dc",
   "metadata": {},
   "outputs": [],
   "source": []
  },
  {
   "cell_type": "code",
   "execution_count": null,
   "id": "aa414090-3b7a-4b24-8d91-fda31ebce47f",
   "metadata": {},
   "outputs": [],
   "source": []
  },
  {
   "cell_type": "code",
   "execution_count": null,
   "id": "269465a2-e42f-4a5a-ba66-9119a698009f",
   "metadata": {},
   "outputs": [],
   "source": []
  },
  {
   "cell_type": "code",
   "execution_count": null,
   "id": "97ea1760-1cba-400f-ad95-aa68e39cf250",
   "metadata": {},
   "outputs": [],
   "source": []
  },
  {
   "cell_type": "code",
   "execution_count": null,
   "id": "b4046b35-2c3f-4f75-8c24-24a6eab82757",
   "metadata": {},
   "outputs": [],
   "source": []
  }
 ],
 "metadata": {
  "kernelspec": {
   "display_name": "Python 3 (ipykernel)",
   "language": "python",
   "name": "python3"
  },
  "language_info": {
   "codemirror_mode": {
    "name": "ipython",
    "version": 3
   },
   "file_extension": ".py",
   "mimetype": "text/x-python",
   "name": "python",
   "nbconvert_exporter": "python",
   "pygments_lexer": "ipython3",
   "version": "3.10.8"
  }
 },
 "nbformat": 4,
 "nbformat_minor": 5
}
