{
 "cells": [
  {
   "cell_type": "markdown",
   "id": "148537f1-5015-44b7-a1f5-78c9b5931748",
   "metadata": {},
   "source": [
    "Q1. What are the three measures of central tendency?"
   ]
  },
  {
   "cell_type": "markdown",
   "id": "25eeb5b1-599b-45db-8487-3966eb7e70fc",
   "metadata": {},
   "source": [
    "The three measures of central tendency are:\n",
    "\n",
    "Mean : The average value of a dataset.\n",
    "\n",
    "Median: The middle value of a dataset when arranged in ascending order.\n",
    "\n",
    "Mode: The value that appears most frequently in a dataset."
   ]
  },
  {
   "cell_type": "code",
   "execution_count": null,
   "id": "0ed4accc-7842-41ec-9be5-2cd551ab963e",
   "metadata": {},
   "outputs": [],
   "source": []
  },
  {
   "cell_type": "markdown",
   "id": "92a07052-58f4-4238-a3af-7bbfa93b3cc7",
   "metadata": {},
   "source": [
    "Q2. What is the difference between the mean, median, and mode? How are they used to measure the\n",
    "central tendency of a dataset?"
   ]
  },
  {
   "cell_type": "markdown",
   "id": "29478094-e255-4797-816b-55c0dea62451",
   "metadata": {},
   "source": [
    "Mean: It's the sum of all values divided by the number of values. It's sensitive to extreme values and outliers.\n",
    "\n",
    "Median: It's the middle value when the data is arranged in order. It's not affected by extreme values.\n",
    "\n",
    "Mode: It's the value that appears most frequently. There can be multiple modes or none."
   ]
  },
  {
   "cell_type": "code",
   "execution_count": null,
   "id": "78a737e7-2844-4eb0-8937-5b8b5f396cd2",
   "metadata": {},
   "outputs": [],
   "source": []
  },
  {
   "cell_type": "markdown",
   "id": "9cd9194a-f6d1-4052-8a1d-3ad7b1a457f4",
   "metadata": {},
   "source": [
    "Q3. Measure the three measures of central tendency for the given height data:\n",
    "[178,177,176,177,178.2,178,175,179,180,175,178.9,176.2,177,172.5,178,176.5]"
   ]
  },
  {
   "cell_type": "markdown",
   "id": "cfadb791-9e01-4b12-b8dd-6a066e99fc1c",
   "metadata": {},
   "source": [
    "Mean: (178 + 177 + 176 + ... + 176.5) / 16 ≈ 177.1625\n",
    "Median: 177.6 (middle value when sorted)\n",
    "Mode: 178 (appears most frequently)"
   ]
  },
  {
   "cell_type": "code",
   "execution_count": null,
   "id": "d2f1225c-5a2c-469f-ba3c-697611b38399",
   "metadata": {},
   "outputs": [],
   "source": []
  },
  {
   "cell_type": "markdown",
   "id": "e125f786-a0c8-4128-98a4-8621b817dd2e",
   "metadata": {},
   "source": [
    "Q4. Find the standard deviation for the given data:\n",
    "[178,177,176,177,178.2,178,175,179,180,175,178.9,176.2,177,172.5,178,176.5]"
   ]
  },
  {
   "cell_type": "markdown",
   "id": "8a5fd7d1-70f5-4c6b-9ecb-a42fe2a70d62",
   "metadata": {},
   "source": [
    "Standard deviation is 2.125."
   ]
  },
  {
   "cell_type": "code",
   "execution_count": null,
   "id": "3de39c33-4113-467e-9f82-6284f046ff44",
   "metadata": {},
   "outputs": [],
   "source": []
  },
  {
   "cell_type": "markdown",
   "id": "a66cf588-0f1a-4eaa-a236-76ef8e818399",
   "metadata": {},
   "source": [
    "Q5. How are measures of dispersion such as range, variance, and standard deviation used to describe\n",
    "the spread of a dataset? Provide an example."
   ]
  },
  {
   "cell_type": "markdown",
   "id": "753f20fe-96b1-4f32-86c6-053899cd74af",
   "metadata": {},
   "source": [
    "Range: The difference between the maximum and minimum values. It gives an idea of how spread out the data is.\n",
    "\n",
    "Variance: Measures the average squared difference from the mean. Higher variance indicates more spread.\n",
    "\n",
    "Standard Deviation: The square root of variance. It indicates the typical deviation from the mean.\n",
    "\n",
    "Example: In a dataset of test scores, a high variance or standard deviation suggests that scores are widely spread, indicating more variability in performance."
   ]
  },
  {
   "cell_type": "code",
   "execution_count": null,
   "id": "2962b053-e80f-4e6c-8f52-aa6f97bdae59",
   "metadata": {},
   "outputs": [],
   "source": []
  },
  {
   "cell_type": "markdown",
   "id": "90bc63bd-5e53-4cde-a4f1-084f40ddaab9",
   "metadata": {},
   "source": [
    "Q6. What is a Venn diagram?"
   ]
  },
  {
   "cell_type": "markdown",
   "id": "176ecb11-9b12-4c77-8cbf-8a100b7e7b9a",
   "metadata": {},
   "source": [
    "A Venn diagram is a visual representation of the relationships between different sets. It uses overlapping circles to show the common and distinct elements between sets."
   ]
  },
  {
   "cell_type": "code",
   "execution_count": null,
   "id": "3ea34989-e474-4ce4-955a-847fe8edbc33",
   "metadata": {},
   "outputs": [],
   "source": []
  },
  {
   "cell_type": "markdown",
   "id": "8d7a5700-54f5-4a03-8e47-831a03005d9e",
   "metadata": {},
   "source": [
    "Q7. For the two given sets A = (2,3,4,5,6,7) & B = (0,2,6,8,10). Find:\n",
    "(i) A ∩ B\n",
    "(ii) A ⋃ B"
   ]
  },
  {
   "cell_type": "markdown",
   "id": "6574ada4-0739-4c9b-944d-a30294e86d8a",
   "metadata": {},
   "source": [
    "(i) A ∩ B : {2, 6}\n",
    "\n",
    "(ii) A ∪ B : {0, 2, 3, 4, 5, 6, 7, 8, 10}"
   ]
  },
  {
   "cell_type": "code",
   "execution_count": null,
   "id": "3dd75efb-a443-4494-9fa0-d94f44fb3eeb",
   "metadata": {},
   "outputs": [],
   "source": []
  },
  {
   "cell_type": "markdown",
   "id": "06a6a006-0737-467d-8cde-2a68611e45c0",
   "metadata": {},
   "source": [
    "Q8. What do you understand about skewness in data?"
   ]
  },
  {
   "cell_type": "markdown",
   "id": "26799523-69c6-49e7-b857-ce0ddfbf4267",
   "metadata": {},
   "source": [
    "Skewness measures the asymmetry of a distribution. If the data is skewed, it means the distribution is not symmetric."
   ]
  },
  {
   "cell_type": "code",
   "execution_count": null,
   "id": "cfc67ddf-4640-4b9b-91d0-b52690eaeb49",
   "metadata": {},
   "outputs": [],
   "source": []
  },
  {
   "cell_type": "markdown",
   "id": "56d00802-8bd0-4f6c-b4cc-c51709d7573f",
   "metadata": {},
   "source": [
    "Q9. If a data is right skewed then what will be the position of median with respect to mean?"
   ]
  },
  {
   "cell_type": "markdown",
   "id": "eb23cec4-ff16-4d8e-9e1a-f26e763eabe6",
   "metadata": {},
   "source": [
    "In right-skewed data, where the tail is on the right side, the median is typically less than the mean."
   ]
  },
  {
   "cell_type": "code",
   "execution_count": null,
   "id": "93d37e2e-4717-4899-9dad-f60952588e92",
   "metadata": {},
   "outputs": [],
   "source": []
  },
  {
   "cell_type": "markdown",
   "id": "22780932-2b70-45c7-bc5d-4b8c83f8c5ac",
   "metadata": {},
   "source": [
    "Q10. Explain the difference between covariance and correlation. How are these measures used in\n",
    "statistical analysis?"
   ]
  },
  {
   "cell_type": "markdown",
   "id": "287443bd-685c-4fbb-b2fb-d9c4ea610ad6",
   "metadata": {},
   "source": [
    "Covariance measures the degree to which two variables change together. It doesn't provide a standardized measure.\n",
    "\n",
    "Correlation measures the strength and direction of a linear relationship between two variables. It's standardized between -1 and 1.\n",
    "\n",
    "Both measures are used to understand relationships between variables in statistical analysis."
   ]
  },
  {
   "cell_type": "code",
   "execution_count": null,
   "id": "88ebecfe-394f-40a0-83d0-33443a0eb99f",
   "metadata": {},
   "outputs": [],
   "source": []
  },
  {
   "cell_type": "markdown",
   "id": "5139dd9e-4daf-4639-a5e2-893f06115913",
   "metadata": {},
   "source": [
    "Q11. What is the formula for calculating the sample mean? Provide an example calculation for a\n",
    "dataset."
   ]
  },
  {
   "cell_type": "markdown",
   "id": "896ddd4e-0e48-47b8-a606-78d6b877fc87",
   "metadata": {},
   "source": [
    "The formula for the sample mean is: Sum of all values / Number of values.\n",
    "\n",
    "Example: For data [10, 15, 20, 25], \n",
    "\n",
    "the mean is (10 + 15 + 20 + 25) / 4 = 17.5."
   ]
  },
  {
   "cell_type": "code",
   "execution_count": null,
   "id": "0db0746f-ab7a-46fd-ba50-47bbf50259a2",
   "metadata": {},
   "outputs": [],
   "source": []
  },
  {
   "cell_type": "markdown",
   "id": "dc47a032-dc29-4b2f-8a6e-b72c56ceca78",
   "metadata": {},
   "source": [
    "Q12. For a normal distribution data what is the relationship between its measure of central tendency?"
   ]
  },
  {
   "cell_type": "markdown",
   "id": "d3550b1d-6c2a-4866-9f3b-a7b5d97920b4",
   "metadata": {},
   "source": [
    "In a symmetrical normal distribution, the mean, median, and mode are all equal and located at the center of the distribution."
   ]
  },
  {
   "cell_type": "code",
   "execution_count": null,
   "id": "42cbe636-3252-4e93-89e0-116a9344e240",
   "metadata": {},
   "outputs": [],
   "source": []
  },
  {
   "cell_type": "markdown",
   "id": "bcdafb82-8b26-4af9-88b1-8de37d15c311",
   "metadata": {},
   "source": [
    "Q13. How is covariance different from correlation?"
   ]
  },
  {
   "cell_type": "markdown",
   "id": "07fb04f6-2ad0-447e-b729-18a32430c61e",
   "metadata": {},
   "source": [
    "Covariance measures the direction of the linear relationship between two variables but doesn't provide a standardized measure.\n",
    "Correlation is a standardized measure that also indicates the strength of the linear relationship between two variables."
   ]
  },
  {
   "cell_type": "code",
   "execution_count": null,
   "id": "caef952d-7000-459e-b49b-d5fd67dca70d",
   "metadata": {},
   "outputs": [],
   "source": []
  },
  {
   "cell_type": "markdown",
   "id": "6d57135e-30ca-4580-8663-fd80eded8423",
   "metadata": {},
   "source": [
    "Q14. How do outliers affect measures of central tendency and dispersion? Provide an example."
   ]
  },
  {
   "cell_type": "markdown",
   "id": "4039d091-a114-445c-a3c0-2773a9ee24b4",
   "metadata": {},
   "source": [
    "Outliers can significantly affect the mean and standard deviation. They pull these measures towards themselves. The median and interquartile range (IQR) are more robust to outliers.\n",
    "\n",
    "For example, if a dataset of salaries includes a few extremely high salaries, the mean salary will be higher than the typical salary due to these outliers."
   ]
  },
  {
   "cell_type": "code",
   "execution_count": null,
   "id": "f2d81543-a906-4542-80d6-1155d0ecc29d",
   "metadata": {},
   "outputs": [],
   "source": []
  }
 ],
 "metadata": {
  "kernelspec": {
   "display_name": "Python 3 (ipykernel)",
   "language": "python",
   "name": "python3"
  },
  "language_info": {
   "codemirror_mode": {
    "name": "ipython",
    "version": 3
   },
   "file_extension": ".py",
   "mimetype": "text/x-python",
   "name": "python",
   "nbconvert_exporter": "python",
   "pygments_lexer": "ipython3",
   "version": "3.10.8"
  }
 },
 "nbformat": 4,
 "nbformat_minor": 5
}
