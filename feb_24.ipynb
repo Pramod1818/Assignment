{
 "cells": [
  {
   "cell_type": "markdown",
   "id": "8a79a991-a08a-479f-8114-d2ed39eaefed",
   "metadata": {},
   "source": [
    "Q1. List any five functions of the pandas library with execution.\n"
   ]
  },
  {
   "cell_type": "code",
   "execution_count": 6,
   "id": "d6414e92-6f47-431b-9b59-affc780b75e3",
   "metadata": {},
   "outputs": [
    {
     "name": "stdout",
     "output_type": "stream",
     "text": [
      "head()\n",
      "       Name  Age  Weight\n",
      "0   Naman   55      60\n",
      "1  Mayank   20      78\n",
      "2  Suresh   31      68\n",
      "3   Rohit   35      80\n",
      "\n",
      "tail()\n",
      "      Name  Age  Weight\n",
      "0   Naman   55      60\n",
      "1  Mayank   20      78\n",
      "2  Suresh   31      68\n",
      "3   Rohit   35      80\n",
      "<class 'pandas.core.frame.DataFrame'>\n",
      "RangeIndex: 4 entries, 0 to 3\n",
      "Data columns (total 3 columns):\n",
      " #   Column  Non-Null Count  Dtype \n",
      "---  ------  --------------  ----- \n",
      " 0   Name    4 non-null      object\n",
      " 1   Age     4 non-null      int64 \n",
      " 2   Weight  4 non-null      int64 \n",
      "dtypes: int64(2), object(1)\n",
      "memory usage: 224.0+ bytes\n",
      "\n",
      "info()\n",
      " None\n",
      "\n",
      "describe()\n",
      "              Age     Weight\n",
      "count   4.000000   4.000000\n",
      "mean   35.250000  71.500000\n",
      "std    14.614491   9.291573\n",
      "min    20.000000  60.000000\n",
      "25%    28.250000  66.000000\n",
      "50%    33.000000  73.000000\n",
      "75%    40.000000  78.500000\n",
      "max    55.000000  80.000000\n",
      "\n",
      "shape()\n",
      " (4, 3)\n"
     ]
    }
   ],
   "source": [
    "import pandas as pd\n",
    "data = {'Name':['Naman', 'Mayank', 'Suresh','Rohit'],\n",
    "        'Age': [55, 20, 31,35],\n",
    "        'Weight': [60,78,68,80]}\n",
    "df = pd.DataFrame(data)\n",
    "\n",
    "\n",
    "# 1. head() - Get the first few rows of the DataFrame\n",
    "print(f'head()\\n  {df.head()}')\n",
    "\n",
    "# 2. tail() - Get the last few rows of the DataFrame\n",
    "print(f'\\ntail()\\n {df.tail()}')\n",
    "\n",
    "# 3. info() - Display information about the DataFrame\n",
    "print(f'\\ninfo()\\n {df.info()}')\n",
    "\n",
    "# 4. describe() - Generate summary statistics of numeric columns\n",
    "print(f'\\ndescribe()\\n {df.describe()}')\n",
    "\n",
    "# 5. shape - Get the dimensions of the DataFrame (rows, columns)\n",
    "print(f'\\nshape()\\n {df.shape}')\n"
   ]
  },
  {
   "cell_type": "code",
   "execution_count": null,
   "id": "68e1b941-08be-492d-be99-524049547416",
   "metadata": {},
   "outputs": [],
   "source": []
  },
  {
   "cell_type": "markdown",
   "id": "1a61d886-857a-4fca-ae7e-46a336dc674b",
   "metadata": {},
   "source": [
    "Q2. Given a Pandas DataFrame df with columns 'A', 'B', and 'C', write a Python function to re-index the\n",
    "DataFrame with a new index that starts from 1 and increments by 2 for each row."
   ]
  },
  {
   "cell_type": "code",
   "execution_count": 14,
   "id": "3808f0d0-5bee-455a-b97a-387616b3ee90",
   "metadata": {},
   "outputs": [
    {
     "name": "stdout",
     "output_type": "stream",
     "text": [
      "Before reindexing data is\n",
      "\n",
      "   A   B   C\n",
      "0  4  23  41\n",
      "1  5  27  46\n",
      "2  6  29  49\n",
      "\n",
      "After reindexing data is\n",
      "\n",
      "   A   B   C\n",
      "1  4  23  41\n",
      "3  5  27  46\n",
      "5  6  29  49\n"
     ]
    }
   ],
   "source": [
    "def reindex(df):\n",
    "    new_ind = range(1, 2 * len(df) + 1, 2)\n",
    "    re_ind = df.copy()\n",
    "    re_ind.index = new_ind\n",
    "    return re_ind\n",
    "\n",
    "# Example DataFrame\n",
    "df = pd.DataFrame({'A': [4,5,6], 'B': [23,27,29], 'C': [41,46,49]})\n",
    "print('Before reindexing data is\\n')\n",
    "print(df)\n",
    "reindexed_df = reindex(df)\n",
    "print('\\nAfter reindexing data is\\n')\n",
    "print(reindexed_df)\n"
   ]
  },
  {
   "cell_type": "code",
   "execution_count": null,
   "id": "95f68ea9-724e-473a-ba02-141a72a1306d",
   "metadata": {},
   "outputs": [],
   "source": []
  },
  {
   "cell_type": "markdown",
   "id": "ad0ad582-edf3-4ea9-8179-48bac5fe7045",
   "metadata": {},
   "source": [
    "Q3. You have a Pandas DataFrame df with a column named 'Values'. Write a Python function that\n",
    "iterates over the DataFrame and calculates the sum of the first three values in the 'Values' column. The\n",
    "function should print the sum to the console.\n",
    "For example, if the 'Values' column of df contains the values [10, 20, 30, 40, 50], your function should\n",
    "calculate and print the sum of the first three values, which is 60.\n"
   ]
  },
  {
   "cell_type": "code",
   "execution_count": 16,
   "id": "fb8269c0-7615-44bc-b798-9422fe5d2616",
   "metadata": {},
   "outputs": [
    {
     "name": "stdout",
     "output_type": "stream",
     "text": [
      "Sum of the first three values is : 60\n"
     ]
    }
   ],
   "source": [
    "def sum_fst_3(df):\n",
    "    sum_val = df['Values'][:3].sum()\n",
    "    print(\"Sum of the first three values is :\", sum_val)\n",
    "\n",
    "\n",
    "df = pd.DataFrame({'Values': [10, 20, 30, 40, 50]})\n",
    "sum_fst_3(df)\n"
   ]
  },
  {
   "cell_type": "code",
   "execution_count": null,
   "id": "e1c6d712-90f8-4ec1-80fa-d9fa914f489a",
   "metadata": {},
   "outputs": [],
   "source": []
  },
  {
   "cell_type": "markdown",
   "id": "68821360-e3e1-4d86-9fc5-efe739f98339",
   "metadata": {},
   "source": [
    "Q4. Given a Pandas DataFrame df with a column 'Text', write a Python function to create a new column\n",
    "'Word_Count' that contains the number of words in each row of the 'Text' column."
   ]
  },
  {
   "cell_type": "code",
   "execution_count": 18,
   "id": "d01541c4-c9dd-4f34-a268-88517e8e5ded",
   "metadata": {},
   "outputs": [
    {
     "name": "stdout",
     "output_type": "stream",
     "text": [
      "                        Text  Word_Count\n",
      "0              Good Morning!           2\n",
      "1  I hope You are dong great           6\n"
     ]
    }
   ],
   "source": [
    "def add_word_count(df):\n",
    "    df['Word_Count'] = df['Text'].apply(lambda text: len(text.split()))\n",
    "\n",
    "\n",
    "df = pd.DataFrame({'Text': ['Good Morning!', 'I hope You are dong great']})\n",
    "add_word_count(df)\n",
    "print(df)"
   ]
  },
  {
   "cell_type": "code",
   "execution_count": null,
   "id": "51300e3e-056e-4de2-a4cd-9b818ae43e13",
   "metadata": {},
   "outputs": [],
   "source": []
  },
  {
   "cell_type": "markdown",
   "id": "0f456fb4-694f-4528-b920-b71015541cd6",
   "metadata": {},
   "source": [
    "Q5. How are DataFrame.size() and DataFrame.shape() different?\n"
   ]
  },
  {
   "cell_type": "markdown",
   "id": "4066b15b-1f24-43a4-bc94-bf5387e5da1c",
   "metadata": {},
   "source": [
    "DataFrame.size(): Returns the total number of elements in the DataFrame (rows * columns).\n",
    "\n",
    "DataFrame.shape(): Returns a tuple representing the dimensions of the DataFrame (rows, columns)."
   ]
  },
  {
   "cell_type": "code",
   "execution_count": null,
   "id": "50b039a7-fc5c-4bd4-bc5e-adf94ef16a06",
   "metadata": {},
   "outputs": [],
   "source": []
  },
  {
   "cell_type": "markdown",
   "id": "d87f5e21-db79-4803-9042-8032e7f079d5",
   "metadata": {},
   "source": [
    "Q6. Which function of pandas do we use to read an excel file?"
   ]
  },
  {
   "cell_type": "code",
   "execution_count": null,
   "id": "cfaf18b2-b33a-4168-b45f-51b292c51fcb",
   "metadata": {},
   "outputs": [],
   "source": [
    "excel_data = pd.read_excel(\"data.xlsx\")\n"
   ]
  },
  {
   "cell_type": "code",
   "execution_count": null,
   "id": "e8b61ca1-d0b6-4115-9691-51e6371ae5a6",
   "metadata": {},
   "outputs": [],
   "source": []
  },
  {
   "cell_type": "markdown",
   "id": "30c90cff-6d26-49d8-ac2f-01969489fe2f",
   "metadata": {},
   "source": [
    "Q7. You have a Pandas DataFrame df that contains a column named 'Email' that contains email\n",
    "addresses in the format 'username@domain.com'. \n",
    "\n",
    "Write a Python function that creates a new column'Username' in df that contains only the username part of each email address.\n",
    "The username is the part of the email address that appears before the '@' symbol. For example, if the\n",
    "email address is 'john.doe@example.com', the 'Username' column should contain 'john.doe'. Your\n",
    "function should extract the username from each email address and store it in the new 'Username'\n",
    "column.\n"
   ]
  },
  {
   "cell_type": "code",
   "execution_count": 20,
   "id": "5360c3c2-1538-4870-897c-ca322a737698",
   "metadata": {},
   "outputs": [
    {
     "name": "stdout",
     "output_type": "stream",
     "text": [
      "                   Email     Username\n",
      "0   john.doe@example.com     john.doe\n",
      "1  Raman.singh@gmail.com  Raman.singh\n"
     ]
    }
   ],
   "source": [
    "def extract_username(df):\n",
    "    df['Username'] = df['Email'].apply(lambda email: email.split('@')[0])\n",
    "\n",
    "\n",
    "df = pd.DataFrame({'Email': ['john.doe@example.com', 'Raman.singh@gmail.com']})\n",
    "extract_username(df)\n",
    "print(df)\n"
   ]
  },
  {
   "cell_type": "code",
   "execution_count": null,
   "id": "84141f3d-0c84-4120-857d-bd244d51241e",
   "metadata": {},
   "outputs": [],
   "source": []
  },
  {
   "cell_type": "markdown",
   "id": "a7f63386-31ad-4224-9e47-6eface337fd5",
   "metadata": {},
   "source": [
    "Q8. You have a Pandas DataFrame df with columns 'A', 'B', and 'C'. Write a Python function that selects\n",
    "all rows where the value in column 'A' is greater than 5 and the value in column 'B' is less than 10. The\n",
    "function should return a new DataFrame that contains only the selected rows.\n",
    "For example, if df contains the following values:\n",
    "A B C\n",
    "0 3 5 1\n",
    "1 8 2 7\n",
    "2 6 9 4\n",
    "3 2 3 5\n",
    "4 9 1 2\n",
    "\n",
    "Your function should select the following rows: A B C\n",
    "1 8 2 7\n",
    "4 9 1 2\n",
    "The function should return a new DataFrame that contains only the selected rows."
   ]
  },
  {
   "cell_type": "code",
   "execution_count": 1,
   "id": "da516563-20ac-478d-b544-134ff5c8ab8b",
   "metadata": {},
   "outputs": [
    {
     "name": "stdout",
     "output_type": "stream",
     "text": [
      "   A  B  C\n",
      "1  8  2  7\n",
      "2  6  9  4\n",
      "4  9  1  2\n"
     ]
    }
   ],
   "source": [
    "import pandas as pd\n",
    "def select_rows(df):\n",
    "    selected_rows = df[(df['A'] > 5) & (df['B'] < 10)]\n",
    "    return selected_rows\n",
    "\n",
    "\n",
    "data = {'A': [3, 8, 6, 2, 9],\n",
    "        'B': [5, 2, 9, 3, 1],\n",
    "        'C': [1, 7, 4, 5, 2]}\n",
    "df = pd.DataFrame(data)\n",
    "\n",
    "\n",
    "selected_df = select_rows(df)\n",
    "print(selected_df)\n"
   ]
  },
  {
   "cell_type": "code",
   "execution_count": null,
   "id": "71d12635-6048-46f8-a4b5-e2611597789c",
   "metadata": {},
   "outputs": [],
   "source": []
  },
  {
   "cell_type": "markdown",
   "id": "61b8329d-495c-4d2b-b9fe-27f6761a44b6",
   "metadata": {},
   "source": [
    "Q9. Given a Pandas DataFrame df with a column 'Values', write a Python function to calculate the mean,\n",
    "median, and standard deviation of the values in the 'Values' column."
   ]
  },
  {
   "cell_type": "code",
   "execution_count": 4,
   "id": "6064c2e2-14ac-416a-8ed2-1e537096536d",
   "metadata": {},
   "outputs": [
    {
     "name": "stdout",
     "output_type": "stream",
     "text": [
      "Mean: 10.2\n",
      "Median: 12.5\n",
      "Standard Deviation: 7.177124153246279\n"
     ]
    }
   ],
   "source": [
    "import pandas as pd\n",
    "data ={'Values':[2,4,2,1,11,15,14,17,18,18]}\n",
    "df = pd.DataFrame(data)\n",
    "\n",
    "mean_val = df['Values'].mean()\n",
    "median_val = df['Values'].median()\n",
    "std_dvtn = df['Values'].std()\n",
    "\n",
    "print(\"Mean:\", mean_val)\n",
    "print(\"Median:\", median_val)\n",
    "print(\"Standard Deviation:\", std_dvtn)\n"
   ]
  },
  {
   "cell_type": "code",
   "execution_count": null,
   "id": "0a120bcf-591c-4899-9ccd-c4ff2baa7c70",
   "metadata": {},
   "outputs": [],
   "source": []
  },
  {
   "cell_type": "markdown",
   "id": "43aa0f93-e9dd-44a2-ad28-8188b6618904",
   "metadata": {},
   "source": [
    "Q10. Given a Pandas DataFrame df with a column 'Sales' and a column 'Date', write a Python function to\n",
    "create a new column 'MovingAverage' that contains the moving average of the sales for the past 7 days\n",
    "for each row in the DataFrame. The moving average should be calculated using a window of size 7 and\n",
    "should include the current day.\n"
   ]
  },
  {
   "cell_type": "code",
   "execution_count": null,
   "id": "1e0a2489-712a-432d-a325-b6737a6ee960",
   "metadata": {},
   "outputs": [],
   "source": [
    "window_size = 7\n",
    "df['MovingAverage'] = df['Sales'].rolling(window=window_size, min_periods=1).mean()\n",
    "print(df)\n"
   ]
  },
  {
   "cell_type": "code",
   "execution_count": null,
   "id": "ab37aeb3-8707-44ee-ab54-66cba9de2b06",
   "metadata": {},
   "outputs": [],
   "source": []
  },
  {
   "cell_type": "markdown",
   "id": "636af4a5-9396-4bdf-be9c-ea053c5b606a",
   "metadata": {},
   "source": [
    "Q11. You have a Pandas DataFrame df with a column 'Date'. Write a Python function that creates a new\n",
    "column 'Weekday' in the DataFrame. The 'Weekday' column should contain the weekday name (e.g.\n",
    "Monday, Tuesday) corresponding to each date in the 'Date' column.\n",
    "For example, if df contains the following values:\n",
    "Date\n",
    "0 2023-01-01\n",
    "1 2023-01-02\n",
    "2 2023-01-03\n",
    "3 2023-01-04\n",
    "4 2023-01-05\n",
    "Your function should create the following DataFrame:\n",
    "\n",
    "Date Weekday\n",
    "0 2023-01-01 Sunday\n",
    "1 2023-01-02 Monday\n",
    "2 2023-01-03 Tuesday\n",
    "3 2023-01-04 Wednesday\n",
    "4 2023-01-05 Thursday\n",
    "The function should return the modified DataFrame."
   ]
  },
  {
   "cell_type": "code",
   "execution_count": 15,
   "id": "cb946044-1529-4612-ae32-42f42356aeed",
   "metadata": {},
   "outputs": [
    {
     "name": "stdout",
     "output_type": "stream",
     "text": [
      "        Date    Weekday\n",
      "0 2023-01-01     Sunday\n",
      "1 2023-01-02     Monday\n",
      "2 2023-01-03    Tuesday\n",
      "3 2023-01-04  Wednesday\n",
      "4 2023-01-05   Thursday\n"
     ]
    }
   ],
   "source": [
    "import pandas as pd\n",
    "date={'Date_str':[\n",
    "  '2023-01-01',\n",
    " '2023-01-02',\n",
    " '2023-01-03',\n",
    " '2023-01-04',\n",
    " '2023-01-05']}\n",
    "df = pd.DataFrame(date)\n",
    "df['Date'] = pd.to_datetime(df['Date_str'])\n",
    "df['Weekday'] = df['Date'].dt.strftime('%A')\n",
    "df.drop('Date_str',axis=1,inplace=True)\n",
    "\n",
    "print(df)\n"
   ]
  },
  {
   "cell_type": "code",
   "execution_count": null,
   "id": "b8bb2817-70e7-4d72-865f-95b1975a80ca",
   "metadata": {},
   "outputs": [],
   "source": []
  },
  {
   "cell_type": "markdown",
   "id": "e8f870ae-09b0-4aee-b939-6af7b1caa1c3",
   "metadata": {},
   "source": [
    "Q12. Given a Pandas DataFrame df with a column 'Date' that contains timestamps, write a Python\n",
    "function to select all rows where the date is between '2023-01-01' and '2023-01-31'."
   ]
  },
  {
   "cell_type": "code",
   "execution_count": null,
   "id": "ffcd449a-ac2a-4219-b6fc-d469beb9c85a",
   "metadata": {},
   "outputs": [],
   "source": [
    "start_date = '2023-01-01'\n",
    "end_date = '2023-01-31'\n",
    "selected_rows = df[(df['Date'] >= start_date) & (df['Date'] <= end_date)]\n",
    "print(selected_rows)\n"
   ]
  },
  {
   "cell_type": "code",
   "execution_count": null,
   "id": "fe380329-6f93-41bf-808c-46920ebed4d8",
   "metadata": {},
   "outputs": [],
   "source": []
  },
  {
   "cell_type": "markdown",
   "id": "272f4a88-aaea-4bc6-97b1-33c871395b21",
   "metadata": {},
   "source": [
    "Q13. To use the basic functions of pandas, what is the first and foremost necessary library that needs to\n",
    "be imported?"
   ]
  },
  {
   "cell_type": "code",
   "execution_count": null,
   "id": "d6e10c08-ff04-4eb0-9e0c-dca9578866a8",
   "metadata": {},
   "outputs": [],
   "source": [
    "import pandas as pd"
   ]
  },
  {
   "cell_type": "code",
   "execution_count": null,
   "id": "163f496a-213b-42f1-8018-1d293ae68492",
   "metadata": {},
   "outputs": [],
   "source": []
  },
  {
   "cell_type": "code",
   "execution_count": null,
   "id": "0adb4e0f-d78f-4a82-ac8d-bf5c33e6239b",
   "metadata": {},
   "outputs": [],
   "source": []
  },
  {
   "cell_type": "code",
   "execution_count": null,
   "id": "83197f1c-6aed-4b67-b593-f7913486a2d7",
   "metadata": {},
   "outputs": [],
   "source": []
  }
 ],
 "metadata": {
  "kernelspec": {
   "display_name": "Python 3 (ipykernel)",
   "language": "python",
   "name": "python3"
  },
  "language_info": {
   "codemirror_mode": {
    "name": "ipython",
    "version": 3
   },
   "file_extension": ".py",
   "mimetype": "text/x-python",
   "name": "python",
   "nbconvert_exporter": "python",
   "pygments_lexer": "ipython3",
   "version": "3.10.8"
  }
 },
 "nbformat": 4,
 "nbformat_minor": 5
}
