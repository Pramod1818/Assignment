{
 "cells": [
  {
   "cell_type": "markdown",
   "id": "745447be-f99b-4ee9-ba1b-d92dd6aa3bc1",
   "metadata": {},
   "source": [
    "Q1. What is a database? Differentiate between SQL and NoSQL databases.\n"
   ]
  },
  {
   "cell_type": "markdown",
   "id": "43f5e2c6-f818-4731-a62e-7ec03eb463c2",
   "metadata": {},
   "source": [
    "A database is a structured collection of data that is organized and stored for easy retrieval and manipulation. Databases are used to store, manage, and manipulate large amounts of information efficiently. There are two main types of databases: SQL (relational) databases and NoSQL databases.\n",
    "\n",
    "SQL Databases:\n",
    "SQL (Structured Query Language) databases are based on the relational model.\n",
    "Data is organized into tables with predefined schemas.\n",
    "Suitable for structured data with well-defined relationships.\n",
    "Examples: MySQL, PostgreSQL, SQLite, Microsoft SQL Server, Oracle.\n",
    "\n",
    "NoSQL Databases:\n",
    "NoSQL (Not Only SQL) databases are more flexible and non-relational.\n",
    "Data is stored in various formats like documents, key-value pairs, graphs, or column-family stores.\n",
    "Suitable for unstructured or semi-structured data.\n",
    "Examples: MongoDB, Cassandra, Redis, Neo4j."
   ]
  },
  {
   "cell_type": "code",
   "execution_count": null,
   "id": "55e44a28-2ea0-4ae5-b785-00dfaa76736d",
   "metadata": {},
   "outputs": [],
   "source": []
  },
  {
   "cell_type": "markdown",
   "id": "e6c89f06-4887-43af-aecd-1a1359f33e41",
   "metadata": {},
   "source": [
    "Q2. What is DDL? Explain why CREATE, DROP, ALTER, and TRUNCATE are used with an example."
   ]
  },
  {
   "cell_type": "markdown",
   "id": "de984ee3-861b-48f7-8274-ffcbdd2b6913",
   "metadata": {},
   "source": [
    "DDL is a subset of SQL used to define and manage the structure of a database. It includes operations like creating, modifying, and deleting database objects.\n",
    "\n",
    "CREATE: Used to create new database objects (tables, indexes, views, etc.).\n",
    "DROP: Used to delete existing database objects.\n",
    "ALTER: Used to modify the structure of existing objects.\n",
    "TRUNCATE: Used to delete all records from a table without deleting the table itself.\n",
    "\n",
    "Example:\n",
    "-- Create a new table\n",
    "CREATE TABLE Students (\n",
    "    ID INT PRIMARY KEY,\n",
    "    Name VARCHAR(50),\n",
    "    Age INT\n",
    ");\n",
    "\n",
    "-- Delete a table\n",
    "DROP TABLE Students;\n",
    "\n",
    "-- Add a new column to an existing table\n",
    "ALTER TABLE Employees\n",
    "ADD Salary DECIMAL(10, 2);\n",
    "\n",
    "-- Delete all records from a table\n",
    "TRUNCATE TABLE Orders;"
   ]
  },
  {
   "cell_type": "code",
   "execution_count": null,
   "id": "bb035fed-5d38-4f6a-a4c8-b1d6d2c79248",
   "metadata": {},
   "outputs": [],
   "source": []
  },
  {
   "cell_type": "markdown",
   "id": "9751aa9b-4372-4d8b-a8f2-fa8dda603acd",
   "metadata": {},
   "source": [
    "Q3. What is DML? Explain INSERT, UPDATE, and DELETE with an example.\n"
   ]
  },
  {
   "cell_type": "markdown",
   "id": "bf635a5f-0a9d-4755-8f64-98bb666ddd6b",
   "metadata": {},
   "source": [
    "DML is used to manipulate data within a database. It includes operations to insert, update, and delete records.\n",
    "\n",
    "INSERT: Used to add new records to a table.\n",
    "UPDATE: Used to modify existing records in a table.\n",
    "DELETE: Used to remove records from a table.\n",
    "\n",
    "example\n",
    "-- Insert a new record\n",
    "INSERT INTO Students (ID, Name, Age)\n",
    "VALUES (1, 'Suresh', 25);\n",
    "\n",
    "-- Update a record\n",
    "UPDATE Employees\n",
    "SET Salary = 60000\n",
    "WHERE ID = 1001;\n",
    "\n",
    "-- Delete a record\n",
    "DELETE FROM Customers\n",
    "WHERE CustomerID = '1001';\n"
   ]
  },
  {
   "cell_type": "code",
   "execution_count": null,
   "id": "330a6182-f2d1-4a48-8847-b03a5082415f",
   "metadata": {},
   "outputs": [],
   "source": []
  },
  {
   "cell_type": "markdown",
   "id": "966f03d6-d456-4a38-9cb0-4dcf916914c0",
   "metadata": {},
   "source": [
    "Q4. What is DQL? Explain SELECT with an example.\n"
   ]
  },
  {
   "cell_type": "markdown",
   "id": "4a3e89ac-f299-48a2-a4d2-d99897112302",
   "metadata": {},
   "source": [
    "DQL is used to query and retrieve data from a database.\n",
    "\n",
    "SELECT: Used to retrieve data from one or more tables.\n",
    "Example\n",
    "-- Retrieve all columns and records from a table\n",
    "SELECT * FROM Products;\n",
    "\n",
    "-- Retrieve specific columns with conditions\n",
    "SELECT ProductName, Price\n",
    "FROM Products\n",
    "WHERE Category = 'Stationary';"
   ]
  },
  {
   "cell_type": "code",
   "execution_count": null,
   "id": "43464fbf-82d7-4626-9836-46a862f3a8f1",
   "metadata": {},
   "outputs": [],
   "source": []
  },
  {
   "cell_type": "markdown",
   "id": "c88ad0cd-f3b8-41fa-8c8e-339892da8e51",
   "metadata": {},
   "source": [
    "Q5. Explain Primary Key and Foreign Key.\n"
   ]
  },
  {
   "cell_type": "markdown",
   "id": "5d2c9f2a-8c58-41e8-aae7-aad4ac057064",
   "metadata": {},
   "source": [
    "Primary Key: A primary key is a column or a combination of columns that uniquely identifies each row in a table. It ensures the integrity of the data and enforces the uniqueness constraint.\n",
    "\n",
    "Foreign Key: A foreign key is a column or a combination of columns that establishes a link between data in two tables. It creates a relationship between tables based on the values of these columns."
   ]
  },
  {
   "cell_type": "code",
   "execution_count": null,
   "id": "065c290c-4fb8-4f1e-9611-5bb4caf2f650",
   "metadata": {},
   "outputs": [],
   "source": []
  },
  {
   "cell_type": "markdown",
   "id": "1241fbec-265c-4725-820c-3546d7c7bd2c",
   "metadata": {},
   "source": [
    "Q6. Write a python code to connect MySQL to python. Explain the cursor() and execute() method.\n"
   ]
  },
  {
   "cell_type": "markdown",
   "id": "e33ee311-20ab-44c0-9f81-aaab097b7ba8",
   "metadata": {
    "tags": []
   },
   "source": [
    "cursor(): The cursor is used to interact with the database. It provides methods to execute SQL queries and fetch results.\n",
    "\n",
    "execute(): The execute() method is used to execute SQL queries.\n",
    "\n",
    "\n",
    "import mysql.connector\n",
    "# Establish connection\n",
    "connection = mysql.connector.connect(\n",
    "    host=\"localhost\",\n",
    "    user=\"username\",\n",
    "    password=\"--***---\",\n",
    "    database=\"Student_db\"\n",
    ")\n",
    "\n",
    "# Create a cursor\n",
    "cursor = connection.cursor()\n",
    "\n",
    "# Execute SQL queries\n",
    "cursor.execute(\"SELECT * FROM Students\")\n",
    "result = cursor.fetchall()\n",
    "\n",
    "# Close cursor and connection\n",
    "cursor.close()\n",
    "connection.close()"
   ]
  },
  {
   "cell_type": "code",
   "execution_count": null,
   "id": "30dcfc42-7340-42a9-bfb3-b53c40cc592e",
   "metadata": {},
   "outputs": [],
   "source": []
  },
  {
   "cell_type": "markdown",
   "id": "0d613cb6-7659-4abe-943e-05508f118ead",
   "metadata": {},
   "source": [
    "Q7. Give the order of execution of SQL clauses in an SQL query."
   ]
  },
  {
   "cell_type": "markdown",
   "id": "a0123860-5095-43a3-b894-eae580dcd0d2",
   "metadata": {},
   "source": [
    "The typical order of execution of clauses in an SQL query is as follows:\n",
    "\n",
    "SELECT\n",
    "FROM\n",
    "JOIN\n",
    "WHERE\n",
    "GROUP BY\n",
    "HAVING\n",
    "ORDER BY\n",
    "LIMIT (if applicable)"
   ]
  },
  {
   "cell_type": "code",
   "execution_count": null,
   "id": "ab2f8e4c-8205-4f88-aa96-ad939c87f1c0",
   "metadata": {},
   "outputs": [],
   "source": []
  }
 ],
 "metadata": {
  "kernelspec": {
   "display_name": "Python 3 (ipykernel)",
   "language": "python",
   "name": "python3"
  },
  "language_info": {
   "codemirror_mode": {
    "name": "ipython",
    "version": 3
   },
   "file_extension": ".py",
   "mimetype": "text/x-python",
   "name": "python",
   "nbconvert_exporter": "python",
   "pygments_lexer": "ipython3",
   "version": "3.10.8"
  }
 },
 "nbformat": 4,
 "nbformat_minor": 5
}
