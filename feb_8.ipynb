{
 "cells": [
  {
   "cell_type": "markdown",
   "id": "1e3bde4b-05f3-46ce-8ffc-55e84cdd5a96",
   "metadata": {},
   "source": [
    "Q1. What is Abstraction in OOps? Explain with an example.\n"
   ]
  },
  {
   "cell_type": "markdown",
   "id": "0ba100f1-226c-4baa-98cc-a836c0c92285",
   "metadata": {},
   "source": [
    "Abstraction is a fundamental concept in object-oriented programming (OOP) that focuses on representing the essential features of an object while hiding the unnecessary details. It allows you to create a simplified and more manageable representation of real-world entities.\n",
    "\n",
    "Example: \n",
    "Think of a Car class. A car has properties like make, model, and year, as well as methods like start_engine() and stop_engine(). When using a Car object, you don't need to know the intricate details of how the engine starts or the mechanics of the transmission. The class abstracts away these complex operations, allowing you to interact with the car using a high-level interface."
   ]
  },
  {
   "cell_type": "code",
   "execution_count": null,
   "id": "993f21de-d44e-4795-8971-516758325236",
   "metadata": {},
   "outputs": [],
   "source": []
  },
  {
   "cell_type": "markdown",
   "id": "49e55ebb-7340-461d-9a56-77a9337aa41f",
   "metadata": {},
   "source": [
    "Q2. Differentiate between Abstraction and Encapsulation. Explain with an example.\n"
   ]
  },
  {
   "cell_type": "markdown",
   "id": "32be36d6-b89d-452c-a6d3-b8effe1e5dfe",
   "metadata": {},
   "source": [
    "Abstraction: Abstraction focuses on presenting the essential characteristics of an object, hiding away the implementation details. It simplifies complex reality by modeling classes based on real-world entities.\n",
    "\n",
    "Encapsulation: Encapsulation involves bundling the data (attributes) and methods (functions) that operate on that data into a single unit (class). It restricts direct access to some of the object's components and provides access only through well-defined interfaces.\n",
    "\n",
    "Example: \n",
    "Consider a BankAccount class. Abstraction here would be defining methods like deposit() and withdraw() that abstract the banking operations. Encapsulation would be achieved by making the account balance private (encapsulated) and allowing access through controlled methods."
   ]
  },
  {
   "cell_type": "code",
   "execution_count": null,
   "id": "eefacfbb-630e-4537-a5dc-9fac206dde7b",
   "metadata": {},
   "outputs": [],
   "source": []
  },
  {
   "cell_type": "markdown",
   "id": "3988d52c-7985-4dc4-a7ea-4a963cb9a30d",
   "metadata": {},
   "source": [
    "Q3. What is abc module in python? Why is it used?\n"
   ]
  },
  {
   "cell_type": "markdown",
   "id": "5bb5396f-506f-488b-9978-ff99ff370554",
   "metadata": {},
   "source": [
    "The abc (Abstract Base Classes) module in Python provides a way to define abstract base classes. Abstract base classes are classes that are meant to be subclassed and not instantiated themselves. They allow you to define a common interface for a group of related classes. Abstract methods declared in the base class must be implemented by the concrete subclasses.\n",
    "\n",
    "abc is used to create abstract classes and enforce a certain structure on derived classes, ensuring that they implement the required methods."
   ]
  },
  {
   "cell_type": "code",
   "execution_count": null,
   "id": "a56960dc-f537-4da8-8a15-7d66c7878b1f",
   "metadata": {},
   "outputs": [],
   "source": []
  },
  {
   "cell_type": "markdown",
   "id": "3f441499-1792-41d3-82f1-1073203997e5",
   "metadata": {},
   "source": [
    "Q4. How can we achieve data abstraction?\n"
   ]
  },
  {
   "cell_type": "markdown",
   "id": "65e48313-c4e4-44d7-93d0-5001c1cfaf28",
   "metadata": {},
   "source": [
    "Data abstraction can be achieved in programming by using classes and access control mechanisms. The class encapsulates the data and provides well-defined methods to manipulate and interact with it. The user of the class doesn't need to know the internal implementation details."
   ]
  },
  {
   "cell_type": "code",
   "execution_count": null,
   "id": "d4c3b7b3-13a8-4fea-86a9-30f5015d0486",
   "metadata": {},
   "outputs": [],
   "source": []
  },
  {
   "cell_type": "markdown",
   "id": "adca7c91-2932-402f-8043-737f307f8ab2",
   "metadata": {},
   "source": [
    "Q5. Can we create an instance of an abstract class? Explain your answer."
   ]
  },
  {
   "cell_type": "markdown",
   "id": "3ac5ce89-342c-4f35-8b9e-74befb52c2df",
   "metadata": {},
   "source": [
    "No, you cannot create an instance of an abstract class in Python. Abstract classes are meant to be subclassed, and they often contain one or more abstract methods that must be overridden by the subclasses. When you create an instance of a class, it should be an instance of a concrete subclass that implements all the required methods.\n",
    "\n",
    "For example, \n",
    "if you have an abstract class Shape with an abstract method area(), you would need to create concrete subclasses like Circle or Rectangle that inherit from Shape and provide implementations for the area() method. Instances are created using these concrete subclasses, not the abstract base class itself."
   ]
  },
  {
   "cell_type": "code",
   "execution_count": 4,
   "id": "1d5cc81d-af2d-423d-8fd0-b53bac88f834",
   "metadata": {},
   "outputs": [
    {
     "name": "stdout",
     "output_type": "stream",
     "text": [
      "200.96\n"
     ]
    }
   ],
   "source": [
    "from abc import ABC, abstractmethod\n",
    "\n",
    "class Shape(ABC):\n",
    "    @abstractmethod\n",
    "    def area(self):\n",
    "        pass\n",
    "\n",
    "class Circle(Shape):\n",
    "    def __init__(self, radius):\n",
    "        self.radius = radius\n",
    "    \n",
    "    def area(self):\n",
    "        return 3.14 * self.radius ** 2\n",
    "\n",
    "circle_instance = Circle(8)\n",
    "print(circle_instance.area())\n"
   ]
  },
  {
   "cell_type": "code",
   "execution_count": null,
   "id": "c9e52c2e-1200-40e0-9488-51061851dc9c",
   "metadata": {},
   "outputs": [],
   "source": []
  }
 ],
 "metadata": {
  "kernelspec": {
   "display_name": "Python 3 (ipykernel)",
   "language": "python",
   "name": "python3"
  },
  "language_info": {
   "codemirror_mode": {
    "name": "ipython",
    "version": 3
   },
   "file_extension": ".py",
   "mimetype": "text/x-python",
   "name": "python",
   "nbconvert_exporter": "python",
   "pygments_lexer": "ipython3",
   "version": "3.10.8"
  }
 },
 "nbformat": 4,
 "nbformat_minor": 5
}
