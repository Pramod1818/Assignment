{
 "cells": [
  {
   "cell_type": "markdown",
   "id": "01a67df9-e5a3-46f8-8061-0912be36892d",
   "metadata": {},
   "source": [
    "Q1. Write a Python function that takes in two arrays of data and calculates the F-value for a variance ratio\n",
    "test. The function should return the F-value and the corresponding p-value for the test.\n"
   ]
  },
  {
   "cell_type": "code",
   "execution_count": 12,
   "id": "684ed8ff-e378-4011-942c-fc6b1e0dc32b",
   "metadata": {},
   "outputs": [
    {
     "name": "stdout",
     "output_type": "stream",
     "text": [
      "F-Value: 1.1185770750988144\n",
      "p-value: 0.5419337781118356\n"
     ]
    }
   ],
   "source": [
    "import numpy as np\n",
    "import scipy.stats as stats\n",
    "\n",
    "def variance_ratio_test(data1, data2):\n",
    "    n1 = len(data1)\n",
    "    n2 = len(data2)\n",
    "    \n",
    "    var1 = np.var(data1, ddof=1)\n",
    "    var2 = np.var(data2, ddof=1)\n",
    "    \n",
    "    f_value = var1 / var2\n",
    "    p_value = stats.f.cdf(f_value, n1 - 1, n2 - 1)\n",
    "    \n",
    "    return f_value, p_value\n",
    "\n",
    "data1 = [10, 18, 15, 23, 11]\n",
    "data2 = [19, 26, 12, 19, 17]\n",
    "\n",
    "f_value, p_value = variance_ratio_test(data1, data2)\n",
    "print(\"F-Value:\", f_value)\n",
    "print(\"p-value:\", p_value)\n"
   ]
  },
  {
   "cell_type": "code",
   "execution_count": null,
   "id": "9b828f93-07e8-42d7-b9e3-8ede315d32d5",
   "metadata": {},
   "outputs": [],
   "source": []
  },
  {
   "cell_type": "markdown",
   "id": "821aba22-2db7-487b-951b-22647e4f0212",
   "metadata": {},
   "source": [
    "Q2. Given a significance level of 0.05 and the degrees of freedom for the numerator and denominator of an\n",
    "F-distribution, write a Python function that returns the critical F-value for a two-tailed test."
   ]
  },
  {
   "cell_type": "code",
   "execution_count": 16,
   "id": "7b199078-94f7-4cad-955e-586afb7eb1c0",
   "metadata": {},
   "outputs": [
    {
     "name": "stdout",
     "output_type": "stream",
     "text": [
      "Critical F-Value: 4.152804030062877\n"
     ]
    }
   ],
   "source": [
    "def critical_f_value(alpha, df1, df2):\n",
    "    critical_val = stats.f.ppf(1 - alpha / 2, df1, df2)\n",
    "    return critical_val\n",
    "\n",
    "alpha = 0.05\n",
    "df1 = 3\n",
    "df2 = 15\n",
    "\n",
    "critical_val = critical_f_value(alpha, df1, df2)\n",
    "print(\"Critical F-Value:\", critical_val)\n"
   ]
  },
  {
   "cell_type": "code",
   "execution_count": null,
   "id": "ba36c032-b60a-4ca1-bded-71188657418a",
   "metadata": {},
   "outputs": [],
   "source": []
  },
  {
   "cell_type": "markdown",
   "id": "22c5c608-6134-4f6f-a155-81a1ae3f012a",
   "metadata": {},
   "source": [
    "Q3. Write a Python program that generates random samples from two normal distributions with known variances and uses an F-test to determine if the variances are equal. The program should output the F-\n",
    "value, degrees of freedom, and p-value for the test."
   ]
  },
  {
   "cell_type": "code",
   "execution_count": 27,
   "id": "1c1e07bd-bb4f-4ad2-bb96-4ab5cd96ede9",
   "metadata": {},
   "outputs": [
    {
     "name": "stdout",
     "output_type": "stream",
     "text": [
      "F-value: 0.055439041691308755\n",
      "Degrees of freedom: 29 , 39\n",
      "p-value: 0.8145632915395274\n",
      "Fail to reject null hypothesis: Variances are equal.\n"
     ]
    }
   ],
   "source": [
    "import numpy as np\n",
    "import scipy.stats as stats\n",
    "\n",
    "np.random.seed(42)\n",
    "\n",
    "sample_size_1 = 30\n",
    "sample_size_2 = 40\n",
    "variance_1 = 9   # variance of distribution 1\n",
    "variance_2 = 16  # variance of distribution 2\n",
    "\n",
    "# Generating random samples \n",
    "sample_1 = np.random.normal(loc=0, scale=np.sqrt(variance_1), size=sample_size_1)\n",
    "sample_2 = np.random.normal(loc=0, scale=np.sqrt(variance_2), size=sample_size_2)\n",
    "\n",
    "# F-test\n",
    "f_statistic, p_value = stats.f_oneway(sample_1, sample_2)\n",
    "\n",
    "print(\"F-value:\", f_statistic)\n",
    "print(\"Degrees of freedom:\", sample_size_1 - 1, \",\", sample_size_2 - 1)\n",
    "print(\"p-value:\", p_value)\n",
    "\n",
    "alpha = 0.05  # Significance level\n",
    "\n",
    "if p_value < alpha:\n",
    "    print(\"Reject null hypothesis: Variances are not equal.\")\n",
    "else:\n",
    "    print(\"Fail to reject null hypothesis: Variances are equal.\")\n"
   ]
  },
  {
   "cell_type": "code",
   "execution_count": null,
   "id": "bd8b390f-e027-4789-926d-befb3ac3598f",
   "metadata": {},
   "outputs": [],
   "source": []
  },
  {
   "cell_type": "markdown",
   "id": "8d3c90b4-defc-4f51-b4d2-563e2922a029",
   "metadata": {},
   "source": [
    "Q4.The variances of two populations are known to be 10 and 15. A sample of 12 observations is taken from\n",
    "each population. Conduct an F-test at the 5% significance level to determine if the variances are\n",
    "significantly different."
   ]
  },
  {
   "cell_type": "code",
   "execution_count": 5,
   "id": "3c6870fc-9248-4d7b-9a2d-22ccf306fb95",
   "metadata": {},
   "outputs": [
    {
     "name": "stdout",
     "output_type": "stream",
     "text": [
      "Fail to reject null hypothesis: Variances are not significantly different.\n"
     ]
    }
   ],
   "source": [
    "alpha = 0.05\n",
    "n1 = 12\n",
    "n2 = 12\n",
    "variance1 = 10\n",
    "variance2 = 15\n",
    "\n",
    "critical_value = stats.f.ppf(1 - alpha / 2, n1 - 1, n2 - 1)\n",
    "f_value = variance1 / variance2\n",
    "\n",
    "if f_value > critical_value:\n",
    "    print(\"Reject null hypothesis: Variances are significantly different.\")\n",
    "else:\n",
    "    print(\"Fail to reject null hypothesis: Variances are not significantly different.\")\n"
   ]
  },
  {
   "cell_type": "code",
   "execution_count": null,
   "id": "21462a4b-c9e3-4fb9-b99c-46611109b98f",
   "metadata": {},
   "outputs": [],
   "source": []
  },
  {
   "cell_type": "markdown",
   "id": "e0354380-f5de-4d41-a358-d4b095920071",
   "metadata": {},
   "source": [
    "Q5. A manufacturer claims that the variance of the diameter of a certain product is 0.005. A sample of 25\n",
    "products is taken, and the sample variance is found to be 0.006. Conduct an F-test at the 1% significance\n",
    "level to determine if the claim is justified."
   ]
  },
  {
   "cell_type": "code",
   "execution_count": 6,
   "id": "5f8bb3ff-bb96-43b4-90f4-8d832ab77896",
   "metadata": {},
   "outputs": [
    {
     "name": "stdout",
     "output_type": "stream",
     "text": [
      "Fail to reject null hypothesis: Claimed variance is justified.\n"
     ]
    }
   ],
   "source": [
    "alpha = 0.01\n",
    "sample_size = 25\n",
    "claimed_variance = 0.005\n",
    "sample_variance = 0.006\n",
    "\n",
    "critical_value = stats.f.ppf(1 - alpha / 2, sample_size - 1, sample_size - 1)\n",
    "f_value = sample_variance / claimed_variance\n",
    "\n",
    "if f_value > critical_value:\n",
    "    print(\"Reject null hypothesis: Claimed variance is not justified.\")\n",
    "else:\n",
    "    print(\"Fail to reject null hypothesis: Claimed variance is justified.\")\n"
   ]
  },
  {
   "cell_type": "code",
   "execution_count": null,
   "id": "471c2c93-1ead-41a9-abf2-20f1d39a3e77",
   "metadata": {},
   "outputs": [],
   "source": []
  },
  {
   "cell_type": "markdown",
   "id": "f076dcf1-18da-4f21-9291-d39abb59ffc8",
   "metadata": {},
   "source": [
    "Q6. Write a Python function that takes in the degrees of freedom for the numerator and denominator of an\n",
    "F-distribution and calculates the mean and variance of the distribution. The function should return the\n",
    "mean and variance as a tuple."
   ]
  },
  {
   "cell_type": "code",
   "execution_count": 9,
   "id": "3e0050f8-8327-4b30-bc21-d0845b3e846c",
   "metadata": {},
   "outputs": [
    {
     "name": "stdout",
     "output_type": "stream",
     "text": [
      "Mean: 1.25\n",
      "Variance: 1.3541666666666667\n"
     ]
    }
   ],
   "source": [
    "def f_distribution_mean_variance(df1, df2):\n",
    "    if df2 > 2:\n",
    "        mean = df2 / (df2 - 2)\n",
    "        variance = (2 * (df2 ** 2) * (df1 + df2 - 2)) / (df1 * (df2 - 2) ** 2 * (df2 - 4))\n",
    "        return mean, variance\n",
    "    else:\n",
    "        return None, None\n",
    "\n",
    "df1 = 5\n",
    "df2 = 10\n",
    "mean, variance = f_distribution_mean_variance(df1, df2)\n",
    "print(\"Mean:\", mean)\n",
    "print(\"Variance:\", variance)\n"
   ]
  },
  {
   "cell_type": "code",
   "execution_count": null,
   "id": "2195a942-0cbf-47c2-bd52-aaad07213944",
   "metadata": {},
   "outputs": [],
   "source": []
  },
  {
   "cell_type": "markdown",
   "id": "4c0aae2d-d247-4ae2-9c20-325d94841f7f",
   "metadata": {},
   "source": [
    "Q7. A random sample of 10 measurements is taken from a normal population with unknown variance. The\n",
    "sample variance is found to be 25. Another random sample of 15 measurements is taken from another\n",
    "normal population with unknown variance, and the sample variance is found to be 20. Conduct an F-test\n",
    "at the 10% significance level to determine if the variances are significantly different.\n"
   ]
  },
  {
   "cell_type": "code",
   "execution_count": 30,
   "id": "2876db8e-6cd7-46c5-ab42-6c64113cc794",
   "metadata": {},
   "outputs": [
    {
     "name": "stdout",
     "output_type": "stream",
     "text": [
      "Fail to reject null hypothesis: Variances are not significantly different.\n"
     ]
    }
   ],
   "source": [
    "alpha = 0.10\n",
    "n1 = 10\n",
    "n2 = 15\n",
    "sample_variance1 = 25\n",
    "sample_variance2 = 20\n",
    "\n",
    "critical_value = stats.f.ppf(1 - alpha / 2, n1 - 1, n2 - 1)\n",
    "f_value = sample_variance1 / sample_variance2\n",
    "\n",
    "if f_value > critical_value:\n",
    "    print(\"Reject null hypothesis: Variances are significantly different.\")\n",
    "else:\n",
    "    print(\"Fail to reject null hypothesis: Variances are not significantly different.\")\n"
   ]
  },
  {
   "cell_type": "code",
   "execution_count": null,
   "id": "792c6926-5ad1-4ea5-acb0-b0b6f6405ff4",
   "metadata": {},
   "outputs": [],
   "source": []
  },
  {
   "cell_type": "markdown",
   "id": "14c2c963-6cf1-462a-8bf7-17688621f3c4",
   "metadata": {},
   "source": [
    "Q8. The following data represent the waiting times in minutes at two different restaurants on a Saturday\n",
    "night: Restaurant A: 24, 25, 28, 23, 22, 20, 27; Restaurant B: 31, 33, 35, 30, 32, 36. Conduct an F-test at the 5%significance level to determine if the variances are significantly different.\n"
   ]
  },
  {
   "cell_type": "code",
   "execution_count": 33,
   "id": "363a94f0-0bfd-4586-884c-8e68b2e63754",
   "metadata": {},
   "outputs": [
    {
     "name": "stdout",
     "output_type": "stream",
     "text": [
      "Fail to reject null hypothesis: Variances are not significantly different.\n"
     ]
    }
   ],
   "source": [
    "import numpy as np\n",
    "import scipy.stats as stats\n",
    "\n",
    "alpha = 0.05\n",
    "\n",
    "restaurant_a = np.array([24, 25, 28, 23, 22, 20, 27])\n",
    "restaurant_b = np.array([31, 33, 35, 30, 32, 36])\n",
    "\n",
    "vari_a = np.var(restaurant_a, ddof=1)\n",
    "vari_b = np.var(restaurant_b, ddof=1)\n",
    "\n",
    "f_value = vari_a / vari_b\n",
    "\n",
    "critical_value = stats.f.ppf(1 - alpha / 2, len(restaurant_a) - 1, len(restaurant_b) - 1)\n",
    "\n",
    "if f_value > critical_value:\n",
    "    print(\"Reject null hypothesis: Variances are significantly different.\")\n",
    "else:\n",
    "    print(\"Fail to reject null hypothesis: Variances are not significantly different.\")\n"
   ]
  },
  {
   "cell_type": "code",
   "execution_count": null,
   "id": "47036aee-447e-4fe7-af22-e2959401a05f",
   "metadata": {},
   "outputs": [],
   "source": []
  },
  {
   "cell_type": "markdown",
   "id": "faa37553-93f6-44c5-9f13-2e0710d4ea2b",
   "metadata": {},
   "source": [
    "Q9. The following data represent the test scores of two groups of students: Group A: 80, 85, 90, 92, 87, 83;\n",
    "Group B: 75, 78, 82, 79, 81, 84. Conduct an F-test at the 1% significance level to determine if the variances\n",
    "are significantly different."
   ]
  },
  {
   "cell_type": "code",
   "execution_count": 11,
   "id": "aa81663e-8616-41c3-9023-bc1f78242ec9",
   "metadata": {},
   "outputs": [
    {
     "name": "stdout",
     "output_type": "stream",
     "text": [
      "Fail to reject null hypothesis: Variances are not significantly different.\n"
     ]
    }
   ],
   "source": [
    "import numpy as np\n",
    "import scipy.stats as stats\n",
    "\n",
    "alpha = 0.01\n",
    "\n",
    "group_a = np.array([80, 85, 90, 92, 87, 83])\n",
    "group_b = np.array([75, 78, 82, 79, 81, 84])\n",
    "\n",
    "variance_group_a = np.var(group_a, ddof=1)\n",
    "variance_group_b = np.var(group_b, ddof=1)\n",
    "\n",
    "f_value = variance_group_a / variance_group_b\n",
    "\n",
    "critical_value = stats.f.ppf(1 - alpha / 2, len(group_a) - 1, len(group_b) - 1)\n",
    "\n",
    "if f_value > critical_value:\n",
    "    print(\"Reject null hypothesis: Variances are significantly different.\")\n",
    "else:\n",
    "    print(\"Fail to reject null hypothesis: Variances are not significantly different.\")\n"
   ]
  },
  {
   "cell_type": "markdown",
   "id": "b277084b-a2b2-4c38-b145-b46e69e2f639",
   "metadata": {},
   "source": []
  }
 ],
 "metadata": {
  "kernelspec": {
   "display_name": "Python 3 (ipykernel)",
   "language": "python",
   "name": "python3"
  },
  "language_info": {
   "codemirror_mode": {
    "name": "ipython",
    "version": 3
   },
   "file_extension": ".py",
   "mimetype": "text/x-python",
   "name": "python",
   "nbconvert_exporter": "python",
   "pygments_lexer": "ipython3",
   "version": "3.10.8"
  }
 },
 "nbformat": 4,
 "nbformat_minor": 5
}
