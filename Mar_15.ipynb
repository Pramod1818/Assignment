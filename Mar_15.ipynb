{
 "cells": [
  {
   "cell_type": "markdown",
   "id": "603f524f-1d1a-4d30-9024-6db4ea688dec",
   "metadata": {},
   "source": [
    "Q1: Explain the following with an example:\n",
    "\n",
    "1. Artificial Intelligence\n",
    "2. Machine Learning\n",
    "3. Deep Learning"
   ]
  },
  {
   "cell_type": "markdown",
   "id": "2b87a0c7-f03b-4797-869e-48334c08c614",
   "metadata": {},
   "source": [
    "Artificial Intelligence (AI): Artificial Intelligence refers to the simulation of human intelligence processes by machines, enabling them to perform tasks that typically require human intelligence. It encompasses a wide range of technologies and techniques to create systems that can learn, reason, problem-solve, and interact with the environment. For example, AI can be used to develop chatbots that engage in natural language conversations, self-driving cars that navigate without human intervention, and recommendation systems that suggest products based on user preferences.\n",
    "\n",
    "Machine Learning (ML): Machine Learning is a subset of AI that focuses on enabling systems to learn from data and improve their performance over time without being explicitly programmed. It involves the use of algorithms that allow machines to identify patterns, make predictions, and learn from examples. For instance, email spam filters that learn to identify spam based on user feedback are a common application of machine learning.\n",
    "\n",
    "Deep Learning (DL): Deep Learning is a subset of machine learning that involves neural networks with multiple layers, allowing them to automatically learn and extract features from data. Deep learning has shown remarkable success in tasks such as image and speech recognition. An example is the use of deep learning to build image recognition systems capable of identifying objects in images."
   ]
  },
  {
   "cell_type": "code",
   "execution_count": null,
   "id": "284fea0d-0b10-4ad4-925b-c141e3e1f712",
   "metadata": {},
   "outputs": [],
   "source": []
  },
  {
   "cell_type": "markdown",
   "id": "e729f6f2-56a6-4366-8d74-ff8d863fda39",
   "metadata": {},
   "source": [
    "Q2: What is supervised learning? List some examples of supervised learning."
   ]
  },
  {
   "cell_type": "markdown",
   "id": "146f3443-0eb5-46a9-9ec8-5f0ec718e9e7",
   "metadata": {},
   "source": [
    "Supervised Learning is a machine learning approach where the model is trained on labeled data, and it learns to make predictions by mapping input data to the correct output labels. Examples of supervised learning include:\n",
    "\n",
    "Image classification: Assigning labels to images (e.g., categorizing cats and dogs).\n",
    "\n",
    "Sentiment analysis: Determining the sentiment (positive, negative, neutral) of a text.\n",
    "\n",
    "Regression: Predicting a continuous output, like predicting house prices."
   ]
  },
  {
   "cell_type": "code",
   "execution_count": null,
   "id": "0ff39902-ec2f-46ba-a971-261bd0b34238",
   "metadata": {},
   "outputs": [],
   "source": []
  },
  {
   "cell_type": "markdown",
   "id": "40919bf8-33b6-40ad-aa5b-47b9d9e149df",
   "metadata": {},
   "source": [
    "Q3: What is unsupervised learning? List some examples of unsupervised learning."
   ]
  },
  {
   "cell_type": "markdown",
   "id": "b2de036e-baa8-4676-90b5-05493e101efc",
   "metadata": {},
   "source": [
    "Unsupervised Learning is a machine learning approach where the model learns from unlabeled data and identifies patterns or structures within the data. Examples of unsupervised learning include:\n",
    "\n",
    "Clustering: Grouping similar data points together (e.g., customer segmentation).\n",
    "\n",
    "Dimensionality reduction: Reducing the number of features while preserving important information (e.g., PCA).\n"
   ]
  },
  {
   "cell_type": "code",
   "execution_count": null,
   "id": "af6b3a24-cb6a-4052-8117-73ee46cdc8f9",
   "metadata": {},
   "outputs": [],
   "source": []
  },
  {
   "cell_type": "markdown",
   "id": "f3dfe9d2-a100-4ccc-aa31-93a11a4fc20f",
   "metadata": {},
   "source": [
    "Q4: What is the difference between AI, ML, DL, and DS?"
   ]
  },
  {
   "cell_type": "markdown",
   "id": "dd417500-cbeb-4cfe-89f6-cf2aedff28aa",
   "metadata": {},
   "source": [
    "AI (Artificial Intelligence): The broader field of creating intelligent machines that can perform tasks that typically require human intelligence.\n",
    "\n",
    "ML (Machine Learning): A subset of AI that focuses on enabling machines to learn from data and improve their performance.\n",
    "\n",
    "DL (Deep Learning): A subset of ML that uses neural networks with multiple layers to automatically learn features from data.\n",
    "\n",
    "DS (Data Science): The interdisciplinary field that involves extracting insights and knowledge from data using various techniques, including machine learning.\n"
   ]
  },
  {
   "cell_type": "code",
   "execution_count": null,
   "id": "7a839ccc-e673-4349-8be4-63a655f27466",
   "metadata": {},
   "outputs": [],
   "source": []
  },
  {
   "cell_type": "markdown",
   "id": "022eafa1-5492-4baf-8d2b-f91af9878834",
   "metadata": {},
   "source": [
    "Q5: What are the main differences between supervised, unsupervised, and semi-supervised learning?\n"
   ]
  },
  {
   "cell_type": "markdown",
   "id": "16735019-515c-4dcb-8db4-74cd2860d58a",
   "metadata": {},
   "source": [
    "Supervised Learning uses labeled data for training and aims to predict labels for new, unseen data.\n",
    "\n",
    "Unsupervised Learning identifies patterns or structures in unlabeled data without predetermined outcomes.\n",
    "\n",
    "Semi-Supervised Learning combines labeled and unlabeled data for training, useful when labeling data is expensive.\n"
   ]
  },
  {
   "cell_type": "code",
   "execution_count": null,
   "id": "903cd20c-c717-4e80-9ad1-20694d3e1751",
   "metadata": {},
   "outputs": [],
   "source": []
  },
  {
   "cell_type": "markdown",
   "id": "9799c21e-c75d-47f2-b728-becbad695496",
   "metadata": {},
   "source": [
    "Q6: What is train, test and validation split? Explain the importance of each term."
   ]
  },
  {
   "cell_type": "markdown",
   "id": "914ab9b8-dd68-4e3c-a2ff-90d97de707ba",
   "metadata": {},
   "source": [
    "Train, test, and validation splits are used in machine learning:\n",
    "\n",
    "Training Set: Used to train the model.\n",
    "\n",
    "Validation Set: Used to tune hyperparameters and assess model performance during training.\n",
    "\n",
    "Test Set: Used to evaluate the model's performance on new, unseen data."
   ]
  },
  {
   "cell_type": "code",
   "execution_count": null,
   "id": "7f799b9b-61bb-475a-83f0-8d18077f9b3d",
   "metadata": {},
   "outputs": [],
   "source": []
  },
  {
   "cell_type": "markdown",
   "id": "62f6fb30-57bb-4247-93d4-cdb0ba65b045",
   "metadata": {},
   "source": [
    "Q7: How can unsupervised learning be used in anomaly detection?"
   ]
  },
  {
   "cell_type": "markdown",
   "id": "8692bef3-22bb-4e50-b6b1-04c3f7ea7378",
   "metadata": {},
   "source": [
    "Unsupervised learning can be used in anomaly detection by identifying data points that deviate significantly from the norm, based on their clustering or distribution patterns. For example, clustering methods can identify unusual clusters, and autoencoders can reconstruct normal data and flag anomalies with higher reconstruction error."
   ]
  },
  {
   "cell_type": "code",
   "execution_count": null,
   "id": "170512f1-3c5a-4a12-9af6-352cd99111a1",
   "metadata": {},
   "outputs": [],
   "source": []
  },
  {
   "cell_type": "markdown",
   "id": "040d6860-15fa-4da6-92fa-cfe11492fddd",
   "metadata": {},
   "source": [
    "Q8: List down some commonly used supervised learning algorithms and unsupervised learning algorithms."
   ]
  },
  {
   "cell_type": "markdown",
   "id": "663ce763-260f-47f3-8532-870379a895a3",
   "metadata": {},
   "source": [
    "Supervised Learning Algorithms:\n",
    "\n",
    "Linear Regression,\n",
    "Logistic Regression,\n",
    "Decision Trees,\n",
    "Random Forest,\n",
    "Support Vector Machines (SVM),\n",
    "Neural Networks\n",
    "\n",
    "\n",
    "Unsupervised Learning Algorithms:\n",
    "\n",
    "K-Means Clustering,\n",
    "Hierarchical Clustering,\n",
    "Principal Component Analysis (PCA),\n",
    "Autoencoders,\n",
    "Gaussian Mixture Models (GMM)"
   ]
  },
  {
   "cell_type": "code",
   "execution_count": null,
   "id": "6270e333-8a92-41aa-aa81-17afe8e80967",
   "metadata": {},
   "outputs": [],
   "source": []
  }
 ],
 "metadata": {
  "kernelspec": {
   "display_name": "Python 3 (ipykernel)",
   "language": "python",
   "name": "python3"
  },
  "language_info": {
   "codemirror_mode": {
    "name": "ipython",
    "version": 3
   },
   "file_extension": ".py",
   "mimetype": "text/x-python",
   "name": "python",
   "nbconvert_exporter": "python",
   "pygments_lexer": "ipython3",
   "version": "3.10.8"
  }
 },
 "nbformat": 4,
 "nbformat_minor": 5
}
