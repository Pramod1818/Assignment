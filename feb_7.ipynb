{
 "cells": [
  {
   "cell_type": "markdown",
   "id": "20f11c53-7f37-4cf6-8005-f860a03c312e",
   "metadata": {},
   "source": [
    "Q1. You are writing code for a company. The requirement of the company is that you create a python\n",
    "function that will check whether the password entered by the user is correct or not. The function should\n",
    "take the password as input and return the string “Valid Password” if the entered password follows the\n",
    "below-given password guidelines else it should return “Invalid Password”.\n",
    "Note: 1. The Password should contain at least two uppercase letters and at least two lowercase letters.\n",
    "2. The Password should contain at least a number and three special characters.\n",
    "3. The length of the password should be 10 characters long.\n"
   ]
  },
  {
   "cell_type": "code",
   "execution_count": 12,
   "id": "baf7e5e0-2005-4465-a05c-096f7dabe6b1",
   "metadata": {},
   "outputs": [
    {
     "name": "stdout",
     "output_type": "stream",
     "text": [
      "Valid Password\n",
      "Invalid Password\n"
     ]
    }
   ],
   "source": [
    "import re\n",
    "\n",
    "def chck_password(password):\n",
    "    if len(password) != 10:\n",
    "        return \"Invalid Password\"\n",
    "    \n",
    "    uppercase_count = sum(1 for char in password if char.isupper())\n",
    "    lowercase_count = sum(1 for char in password if char.islower())\n",
    "    digit_count = sum(1 for char in password if char.isdigit())\n",
    "    special_count = len(re.findall(r'[!@#$%^&*(),.?\":{}|<>]', password))\n",
    "    \n",
    "    if uppercase_count >= 2 and lowercase_count >= 2 and digit_count >= 1 and special_count >= 3:\n",
    "        return \"Valid Password\"\n",
    "    else:\n",
    "        return \"Invalid Password\"\n",
    "\n",
    "\n",
    "password1 = \"ABcdef1$%^\"\n",
    "password2 = \"Abc@123456\"\n",
    "print(chck_password(password1))\n",
    "print(chck_password(password2))\n"
   ]
  },
  {
   "cell_type": "code",
   "execution_count": null,
   "id": "b41db5ea-5e55-409c-af6f-c398a62c1957",
   "metadata": {},
   "outputs": [],
   "source": []
  },
  {
   "cell_type": "markdown",
   "id": "084ee9ce-5ae8-4ad7-b5a2-f3eae8ce19ae",
   "metadata": {},
   "source": [
    "Q2. Solve the below-given questions using at least one of the following:\n",
    "1. Lambda functioJ\n",
    "2. Filter functioJ\n",
    "3. Zap functioJ\n",
    "4. List Comprehension\n",
    "\n",
    ". Check if the string starts with a particular letter\n",
    ". Check if the string is numeric\n",
    ". Sort a list of tuples having fruit names and their quantity. [(\"mango\",99),(\"orange\",80), (\"grapes\", 1000)-\n",
    ". Find the squares of numbers from 1 to 10Y\n",
    ". Find the cube root of numbers from 1 to 10Y\n",
    ". Check if a given number is evenY\n",
    ". Filter odd numbers from the given list.\n",
    ". [1,2,3,4,5,6,7,8,9,10]\n",
    ". Sort a list of integers into positive and negative integers lists. [1,2,3,4,5,6,-1,-2,-3,-4,-5,0]"
   ]
  },
  {
   "cell_type": "code",
   "execution_count": 18,
   "id": "89f1d50a-cb4f-4f77-9aca-b122c5794ea1",
   "metadata": {},
   "outputs": [
    {
     "name": "stdout",
     "output_type": "stream",
     "text": [
      "['Mango', 'Melon']\n",
      "['123', '456']\n",
      "[('orange', 80), ('mango', 99), ('grapes', 1000)]\n",
      "[1, 4, 9, 16, 25, 36, 49, 64, 81, 100]\n",
      "[1.0, 1.2599210498948732, 1.4422495703074083, 1.5874010519681994, 1.7099759466766968, 1.8171205928321397, 1.912931182772389, 2.0, 2.080083823051904, 2.154434690031884]\n",
      "[2, 4, 6, 8, 10]\n",
      "[1, 3, 5, 7, 9]\n",
      "[1, 2, 3, 4, 5, 6]\n",
      "[-1, -2, -3, -4, -5]\n"
     ]
    }
   ],
   "source": [
    "# Check if a string starts with a particular letter\n",
    "startsWithM = lambda s: s.startswith('M')\n",
    "strings = [\"Apple\", \"Banana\", \"Cherry\",\"Watermelon\",\"Mango\",\"Melon\"]\n",
    "result = list(filter(startsWithA, strings))\n",
    "print(result)\n",
    "\n",
    "# Check if the string is numeric\n",
    "isNumeric = lambda s: s.isnumeric()\n",
    "values = [\"123\", \"abc\", \"456\"]\n",
    "result = list(filter(isNumeric, values))\n",
    "print(result)\n",
    "\n",
    "# Sort a list of tuples of fruit names and quantity\n",
    "fruits = [(\"mango\", 99), (\"orange\", 80), (\"grapes\", 1000)]\n",
    "sorted_fruits = sorted(fruits, key=lambda x: x[1])\n",
    "print(sorted_fruits)\n",
    "\n",
    "# Find the squares of numbers from 1 to 10\n",
    "squares = [x**2 for x in range(1, 11)]\n",
    "print(squares)\n",
    "\n",
    "# Find the cube root of numbers from 1 to 10\n",
    "cube_roots = [x**(1/3) for x in range(1, 11)]\n",
    "print(cube_roots)\n",
    "\n",
    "# Check if a given number is even\n",
    "is_even = lambda x: x % 2 == 0\n",
    "numbers = [1, 2, 3, 4, 5, 6, 7, 8, 9, 10]\n",
    "even_numbers = list(filter(is_even, numbers))\n",
    "print(even_numbers)\n",
    "\n",
    "# Filter odd numbers from the given list\n",
    "odd_numbers = [x for x in numbers if not is_even(x)]\n",
    "print(odd_numbers)\n",
    "\n",
    "# Sort a list of integers into positive and negative integers lists\n",
    "integers = [1, 2, 3, 4, 5, 6, -1, -2, -3, -4, -5, 0]\n",
    "positive_integers = [x for x in integers if x > 0]\n",
    "negative_integers = [x for x in integers if x < 0]\n",
    "print(positive_integers)\n",
    "print(negative_integers)\n"
   ]
  },
  {
   "cell_type": "code",
   "execution_count": null,
   "id": "300c5fbd-03a5-4e58-ac0e-5fef6b24c49a",
   "metadata": {},
   "outputs": [],
   "source": []
  }
 ],
 "metadata": {
  "kernelspec": {
   "display_name": "Python 3 (ipykernel)",
   "language": "python",
   "name": "python3"
  },
  "language_info": {
   "codemirror_mode": {
    "name": "ipython",
    "version": 3
   },
   "file_extension": ".py",
   "mimetype": "text/x-python",
   "name": "python",
   "nbconvert_exporter": "python",
   "pygments_lexer": "ipython3",
   "version": "3.10.8"
  }
 },
 "nbformat": 4,
 "nbformat_minor": 5
}
