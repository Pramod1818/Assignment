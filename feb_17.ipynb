{
 "cells": [
  {
   "cell_type": "markdown",
   "id": "995d1bb7-0f07-4b26-9ebc-727443ebf2d1",
   "metadata": {},
   "source": [
    "Q1. What is MongoDB? Explain non-relational databases in short. In which scenarios it is preferred to use\n",
    "MongoDB over SQL databases?\n"
   ]
  },
  {
   "cell_type": "markdown",
   "id": "8ec8eb17-03d8-407c-8134-c87eaeaaea30",
   "metadata": {},
   "source": [
    "MongoDB is a popular open-source NoSQL database management system. NoSQL databases, or non-relational databases, are designed to handle unstructured, semi-structured, or structured data without the rigid structure of a relational database. They use various data models like key-value pairs, documents, graphs, and column-family stores.\n",
    "\n",
    "In scenarios where data is complex, dynamic, or rapidly changing, NoSQL databases like MongoDB are preferred. Examples include:\n",
    "\n",
    "Storing large volumes of rapidly changing, unstructured or semi-structured data.\n",
    "Handling data that doesn't fit well into a fixed schema.\n",
    "Needing to horizontally scale the database across multiple servers."
   ]
  },
  {
   "cell_type": "code",
   "execution_count": null,
   "id": "f5cb8b58-b6cc-46b9-a4d2-8b13b14f526a",
   "metadata": {},
   "outputs": [],
   "source": []
  },
  {
   "cell_type": "markdown",
   "id": "e959a46a-728a-45b7-bafb-bca223e2c467",
   "metadata": {},
   "source": [
    "Q2. State and Explain the features of MongoDB.\n"
   ]
  },
  {
   "cell_type": "markdown",
   "id": "dbd3b598-5deb-4ef4-9483-7290297bcfea",
   "metadata": {},
   "source": [
    "Schema Flexibility: MongoDB documents are schema-less, allowing dynamic changes to the data structure without affecting existing records.\n",
    "\n",
    "High Performance: Supports indexing, sharding, and replication for high availability and scalability.\n",
    "\n",
    "Document-Oriented: Stores data in BSON (Binary JSON) format, which is rich and expressive.\n",
    "\n",
    "Rich Query Language: Supports complex queries and indexing.\n",
    "\n",
    "High Availability: Provides replication and automated failover support.\n",
    "\n",
    "Horizontal Scalability: Allows data distribution across multiple servers using sharding.\n",
    "\n",
    "Aggregation Framework: Provides tools to perform advanced data aggregation and analysis.\n",
    "\n",
    "Geospatial and Text Search: Supports geospatial indexing and querying, as well as full-text search."
   ]
  },
  {
   "cell_type": "code",
   "execution_count": null,
   "id": "b85085e5-b488-49e9-8eb1-7dc6b0395a5e",
   "metadata": {},
   "outputs": [],
   "source": []
  },
  {
   "cell_type": "markdown",
   "id": "9e26c4f4-316f-41d2-9cfb-c4af9c24f286",
   "metadata": {},
   "source": [
    "Q3. Write a code to connect MongoDB to Python. Also, create a database and a collection in MongoDB.\n"
   ]
  },
  {
   "cell_type": "code",
   "execution_count": null,
   "id": "b0541576-3b4a-4e2c-8e5a-d91135c09e91",
   "metadata": {},
   "outputs": [],
   "source": [
    "import pymongo\n",
    "\n",
    "# Establish connection\n",
    "client = pymongo.MongoClient(\"mongodb://localhost:8080/\")\n",
    "\n",
    "# Create a database and a collection\n",
    "db = client[\"mydatabase\"]\n",
    "collection = db[\"mycollection\"]\n"
   ]
  },
  {
   "cell_type": "code",
   "execution_count": null,
   "id": "4654dbc9-3826-432b-9c45-eba607ee21c7",
   "metadata": {},
   "outputs": [],
   "source": []
  },
  {
   "cell_type": "markdown",
   "id": "33f6e8e1-b6ce-4900-b394-aabd9c895884",
   "metadata": {},
   "source": [
    "Q4. Using the database and the collection created in question number 3, write a code to insert one record,\n",
    "and insert many records. Use the find() and find_one() methods to print the inserted record.\n"
   ]
  },
  {
   "cell_type": "code",
   "execution_count": null,
   "id": "368cab55-b2e3-4296-a063-439b02d2f46e",
   "metadata": {},
   "outputs": [],
   "source": [
    "# Insert one record\n",
    "record = {\"name\": \"Aman\", \"age\": 30}\n",
    "inserted_id = collection.insert_one(record).inserted_id\n",
    "\n",
    "# Insert many records\n",
    "records = [\n",
    "    {\"name\": \"Gagan\", \"age\": 25},\n",
    "    {\"name\": \"Jeetu\", \"age\": 28}\n",
    "]\n",
    "inserted_ids = collection.insert_many(records).inserted_ids\n",
    "\n",
    "# Find one record\n",
    "result_one = collection.find_one({\"name\": \"Gagan\"})\n",
    "print(\"Find One:\", result_one)\n",
    "\n",
    "# Find all records\n",
    "result_all = collection.find()\n",
    "for doc in result_all:\n",
    "    print(\"Find All:\", doc)\n"
   ]
  },
  {
   "cell_type": "code",
   "execution_count": null,
   "id": "c1b10b1a-39de-4263-b863-808d2fefa5b4",
   "metadata": {},
   "outputs": [],
   "source": []
  },
  {
   "cell_type": "markdown",
   "id": "b8a3a615-48ed-4deb-ae2a-aaec08df65fa",
   "metadata": {},
   "source": [
    "Q5. Explain how you can use the find() method to query the MongoDB database. Write a simple code to\n",
    "demonstrate this.\n"
   ]
  },
  {
   "cell_type": "markdown",
   "id": "5828d316-56cd-4909-9069-4283ec1dc2d2",
   "metadata": {},
   "source": [
    "The find() method is used to query MongoDB collections. It allows you to specify filtering criteria and projection.\n"
   ]
  },
  {
   "cell_type": "code",
   "execution_count": null,
   "id": "7be6e598-e98f-46e7-be5c-6de7a0268329",
   "metadata": {},
   "outputs": [],
   "source": [
    "# Query using find()\n",
    "query = {\"age\": {\"$gte\": 25}}\n",
    "result = collection.find(query)\n",
    "\n",
    "for doc in result:\n",
    "    print(\"Find Query:\", doc)"
   ]
  },
  {
   "cell_type": "code",
   "execution_count": null,
   "id": "730a43de-1084-440f-b106-15c9bf5937ed",
   "metadata": {},
   "outputs": [],
   "source": []
  },
  {
   "cell_type": "markdown",
   "id": "868f0075-cdc1-43f0-9cd7-9d37a8b056cd",
   "metadata": {},
   "source": [
    "Q6. Explain the sort() method. Give an example to demonstrate sorting in MongoDB.\n"
   ]
  },
  {
   "cell_type": "code",
   "execution_count": null,
   "id": "31a638d9-ecc5-47ed-97e6-c340f9e265d1",
   "metadata": {},
   "outputs": [],
   "source": [
    "# The sort() method is used to sort the results of a query in MongoDB.\n",
    "\n",
    "# Sort in ascending order by age\n",
    "result = collection.find().sort(\"age\", pymongo.ASCENDING)\n",
    "\n",
    "for doc in result:\n",
    "    print(\"Sorted Result:\", doc)\n"
   ]
  },
  {
   "cell_type": "code",
   "execution_count": null,
   "id": "480869d5-1200-4527-aae5-32b8decf8a4f",
   "metadata": {},
   "outputs": [],
   "source": []
  },
  {
   "cell_type": "markdown",
   "id": "8c12a8ca-50be-4e4a-939c-31b2d5ddf863",
   "metadata": {},
   "source": [
    "Q7. Explain why delete_one(), delete_many(), and drop() is used."
   ]
  },
  {
   "cell_type": "markdown",
   "id": "29585b92-bea4-487b-bcf0-259130d1f199",
   "metadata": {},
   "source": [
    "delete_one(): Deletes a single document matching a specified filter.\n",
    "delete_many(): Deletes multiple documents matching a specified filter.\n",
    "drop(): Deletes an entire collection.\n",
    "\n",
    "These methods are used to remove data from a collection in MongoDB."
   ]
  },
  {
   "cell_type": "code",
   "execution_count": null,
   "id": "38c17251-7b13-4d63-8219-9966cb1a8669",
   "metadata": {},
   "outputs": [],
   "source": [
    "# Delete a single document\n",
    "collection.delete_one({\"name\": \"Gagan\"})\n",
    "\n",
    "# Delete multiple documents\n",
    "collection.delete_many({\"age\": {\"$gte\": 25}})\n",
    "\n",
    "# Drop the entire collection\n",
    "collection.drop()"
   ]
  }
 ],
 "metadata": {
  "kernelspec": {
   "display_name": "Python 3 (ipykernel)",
   "language": "python",
   "name": "python3"
  },
  "language_info": {
   "codemirror_mode": {
    "name": "ipython",
    "version": 3
   },
   "file_extension": ".py",
   "mimetype": "text/x-python",
   "name": "python",
   "nbconvert_exporter": "python",
   "pygments_lexer": "ipython3",
   "version": "3.10.8"
  }
 },
 "nbformat": 4,
 "nbformat_minor": 5
}
