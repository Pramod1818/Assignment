{
 "cells": [
  {
   "cell_type": "markdown",
   "id": "7f47718d-7be7-43e5-ad97-21e74cc3def6",
   "metadata": {},
   "source": [
    "Q1. Explain with an example each when to use a for loop and a while loop."
   ]
  },
  {
   "cell_type": "code",
   "execution_count": 1,
   "id": "9b0add14-a29b-4a2b-b584-517326aa3d6d",
   "metadata": {},
   "outputs": [
    {
     "name": "stdout",
     "output_type": "stream",
     "text": [
      "1\n",
      "2\n",
      "3\n",
      "4\n",
      "5\n"
     ]
    }
   ],
   "source": [
    "#for loop eg\n",
    "# we use for loop when we we know the number of iterations(for eg we have given a list,tuple or set)\n",
    "list = [1,2,3,4,5]\n",
    "for i in list:\n",
    "    print(i)"
   ]
  },
  {
   "cell_type": "code",
   "execution_count": 3,
   "id": "90cc21c5-d0ce-4fb5-81a7-ef1b7e2180de",
   "metadata": {},
   "outputs": [
    {
     "name": "stdout",
     "output_type": "stream",
     "text": [
      "1\n",
      "2\n",
      "3\n",
      "4\n",
      "5\n",
      "6\n",
      "7\n",
      "8\n",
      "9\n",
      "10\n"
     ]
    }
   ],
   "source": [
    "#while loop eg\n",
    "# we use while loop when we have to run a  loop till a certain condition \n",
    "a= 1\n",
    "while a<=10:\n",
    "    print(a)\n",
    "    a = a+1"
   ]
  },
  {
   "cell_type": "code",
   "execution_count": null,
   "id": "3c7af9c0-0bfb-4103-89ec-1783623e61db",
   "metadata": {},
   "outputs": [],
   "source": []
  },
  {
   "cell_type": "markdown",
   "id": "1fd70498-3214-42ff-a1bf-5d545461783a",
   "metadata": {},
   "source": [
    "Q2. Write a python program to print the sum and product of the first 10 natural numbers using for\n",
    "and while loop."
   ]
  },
  {
   "cell_type": "code",
   "execution_count": 5,
   "id": "2add8a78-7ee3-46f2-806e-3e40f0d6716f",
   "metadata": {},
   "outputs": [
    {
     "name": "stdout",
     "output_type": "stream",
     "text": [
      "Sum using for loop:  55\n",
      "Product using for loop:  3628800\n",
      "Sum using while loop: 55\n",
      "Product using while loop: 3628800\n"
     ]
    }
   ],
   "source": [
    "# Using a for loop\n",
    "fsum = 0\n",
    "fproduct = 1\n",
    "for i in range(1, 11):\n",
    "    fsum += i\n",
    "    fproduct *= i\n",
    "print(\"Sum using for loop: \", fsum)\n",
    "print(\"Product using for loop: \", fproduct)\n",
    "\n",
    "# Using a while loop\n",
    "n = 1\n",
    "wsum = 0\n",
    "wproduct = 1\n",
    "while n <= 10:\n",
    "    wsum += n\n",
    "    wproduct *= n\n",
    "    n += 1\n",
    "print(\"Sum using while loop:\", wsum)\n",
    "print(\"Product using while loop:\", wproduct)"
   ]
  },
  {
   "cell_type": "code",
   "execution_count": null,
   "id": "0abd5b4d-4c42-4498-888f-50250ae57a71",
   "metadata": {},
   "outputs": [],
   "source": []
  },
  {
   "cell_type": "markdown",
   "id": "228de622-7f51-4335-8ad1-e930dc60a350",
   "metadata": {},
   "source": [
    "Q3. Create a python program to compute the electricity bill for a household.\n",
    "The per-unit charges in rupees are as follows: For the first 100 units, the user will be charged Rs. 4.5 per\n",
    "unit, for the next 100 units, the user will be charged Rs. 6 per unit, and for the next 100 units, the user will be charged Rs. 10 per unit, After 300 units and above the user will be charged Rs. 20 per unit.\n",
    "You are required to take the units of electricity consumed in a month from the user as input.\n",
    "\n",
    "Your program must pass this test case: when the unit of electricity consumed by the user in a month is\n",
    "310, the total electricity bill should be 2250.\n",
    "\n"
   ]
  },
  {
   "cell_type": "code",
   "execution_count": 6,
   "id": "3089cfab-a71b-4195-9142-e1435094df7e",
   "metadata": {},
   "outputs": [
    {
     "name": "stdin",
     "output_type": "stream",
     "text": [
      "Enter the units of electricity consumed in the month: \n",
      " 310\n"
     ]
    },
    {
     "name": "stdout",
     "output_type": "stream",
     "text": [
      "Total electricity bill for the month is:  2250.0\n"
     ]
    }
   ],
   "source": [
    "units = float(input(\"Enter the units of electricity consumed in the month: \\n\"))\n",
    "\n",
    "if units <= 100:\n",
    "    bill = units * 4.5\n",
    "elif units <= 200:\n",
    "    bill = 100 * 4.5 + (units - 100) * 6\n",
    "elif units <= 300:\n",
    "    bill = 100 * 4.5 + 100 * 6 + (units - 200) * 10\n",
    "else:\n",
    "    bill = 100 * 4.5 + 100 * 6 + 100 * 10 + (units - 300) * 20\n",
    "\n",
    "print(\"Total electricity bill for the month is: \", bill)\n"
   ]
  },
  {
   "cell_type": "code",
   "execution_count": null,
   "id": "0f31b88e-303f-45c1-8c20-4498410f5ec8",
   "metadata": {},
   "outputs": [],
   "source": []
  },
  {
   "cell_type": "markdown",
   "id": "0080b042-3c57-4773-b40f-a019d8b42c66",
   "metadata": {},
   "source": [
    "Q4. Create a list of numbers from 1 to 100. Use for loop and while loop to calculate the cube of each\n",
    "number and if the cube of that number is divisible by 4 or 5 then append that number in a list and print\n",
    "that list."
   ]
  },
  {
   "cell_type": "code",
   "execution_count": 8,
   "id": "2d1192b7-928c-4fb6-9e8b-b735e91e902d",
   "metadata": {},
   "outputs": [
    {
     "name": "stdout",
     "output_type": "stream",
     "text": [
      "\n",
      "Cubes divisible by 4 or 5 using for loop:\n",
      " [8, 64, 125, 216, 512, 1000, 1728, 2744, 3375, 4096, 5832, 8000, 10648, 13824, 15625, 17576, 21952, 27000, 32768, 39304, 42875, 46656, 54872, 64000, 74088, 85184, 91125, 97336, 110592, 125000, 140608, 157464, 166375, 175616, 195112, 216000, 238328, 262144, 274625, 287496, 314432, 343000, 373248, 405224, 421875, 438976, 474552, 512000, 551368, 592704, 614125, 636056, 681472, 729000, 778688, 830584, 857375, 884736, 941192, 1000000]\n",
      "\n",
      "Cubes divisible by 4 or 5 using while loop:\n",
      " [8, 64, 125, 216, 512, 1000, 1728, 2744, 3375, 4096, 5832, 8000, 10648, 13824, 15625, 17576, 21952, 27000, 32768, 39304, 42875, 46656, 54872, 64000, 74088, 85184, 91125, 97336, 110592, 125000, 140608, 157464, 166375, 175616, 195112, 216000, 238328, 262144, 274625, 287496, 314432, 343000, 373248, 405224, 421875, 438976, 474552, 512000, 551368, 592704, 614125, 636056, 681472, 729000, 778688, 830584, 857375, 884736, 941192, 1000000]\n"
     ]
    }
   ],
   "source": [
    "#  for loop\n",
    "cubes_listf = []\n",
    "for num in range(1, 101):\n",
    "    cube = num ** 3\n",
    "    if cube % 4 == 0 or cube % 5 == 0:\n",
    "        cubes_listf.append(cube)\n",
    "print(\"\\nCubes divisible by 4 or 5 using for loop:\\n\", cubes_listf)\n",
    "\n",
    "# while loop\n",
    "cubes_listw = []\n",
    "num = 1\n",
    "while num <= 100:\n",
    "    cube = num ** 3\n",
    "    if cube % 4 == 0 or cube % 5 == 0:\n",
    "        cubes_listw.append(cube)\n",
    "    num += 1\n",
    "print(\"\\nCubes divisible by 4 or 5 using while loop:\\n\", cubes_listw)\n"
   ]
  },
  {
   "cell_type": "code",
   "execution_count": null,
   "id": "2b2813a3-277f-449b-9e70-2d2ec6b1ae6f",
   "metadata": {},
   "outputs": [],
   "source": []
  },
  {
   "cell_type": "markdown",
   "id": "d5c9d1c4-accb-4b5b-a289-d59843ca9b2c",
   "metadata": {},
   "source": [
    "Q5. Write a program to filter count vowels in the below-given string.\n",
    "string = \"I want to become a data scientist\""
   ]
  },
  {
   "cell_type": "code",
   "execution_count": 10,
   "id": "8718dd51-e546-4d8c-afce-f13bc4ced054",
   "metadata": {},
   "outputs": [
    {
     "name": "stdout",
     "output_type": "stream",
     "text": [
      "Number of vowels in the string: 12\n"
     ]
    }
   ],
   "source": [
    "string = \"I want to become a data scientist\"\n",
    "vowels = \"aeiouAEIOU\"\n",
    "\n",
    "vowel_no = 0\n",
    "for char in string:\n",
    "    if char in vowels:\n",
    "        vowel_no += 1\n",
    "\n",
    "print(\"Number of vowels in the string:\", vowel_no)\n"
   ]
  },
  {
   "cell_type": "code",
   "execution_count": null,
   "id": "00c004ef-b3e8-471a-92ea-ad3ce60f1987",
   "metadata": {},
   "outputs": [],
   "source": []
  }
 ],
 "metadata": {
  "kernelspec": {
   "display_name": "Python 3 (ipykernel)",
   "language": "python",
   "name": "python3"
  },
  "language_info": {
   "codemirror_mode": {
    "name": "ipython",
    "version": 3
   },
   "file_extension": ".py",
   "mimetype": "text/x-python",
   "name": "python",
   "nbconvert_exporter": "python",
   "pygments_lexer": "ipython3",
   "version": "3.10.8"
  }
 },
 "nbformat": 4,
 "nbformat_minor": 5
}
