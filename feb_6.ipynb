{
 "cells": [
  {
   "cell_type": "markdown",
   "id": "3e9118ce-8571-4fdf-990c-76f0be58ee31",
   "metadata": {},
   "source": [
    "Q1. Create a function which will take a list as an argument and return the product of all the numbers\n",
    "after creating a flat list.\n",
    "Use the below-given list as an argument for your function.\n",
    "list1 = [1,2,3,4, [44,55,66, True], False, (34,56,78,89,34), {1,2,3,3,2,1}, {1:34, \"key2\": [55, 67, 78, 89], 4: (45, 22, 61, 34)}, [56, 'data science'], 'Machine Learning']\n",
    "Note: you must extract numeric keys and values of the dictionary also.\n"
   ]
  },
  {
   "cell_type": "code",
   "execution_count": 7,
   "id": "9be3750f-8305-4e79-a5b4-f09c95b00376",
   "metadata": {},
   "outputs": [
    {
     "name": "stdout",
     "output_type": "stream",
     "text": [
      "Product of numbers is : 78718933113238978560\n"
     ]
    }
   ],
   "source": [
    "flat_lst = []\n",
    "def calc_product(numbers):\n",
    "    for i in numbers:\n",
    "        if isinstance(i, (int, float)):\n",
    "            flat_lst.append(i)\n",
    "        elif isinstance(i, (list, tuple, set)):\n",
    "            flat_lst.extend([x for x in i if isinstance(x, (int, float))])\n",
    "        elif isinstance(i, dict):\n",
    "            flat_lst.extend([x for key, value in i.items() for x in (key, value) if isinstance(x, (int, float))])\n",
    "\n",
    "    product = 1\n",
    "    for num in flat_lst:\n",
    "        if num == True or num == False:\n",
    "            continue\n",
    "        product *= num\n",
    "    return product\n",
    "\n",
    "\n",
    "list1 = [1, 2, 3, 4, [44, 55, 66, True], False, (34, 56, 78, 89, 34), {1, 2, 3, 3, 2, 1},\n",
    "         {1: 34, \"key2\": [55, 67, 78, 89], 4: (45, 22, 61, 34)}, [56, 'data science'], 'Machine Learning']\n",
    "\n",
    "result = calc_product(list1)\n",
    "print(\"Product of numbers is :\", result)\n"
   ]
  },
  {
   "cell_type": "code",
   "execution_count": null,
   "id": "925f72ea-acb2-48bb-8005-e3993934fefb",
   "metadata": {},
   "outputs": [],
   "source": []
  },
  {
   "cell_type": "markdown",
   "id": "b08c4ecc-a2bb-4937-ab55-70130cd31abe",
   "metadata": {},
   "source": [
    "Q2. Write a python program for encrypting a message sent to you by your friend. The logic of encryption\n",
    "should be such that, for a the output should be z. For b, the output should be y. For c, the output should\n",
    "be x respectively. Also, the whitespace should be replaced with a dollar sign. Keep the punctuation\n",
    "marks unchanged.\n",
    "Input Sentence: I want to become a Data Scientist.\n",
    "Encrypt the above input sentence using the program you just created.\n",
    "Note: Convert the given input sentence into lowercase before encrypting. The final output should be\n",
    "lowercase."
   ]
  },
  {
   "cell_type": "code",
   "execution_count": 11,
   "id": "d8f00e6b-cf19-40f3-9975-3f177ddcc672",
   "metadata": {},
   "outputs": [
    {
     "name": "stdout",
     "output_type": "stream",
     "text": [
      "Encrypted message: r$dzmg$gl$yvxlnv$z$wzgz$hxrvmgrhg.\n"
     ]
    }
   ],
   "source": [
    "def encryption(message):\n",
    "    encryption_dict = {\n",
    "        'a': 'z', 'b': 'y', 'c': 'x', 'd': 'w', 'e': 'v', 'f': 'u', 'g': 't', 'h': 's',\n",
    "        'i': 'r', 'j': 'q', 'k': 'p', 'l': 'o', 'm': 'n', 'n': 'm', 'o': 'l', 'p': 'k',\n",
    "        'q': 'j', 'r': 'i', 's': 'h', 't': 'g', 'u': 'f', 'v': 'e', 'w': 'd', 'x': 'c',\n",
    "        'y': 'b', 'z': 'a', ' ': '$'\n",
    "    }\n",
    "    \n",
    "    msg = ''\n",
    "    for char in message:\n",
    "        if char in encryption_dict:\n",
    "            msg += encryption_dict[char]\n",
    "        else:\n",
    "            msg += char\n",
    "    \n",
    "    return msg\n",
    "\n",
    "input_sentence = \"I want to become a Data Scientist.\"\n",
    "lowercase_input = input_sentence.lower()\n",
    "encrypted_output = encryption(lowercase_input)\n",
    "\n",
    "print(\"Encrypted message:\", encrypted_output)\n"
   ]
  },
  {
   "cell_type": "code",
   "execution_count": null,
   "id": "025af3c8-264d-4892-86f3-19719fd23880",
   "metadata": {},
   "outputs": [],
   "source": []
  }
 ],
 "metadata": {
  "kernelspec": {
   "display_name": "Python 3 (ipykernel)",
   "language": "python",
   "name": "python3"
  },
  "language_info": {
   "codemirror_mode": {
    "name": "ipython",
    "version": 3
   },
   "file_extension": ".py",
   "mimetype": "text/x-python",
   "name": "python",
   "nbconvert_exporter": "python",
   "pygments_lexer": "ipython3",
   "version": "3.10.8"
  }
 },
 "nbformat": 4,
 "nbformat_minor": 5
}
