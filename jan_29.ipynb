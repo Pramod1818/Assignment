{
 "cells": [
  {
   "cell_type": "markdown",
   "id": "57f17369-95be-47c1-bc34-713031a066dc",
   "metadata": {},
   "source": [
    "1. who developed python programming language?\n"
   ]
  },
  {
   "cell_type": "markdown",
   "id": "b399bc6d-b0e0-4c69-ab47-f3dd29622e6e",
   "metadata": {},
   "source": [
    "Python was developed by Guido van Rossum and first released in 1991."
   ]
  },
  {
   "cell_type": "markdown",
   "id": "ce51b4f2-2f41-4887-b027-f8ec92a4d47a",
   "metadata": {},
   "source": []
  },
  {
   "cell_type": "markdown",
   "id": "d18adb51-9ee7-4d8a-9a36-ce5caf1c2295",
   "metadata": {},
   "source": [
    "2. which type  programing does python support?\n"
   ]
  },
  {
   "cell_type": "markdown",
   "id": "09b98518-b7c1-4b43-a1dd-3ae74325ac63",
   "metadata": {},
   "source": [
    "Python supports various programming paradigms, including procedural, object-oriented, and functional programming."
   ]
  },
  {
   "cell_type": "code",
   "execution_count": null,
   "id": "c5cf55f4-30c1-4893-9b86-2f3e8f60db5e",
   "metadata": {},
   "outputs": [],
   "source": []
  },
  {
   "cell_type": "markdown",
   "id": "daceb208-bb7a-4e9b-a994-e72023911630",
   "metadata": {},
   "source": [
    "3.  is python case sensitive when dealing with identifiers?\n"
   ]
  },
  {
   "cell_type": "markdown",
   "id": "c95c2a16-09e7-4a1e-9bea-f27b765b5bde",
   "metadata": {},
   "source": [
    "Yes, Python is case-sensitive when dealing with identifiers. "
   ]
  },
  {
   "cell_type": "code",
   "execution_count": null,
   "id": "886c951c-3742-4f16-95db-ef5419fcdc4b",
   "metadata": {},
   "outputs": [],
   "source": []
  },
  {
   "cell_type": "markdown",
   "id": "4080aa39-65db-4d43-b43e-a03076dd2a15",
   "metadata": {},
   "source": [
    "4. what is the correct extension of python file?\n"
   ]
  },
  {
   "cell_type": "code",
   "execution_count": null,
   "id": "13476248-7c47-477c-8d94-c91059a64d36",
   "metadata": {},
   "outputs": [],
   "source": [
    " .py"
   ]
  },
  {
   "cell_type": "code",
   "execution_count": null,
   "id": "8c827a44-3d74-48f0-9647-c9b9dfe86cc8",
   "metadata": {},
   "outputs": [],
   "source": []
  },
  {
   "cell_type": "markdown",
   "id": "0e1c313c-0d35-4f62-9f0a-ca63be76681a",
   "metadata": {},
   "source": [
    "5. is python code complied or interpreted?\n"
   ]
  },
  {
   "cell_type": "markdown",
   "id": "e1b9b901-5fb3-4f56-87f5-456f2f35448c",
   "metadata": {},
   "source": [
    "Python code is both compiled and interpreted. It's compiled into bytecode (.pyc files) before being executed by the Python interpreter."
   ]
  },
  {
   "cell_type": "code",
   "execution_count": null,
   "id": "3cb6b0e7-d2e1-48e5-a826-533ae2c30ef4",
   "metadata": {},
   "outputs": [],
   "source": []
  },
  {
   "cell_type": "markdown",
   "id": "5dc7a8e3-754d-4dec-8665-1ee43f4df23f",
   "metadata": {},
   "source": [
    "6. Name a few blocks of code used to define in python language?\n"
   ]
  },
  {
   "cell_type": "markdown",
   "id": "689b02d6-0893-44bd-b7e8-4264bb12ad87",
   "metadata": {},
   "source": [
    "In Python, code blocks are defined using indentation. Common blocks include loops, conditionals, and function/method definitions."
   ]
  },
  {
   "cell_type": "code",
   "execution_count": null,
   "id": "6ab4ad77-ff69-4d1b-8a55-18bbb0369bad",
   "metadata": {},
   "outputs": [],
   "source": []
  },
  {
   "cell_type": "markdown",
   "id": "feff94cd-25f3-41be-9321-004890a7b472",
   "metadata": {},
   "source": [
    "7. State a character used to give a single line comments in python.\n"
   ]
  },
  {
   "cell_type": "markdown",
   "id": "8d264764-b8ce-4f2d-ae76-47a1758d31b3",
   "metadata": {},
   "source": [
    "The # character is used to create a single-line comment in Python."
   ]
  },
  {
   "cell_type": "code",
   "execution_count": null,
   "id": "3d7aca9e-5a8f-4d3a-bb0b-58a481080a13",
   "metadata": {},
   "outputs": [],
   "source": []
  },
  {
   "cell_type": "markdown",
   "id": "c09f6eb4-89ae-4a8e-9c2f-659964370cfe",
   "metadata": {},
   "source": [
    "8. Mentions functions which can help us to find the version of python that we are currently working on.\n"
   ]
  },
  {
   "cell_type": "markdown",
   "id": "db755710-0758-44ed-a82b-e44c7291914b",
   "metadata": {},
   "source": [
    "You can use the sys module to find the Python version. The sys.version and sys.version_info attributes provide version information."
   ]
  },
  {
   "cell_type": "code",
   "execution_count": null,
   "id": "6b46472f-4168-4f0e-8f80-863546732ba7",
   "metadata": {},
   "outputs": [],
   "source": []
  },
  {
   "cell_type": "markdown",
   "id": "469ece5f-0748-448e-be7f-a62515bcfee7",
   "metadata": {},
   "source": [
    "9. Python supports the creation of anonymous function at runtime, using a construct called  __________\n"
   ]
  },
  {
   "cell_type": "markdown",
   "id": "13936695-a308-4b71-b376-613888e87a80",
   "metadata": {},
   "source": [
    "Python supports the creation of anonymous functions (also known as lambda functions) using the lambda keyword."
   ]
  },
  {
   "cell_type": "code",
   "execution_count": null,
   "id": "d4d50a5b-eb78-415e-968e-9fb6d3a1723b",
   "metadata": {},
   "outputs": [],
   "source": []
  },
  {
   "cell_type": "markdown",
   "id": "d18e40e9-f2fd-45b2-aa7a-06a0e4731108",
   "metadata": {},
   "source": [
    "10.What does pip stand for python?\n"
   ]
  },
  {
   "cell_type": "markdown",
   "id": "a67dad01-4f90-4f3c-8eae-4b3d8047100d",
   "metadata": {},
   "source": [
    "PIP stands for \"Pip Installs Packages\" or \"Pip Installs Python\". It's a package manager used to install and manage Python packages."
   ]
  },
  {
   "cell_type": "code",
   "execution_count": null,
   "id": "4d4fcec5-f657-49d9-a000-98277463ea2b",
   "metadata": {},
   "outputs": [],
   "source": []
  },
  {
   "cell_type": "markdown",
   "id": "a13f13ad-649f-4e55-ba9a-5a8093f2f87e",
   "metadata": {},
   "source": [
    "11. Mention a few built in function in python?\n"
   ]
  },
  {
   "cell_type": "markdown",
   "id": "df2f6c36-2b60-4bde-98dd-ae10ba567d3b",
   "metadata": {},
   "source": [
    "Some built-in functions in Python include print(), len(), input(), str(), int(), float(), range(), list(), dict(), set() etc"
   ]
  },
  {
   "cell_type": "code",
   "execution_count": null,
   "id": "aa40a2e6-0464-4acd-a9ad-e3369a8c21be",
   "metadata": {},
   "outputs": [],
   "source": []
  },
  {
   "cell_type": "markdown",
   "id": "29cdfe81-a70f-4f37-8f72-a1ccef67c2c3",
   "metadata": {},
   "source": [
    "12.What is the  max possible length of an identifier in python?\n"
   ]
  },
  {
   "cell_type": "markdown",
   "id": "7a0cd5a4-c4b8-490c-9f10-0b3e94b89675",
   "metadata": {},
   "source": [
    "The maximum length of an identifier in Python is not specifically defined. However, it's recommended to keep identifiers reasonably short for readability."
   ]
  },
  {
   "cell_type": "code",
   "execution_count": null,
   "id": "ed579790-50d5-457c-aafd-043ff3017239",
   "metadata": {},
   "outputs": [],
   "source": []
  },
  {
   "cell_type": "markdown",
   "id": "7e092eee-7be1-4813-bbbc-0f01b53d37c5",
   "metadata": {},
   "source": [
    "13.what are the benefits of using python?\n"
   ]
  },
  {
   "cell_type": "markdown",
   "id": "8610e8a6-5c1c-4999-9bbd-2c6d5fb1f17e",
   "metadata": {},
   "source": [
    "Some benefits of using Python include its simplicity, readability, extensive standard library, cross-platform compatibility, community support, and its wide range of applications from web development to data science."
   ]
  },
  {
   "cell_type": "code",
   "execution_count": null,
   "id": "5dd26061-8ac7-496a-8722-f0d1765cc60f",
   "metadata": {},
   "outputs": [],
   "source": []
  },
  {
   "cell_type": "markdown",
   "id": "cc891264-a5eb-466c-b65e-73d19e75f908",
   "metadata": {},
   "source": [
    "14. How is memory managed in python?\n"
   ]
  },
  {
   "cell_type": "markdown",
   "id": "e1081fc0-86f1-45bc-8bc9-7d0337a1be21",
   "metadata": {},
   "source": [
    "Python uses a private heap space for memory management. The Python memory manager handles memory allocation and deallocation, and it includes a garbage collector to reclaim memory occupied by objects that are no longer in use."
   ]
  },
  {
   "cell_type": "code",
   "execution_count": null,
   "id": "8928b8e7-2b1f-4490-9a55-d323c5b40192",
   "metadata": {},
   "outputs": [],
   "source": []
  },
  {
   "cell_type": "markdown",
   "id": "aa14404e-b41e-4281-accc-3aecd2f2383d",
   "metadata": {},
   "source": [
    "15 How to install python in windows and set path variables?\n"
   ]
  },
  {
   "cell_type": "markdown",
   "id": "ee824854-8162-4c31-a5c3-89571178f98c",
   "metadata": {},
   "source": [
    "Download the Python installer for Windows from the official website.\n",
    "Run the installer and select the option to add Python to PATH during installation.\n",
    "After installation, you can use the python command in the Command Prompt to start the Python interpreter."
   ]
  },
  {
   "cell_type": "code",
   "execution_count": null,
   "id": "54791a95-e2c5-4615-970d-1e791646ce31",
   "metadata": {},
   "outputs": [],
   "source": []
  },
  {
   "cell_type": "markdown",
   "id": "0d497db7-6fa5-49f6-bf5d-5e70a96b96b5",
   "metadata": {},
   "source": [
    "16. is indentation required in python?"
   ]
  },
  {
   "cell_type": "markdown",
   "id": "1b448905-ace8-4ef6-a6cd-58f4112cead1",
   "metadata": {},
   "source": [
    "Yes, indentation is required in Python. It's used to define code blocks, such as loops and conditionals. Proper indentation is crucial for the correct interpretation of your code by the Python interpreter."
   ]
  },
  {
   "cell_type": "code",
   "execution_count": null,
   "id": "ed21125b-b8fe-419a-8a74-6765d0d79615",
   "metadata": {},
   "outputs": [],
   "source": []
  }
 ],
 "metadata": {
  "kernelspec": {
   "display_name": "Python 3 (ipykernel)",
   "language": "python",
   "name": "python3"
  },
  "language_info": {
   "codemirror_mode": {
    "name": "ipython",
    "version": 3
   },
   "file_extension": ".py",
   "mimetype": "text/x-python",
   "name": "python",
   "nbconvert_exporter": "python",
   "pygments_lexer": "ipython3",
   "version": "3.10.8"
  }
 },
 "nbformat": 4,
 "nbformat_minor": 5
}
