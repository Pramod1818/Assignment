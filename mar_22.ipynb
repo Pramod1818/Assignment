{
 "cells": [
  {
   "cell_type": "markdown",
   "id": "51f63f52-deef-40a9-aa0c-df9ba87dc1f8",
   "metadata": {},
   "source": [
    "Q1. Pearson correlation coefficient is a measure of the linear relationship between two variables. Suppose\n",
    "you have collected data on the amount of time students spend studying for an exam and their final exam\n",
    "scores. Calculate the Pearson correlation coefficient between these two variables and interpret the result.\n"
   ]
  },
  {
   "cell_type": "code",
   "execution_count": 8,
   "id": "ea01371c-3d6f-4bec-a689-d84db7001358",
   "metadata": {},
   "outputs": [
    {
     "name": "stdout",
     "output_type": "stream",
     "text": [
      "Pearson Correlation Coefficient: 0.98216253380743\n"
     ]
    }
   ],
   "source": [
    "import pandas as pd\n",
    "data = {\n",
    "    'Study_Time': [3, 5, 2, 4, 6, 1, 7, 2, 4, 5],\n",
    "    'Exam_Scores': [70, 85, 60, 75, 90, 50, 95, 65, 80, 85]\n",
    "}\n",
    "\n",
    "df = pd.DataFrame(data)\n",
    "# Pearson Correlation Coefficient\n",
    "p_c_coff = df['Study_Time'].corr( df['Exam_Scores'])\n",
    "print(\"Pearson Correlation Coefficient:\",p_c_coff)\n"
   ]
  },
  {
   "cell_type": "markdown",
   "id": "4c6f8524-f3d6-449c-b3b9-00485457388c",
   "metadata": {},
   "source": [
    "\n",
    "Interpret the Result\n",
    "\n",
    "Since the calculated Pearson correlation coefficient is  0.98216253380743 , it would indicate a strong positive linear relationship between the amount of time students spend studying for the exam and their final exam scores. In other words, as the study time increases, the exam scores tend to increase as well."
   ]
  },
  {
   "cell_type": "code",
   "execution_count": null,
   "id": "4d396815-0fc9-40f1-baf2-8cc9d4dff864",
   "metadata": {},
   "outputs": [],
   "source": []
  },
  {
   "cell_type": "markdown",
   "id": "9ce1dae2-859a-4bc2-9d73-f9bc313054a7",
   "metadata": {},
   "source": [
    "Q2. Spearman's rank correlation is a measure of the monotonic relationship between two variables.\n",
    "Suppose you have collected data on the amount of sleep individuals get each night and their overall job\n",
    "satisfaction level on a scale of 1 to 10. Calculate the Spearman's rank correlation between these two\n",
    "variables and interpret the result."
   ]
  },
  {
   "cell_type": "code",
   "execution_count": 18,
   "id": "ec1a5375-97eb-48f7-9500-b0fb8008c3b1",
   "metadata": {},
   "outputs": [
    {
     "name": "stdout",
     "output_type": "stream",
     "text": [
      "Spearman's Rank Correlation: 0.10975609756097561\n",
      "Interpretation: There is a positive monotonic relationship between sleep and job satisfaction.\n"
     ]
    }
   ],
   "source": [
    "import pandas as pd\n",
    "data1 = {\n",
    "    'sleep_time': [7, 5, 8, 9, 4, 8, 7, 6],\n",
    "    'job_satisfaction': [8, 9, 8, 5, 4, 7, 6, 5]\n",
    "}\n",
    "\n",
    "df1 = pd.DataFrame(data1)\n",
    "df_r = df1.corr(method = \"spearman\")\n",
    "\n",
    "corr = df_r['sleep_time']['job_satisfaction']\n",
    "\n",
    "# Interpretation of the result\n",
    "if corr > 0:\n",
    "    intr = \"There is a positive monotonic relationship between sleep and job satisfaction.\"\n",
    "elif corr < 0:\n",
    "    intr = \"There is a negative monotonic relationship between sleep and job satisfaction.\"\n",
    "else:\n",
    "    intr = \"There is no monotonic relationship between sleep and job satisfaction.\"\n",
    "\n",
    "print(\"Spearman's Rank Correlation:\", corr)\n",
    "print(\"Interpretation:\", intr)\n"
   ]
  },
  {
   "cell_type": "raw",
   "id": "07e44cea-d825-4f45-a7dd-74cff5432391",
   "metadata": {},
   "source": [
    "Certainly, let's consider a different set of data to calculate the Spearman's rank correlation. Suppose the new data is as follows:\n",
    "\n",
    "| Individuals | Sleep (X) | Job Satisfaction (Y) |\n",
    "|-------------|-----------|----------------------|\n",
    "| Person 1    | 7         | 5                    |\n",
    "| Person 2    | 5         | 3                    |\n",
    "| Person 3    | 6         | 4                    |\n",
    "| Person 4    | 8         | 7                    |\n",
    "| Person 5    | 5         | 2                    |\n",
    "| Person 6    | 4         | 1                    |\n",
    "\n",
    "Step 1: Rank the Data\n",
    "Rank the data for each variable separately.\n",
    "\n",
    "For Sleep (X):\n",
    "\n",
    "1. Person 6: Rank = 1\n",
    "2. Person 5: Rank = 2\n",
    "3. Person 2: Rank = 3.5 (Average of ranks 3 and 4)\n",
    "4. Person 3: Rank = 3.5 (Average of ranks 3 and 4)\n",
    "5. Person 1: Rank = 5\n",
    "6. Person 4: Rank = 6\n",
    "\n",
    "For Job Satisfaction (Y):\n",
    "\n",
    "1. Person 6: Rank = 1\n",
    "2. Person 5: Rank = 2\n",
    "3. Person 4: Rank = 3\n",
    "4. Person 3: Rank = 4\n",
    "5. Person 2: Rank = 5\n",
    "6. Person 1: Rank = 6\n",
    "\n",
    "Step 2: Calculate the Difference in Ranks (d)\n",
    "Calculate the difference in ranks for each pair of observations (d = Rank(X) - Rank(Y)).\n",
    "\n",
    "| Individuals | Rank(X) | Rank(Y) | d = Rank(X) - Rank(Y) |\n",
    "|-------------|---------|---------|----------------------|\n",
    "| Person 1    | 5       | 6       | -1                   |\n",
    "| Person 2    | 3.5     | 5       | -1.5                 |\n",
    "| Person 3    | 3.5     | 4       | -0.5                 |\n",
    "| Person 4    | 6       | 3       | 3                    |\n",
    "| Person 5    | 2       | 2       | 0                    |\n",
    "| Person 6    | 1       | 1       | 0                    |\n",
    "\n",
    "Step 3: Square the Differences (d²)\n",
    "Square each difference (d²).\n",
    "\n",
    "| Individuals | d²                |\n",
    "|-------------|-------------------|\n",
    "| Person 1    | 1                 |\n",
    "| Person 2    | 2.25              |\n",
    "| Person 3    | 0.25              |\n",
    "| Person 4    | 9                 |\n",
    "| Person 5    | 0                 |\n",
    "| Person 6    | 0                 |\n",
    "\n",
    "Step 4: Calculate the Sum of d²\n",
    "Calculate the sum of squared differences (Σd²).\n",
    "\n",
    "Σd² = 1 + 2.25 + 0.25 + 9 + 0 + 0 = 12.5\n",
    "\n",
    "Step 5: Calculate Spearman's Rank Correlation (ρ)\n",
    "Use the formula:\n",
    "\n",
    "ρ = 1 - [(6 * Σd²) / (n * (n² - 1))]\n",
    "\n",
    "where n is the number of observations (6 in this case).\n",
    "\n",
    "ρ = 1 - [(6 * 12.5) / (6 * (6² - 1))]\n",
    "ρ = 1 - (75 / 180)\n",
    "ρ = 1 - 0.4167\n",
    "ρ = 0.5833\n",
    "\n",
    "Interpretation:\n",
    "The Spearman's rank correlation coefficient (ρ) is approximately 0.5833. This positive value suggests a moderate positive monotonic relationship between the amount of sleep individuals get each night and their overall job satisfaction level. The higher job satisfaction tends to correspond with getting more sleep, according to this calculated correlation."
   ]
  },
  {
   "cell_type": "code",
   "execution_count": null,
   "id": "378d8f64-2161-4777-8fd8-1a6673607942",
   "metadata": {},
   "outputs": [],
   "source": []
  },
  {
   "cell_type": "markdown",
   "id": "93b1f42f-d237-4403-b196-4955bfb29051",
   "metadata": {},
   "source": [
    "Q3. Suppose you are conducting a study to examine the relationship between the number of hours of\n",
    "exercise per week and body mass index (BMI) in a sample of adults. You collected data on both variables\n",
    "for 50 participants. Calculate the Pearson correlation coefficient and the Spearman's rank correlation\n",
    "between these two variables and compare the results."
   ]
  },
  {
   "cell_type": "code",
   "execution_count": 19,
   "id": "42b4852e-d979-4e8f-8ef9-642fd698999d",
   "metadata": {},
   "outputs": [],
   "source": [
    "import numpy as np\n",
    "\n",
    "num_participants = 50\n",
    "hours_of_exercise = np.random.uniform(1, 10, size=num_participants)\n",
    "bmi = np.random.uniform(18, 35, size=num_participants)\n",
    "# print(bmi,'\\n',hours_of_exercise )"
   ]
  },
  {
   "cell_type": "code",
   "execution_count": 20,
   "id": "bc336781-c596-45d4-90ab-9fb694446b47",
   "metadata": {},
   "outputs": [
    {
     "name": "stdout",
     "output_type": "stream",
     "text": [
      "below is the sample data\n",
      " hours_of_exercise\n",
      " [2.55581694 3.48539532 4.86573223 7.94539366 2.95310634 7.0275219\n",
      " 4.48090737 7.5765219  7.81687715 7.85306521 9.342681   4.25372474\n",
      " 7.06474685 1.53996691 3.31831312 5.2390998  9.64516874 3.29605898\n",
      " 6.17725357 3.43036173 3.73670545 8.58352887 6.68386327 8.37936146\n",
      " 1.27855218 7.0718062  1.2074493  5.28057697 7.38146007 5.67666941\n",
      " 9.70316896 9.92508444 1.67001908 1.3107684  7.9588129  3.39482414\n",
      " 6.34742867 7.99249637 2.16784256 6.17519534 2.28199732 7.30385236\n",
      " 7.45702751 5.73905035 9.32668789 8.17551296 5.9634002  6.14534453\n",
      " 8.43273986 2.1602956 ] \n",
      "\n",
      " bmi\n",
      " [28.23052223 20.60743725 22.92313651 31.63791323 30.52330054 25.04215245\n",
      " 20.8089926  33.89401357 24.18877308 19.16731392 32.59492483 26.9483361\n",
      " 18.59183194 33.36928961 22.4598744  24.04205186 33.48330688 25.79649548\n",
      " 27.30511002 29.22229217 33.85733623 29.36398404 23.36696513 18.0479196\n",
      " 28.85600737 31.83476203 21.14606315 26.10811189 20.42932935 27.7844015\n",
      " 21.00025869 24.74257817 20.70790881 20.06372921 29.706238   18.95297973\n",
      " 26.9996766  28.56120261 21.66947519 28.91735835 22.80507072 22.47773357\n",
      " 18.03364803 19.08315194 21.62271087 21.07917766 20.76073476 31.02018038\n",
      " 26.28825485 21.5843152 ]\n"
     ]
    }
   ],
   "source": [
    "print(\"below is the sample data\\n hours_of_exercise\\n\",hours_of_exercise,'\\n\\n bmi\\n',bmi)"
   ]
  },
  {
   "cell_type": "code",
   "execution_count": 23,
   "id": "8c6654e3-740f-4fd4-88e3-dfa0809bba9f",
   "metadata": {},
   "outputs": [
    {
     "name": "stdout",
     "output_type": "stream",
     "text": [
      "Pearson Correlation Coefficient: 0.08478678343615757\n",
      "Spearman's Rank Correlation: 0.08478678343615757\n",
      "Comparison: The Spearman's rank correlation is larger in magnitude.\n"
     ]
    }
   ],
   "source": [
    "import pandas as pd\n",
    "data3 = {\n",
    "    'hours_of_exercise': hours_of_exercise,\n",
    "    'bmi': bmi\n",
    "}\n",
    "df3 = pd.DataFrame(data3)\n",
    "\n",
    "df_pear = df3.corr(method='pearson')\n",
    "df_spear = df3.corr(method='spearman')\n",
    "\n",
    "corr_pear = df_pear['hours_of_exercise']['bmi']\n",
    "corr_spear = df_spear['hours_of_exercise']['bmi']\n",
    "\n",
    "\n",
    "comp = \"\"\n",
    "if abs(corr_pear) > abs(corr_spear):\n",
    "    comp = \"The Pearson correlation coefficient is larger in magnitude.\"\n",
    "elif abs(corr_pear) < abs(corr_spear):\n",
    "    comp = \"The Spearman's rank correlation is larger in magnitude.\"\n",
    "else:\n",
    "    comp = \"Both correlation coefficients are of the same magnitude.\"\n",
    "\n",
    "print(\"Pearson Correlation Coefficient:\", corr_pear)\n",
    "print(\"Spearman's Rank Correlation:\", corr_pear)\n",
    "print(\"Comparison:\", comp)"
   ]
  },
  {
   "cell_type": "raw",
   "id": "2718a10f-05a5-45d0-9523-cd6fc15e7c48",
   "metadata": {},
   "source": [
    "from scipy.stats import pearsonr, spearmanr\n",
    "\n",
    "# Generating sample data\n",
    "# np.random.seed(42)\n",
    "# num_participants = 50\n",
    "# hours_of_exercise = np.random.uniform(1, 10, size=num_participants)\n",
    "# bmi = np.random.uniform(18, 35, size=num_participants)\n",
    "\n",
    "# Calculating Pearson correlation coefficient\n",
    "pearson_corr, pearson_p_value = pearsonr(hours_of_exercise, bmi)\n",
    "pearson_corr\n",
    "spearman_corr, spearman_p_value = spearmanr(hours_of_exercise, bmi)\n",
    "spearman_corr"
   ]
  },
  {
   "cell_type": "code",
   "execution_count": null,
   "id": "c2be240c-54f6-491c-a43e-7683e1dcbe58",
   "metadata": {},
   "outputs": [],
   "source": []
  },
  {
   "cell_type": "markdown",
   "id": "5d385282-4553-4b66-9b28-b496bc3f8a22",
   "metadata": {},
   "source": [
    "Q4. A researcher is interested in examining the relationship between the number of hours individuals\n",
    "spend watching television per day and their level of physical activity. The researcher collected data on\n",
    "both variables from a sample of 50 participants. Calculate the Pearson correlation coefficient between\n",
    "these two variables."
   ]
  },
  {
   "cell_type": "code",
   "execution_count": 24,
   "id": "a2ad23a3-a36d-4ada-9510-fa6d60ae58f3",
   "metadata": {},
   "outputs": [],
   "source": [
    "import numpy as np\n",
    "import pandas as pd\n",
    "\n",
    "num_participants = 50\n",
    "hours_watching_tv = np.random.uniform(0, 6, size=num_participants)  \n",
    "physical_activity = np.random.uniform(1, 10, size=num_participants)  \n"
   ]
  },
  {
   "cell_type": "code",
   "execution_count": 25,
   "id": "a6f14af2-25c1-4fe3-9285-3773062cf986",
   "metadata": {},
   "outputs": [
    {
     "name": "stdout",
     "output_type": "stream",
     "text": [
      "below is the sample data\n",
      " hours_watching_tv\n",
      " [1.96591548 5.65324074 3.08487858 3.68903339 1.10614193 3.78458866\n",
      " 0.54893053 3.31252047 3.58945084 2.27113446 1.11600648 3.93187217\n",
      " 1.5303877  1.61500507 4.8707411  4.55675424 0.97088377 3.6065057\n",
      " 2.09538803 1.42858551 3.73381365 5.90823511 5.45466132 1.72000453\n",
      " 0.3155427  1.58051944 3.27582536 3.7271097  2.95377359 2.6534022\n",
      " 3.5180453  2.74614726 1.74465245 4.81226575 1.16046815 4.49678461\n",
      " 4.24403984 3.81949923 2.58288402 4.51334043 4.23236223 3.27076129\n",
      " 3.4375454  5.41931292 3.43751973 2.43739222 5.46703505 4.98930623\n",
      " 5.9246741  4.48882767] \n",
      "\n",
      " physical_activity\n",
      " [3.66119295 1.078349   3.33200154 6.72057989 6.03304268 7.12366256\n",
      " 7.63569687 8.21325508 3.99753679 7.41197994 2.6975692  6.35518834\n",
      " 5.84133241 8.1102802  9.36249156 8.92958498 1.1556266  9.95544933\n",
      " 4.49226005 1.48046135 4.45005892 3.42200253 7.36899339 5.56171965\n",
      " 1.98483115 7.45974029 6.97797309 1.19220581 8.76928487 5.89195145\n",
      " 4.91071333 7.12661422 8.42519942 4.99992538 1.34946476 4.39611095\n",
      " 9.52136122 3.85646315 4.30320191 3.24966515 3.86600169 7.97061288\n",
      " 6.59646187 8.0991598  3.00005121 6.15197665 4.77212319 3.42199268\n",
      " 8.18507826 6.85525067]\n"
     ]
    }
   ],
   "source": [
    "print(\"below is the sample data\\n hours_watching_tv\\n\",hours_watching_tv,'\\n\\n physical_activity\\n',physical_activity)"
   ]
  },
  {
   "cell_type": "code",
   "execution_count": 27,
   "id": "39b8d4ef-72a6-44ee-900d-26e61204c79a",
   "metadata": {},
   "outputs": [
    {
     "name": "stdout",
     "output_type": "stream",
     "text": [
      "Pearson Correlation Coefficient: 0.15317037959924196\n"
     ]
    }
   ],
   "source": [
    "data4 = pd.DataFrame({\n",
    "    'Hours_Watching_TV': hours_watching_tv,\n",
    "    'Physical_Activity': physical_activity\n",
    "})\n",
    "\n",
    "# Pearson correlation coefficient\n",
    "corr_4 = data4['Hours_Watching_TV'].corr(data4['Physical_Activity'])\n",
    "\n",
    "print(\"Pearson Correlation Coefficient:\", corr_4)"
   ]
  },
  {
   "cell_type": "code",
   "execution_count": null,
   "id": "1879cf59-231b-4f4c-b57c-885fbfa5f1e5",
   "metadata": {},
   "outputs": [],
   "source": []
  },
  {
   "cell_type": "markdown",
   "id": "f12a23dc-7fea-474d-9f9d-02c549cd4e1f",
   "metadata": {},
   "source": [
    "Q5. A survey was conducted to examine the relationship between age and preference for a particular\n",
    "brand of soft drink. The survey results are shown below:\n",
    "Age(Years) softdrink preference\n",
    "25 Coke\n",
    "42 Pepsi\n",
    "37 Mountain dew\n",
    "19 Coke\n",
    "31 Pepsi\n",
    "28 Coke"
   ]
  },
  {
   "cell_type": "code",
   "execution_count": 32,
   "id": "a5c493e4-4ebb-4a1c-b1d7-385e6f4ea594",
   "metadata": {},
   "outputs": [
    {
     "name": "stdout",
     "output_type": "stream",
     "text": [
      "Pearson Correlation Coefficient between Age and SoftDrink Preference: 0.7587035441865058\n"
     ]
    }
   ],
   "source": [
    "survey_data = {\n",
    "    'Age': [25, 42, 37, 19, 31, 28],\n",
    "    'SoftDrink_Preference': ['Coke', 'Pepsi', 'Mountain Dew', 'Coke', 'Pepsi', 'Coke']\n",
    "}\n",
    "\n",
    "df = pd.DataFrame(survey_data)\n",
    "\n",
    "#label encoding\n",
    "label_mapping = {'Coke': 0, 'Pepsi': 1, 'Mountain Dew': 2}\n",
    "df['SoftDrink_Preference_Num'] = df['SoftDrink_Preference'].map(label_mapping)\n",
    "\n",
    "#Pearson correlation coefficient\n",
    "corr_5 = df['Age'].corr(df['SoftDrink_Preference_Num'])\n",
    "print(\"Pearson Correlation Coefficient between Age and SoftDrink Preference:\", corr_5)\n"
   ]
  },
  {
   "cell_type": "markdown",
   "id": "06e3fd0f-36fe-424c-9a64-ae2094bc70b6",
   "metadata": {},
   "source": []
  },
  {
   "cell_type": "markdown",
   "id": "44d08471-faf3-4fb2-b02f-6076bec6b7f7",
   "metadata": {},
   "source": [
    "Q6. A company is interested in examining the relationship between the number of sales calls made per day\n",
    "and the number of sales made per week. The company collected data on both variables from a sample of\n",
    "30 sales representatives. Calculate the Pearson correlation coefficient between these two variables.\n"
   ]
  },
  {
   "cell_type": "code",
   "execution_count": 36,
   "id": "00a6ceee-071c-4147-9c0e-90425958146d",
   "metadata": {},
   "outputs": [
    {
     "name": "stdout",
     "output_type": "stream",
     "text": [
      "calss:  [23  9 12 23 11  7 17 24 14 12 13 14 11 17 16 10 11 12 15 18 18 10  9 11\n",
      " 14 16 14  9 11 14] \n",
      "\n",
      "sales:  [ 6  4  3  2  4 14  5 10 12  2  6 11  5  9 14  4  2 11  2 10  6  6 11  5\n",
      "  3 14  3  3  8  5]\n"
     ]
    }
   ],
   "source": [
    "import numpy as np\n",
    "import pandas as pd\n",
    "\n",
    "size = 30\n",
    "calls = np.random.randint(7, 25, size=size)  # calls per day btwn 7-25\n",
    "sales = np.random.randint(2, 15, size=size)  # sales per week btwn 2-15\n",
    "print('calss: ',calls,'\\n\\nsales: ',sales)"
   ]
  },
  {
   "cell_type": "raw",
   "id": "d068f4c8-30a8-424a-896b-0003f3f8014d",
   "metadata": {},
   "source": [
    "# Sample data (replace this with your actual data)\n",
    "# sales_calls_per_day = np.array([12, 15, 18, 10, 20, 8, 14, 9, 16, 22, 11, 17, 19, 13, 7, 21, 23, 25, 14, 10, 12, 15, 18, 16, 20, 19, 17, 13, 11, 9])\n",
    "# sales_per_week = np.array([5, 6, 7, 4, 9, 3, 5, 4, 7, 10, 4, 6, 8, 5, 2, 8, 9, 10, 6, 4, 5, 6, 7, 7, 9, 8, 7, 5, 4, 3])"
   ]
  },
  {
   "cell_type": "code",
   "execution_count": 39,
   "id": "01c63625-38a7-4cf4-96ca-f3ca1c91794f",
   "metadata": {},
   "outputs": [
    {
     "name": "stdout",
     "output_type": "stream",
     "text": [
      "Pearson Correlation Coefficient between sales calls made per day and the number of sales made per week is:\n",
      " 0.06386170197256727\n"
     ]
    }
   ],
   "source": [
    "df6 = pd.DataFrame({\n",
    "    'Sales_Calls_Per_Day': calls,\n",
    "    'Sales_Per_Week': sales\n",
    "})\n",
    "\n",
    "# Pearson correlation coefficient\n",
    "corr_6 = df6['Sales_Calls_Per_Day'].corr(df6['Sales_Per_Week'])\n",
    "\n",
    "print(\"Pearson Correlation Coefficient between sales calls made per day and the number of sales made per week is:\\n\", corr_6)\n"
   ]
  },
  {
   "cell_type": "code",
   "execution_count": null,
   "id": "8ad2c728-d972-4ed9-afd4-40274299e3df",
   "metadata": {},
   "outputs": [],
   "source": []
  }
 ],
 "metadata": {
  "kernelspec": {
   "display_name": "Python 3 (ipykernel)",
   "language": "python",
   "name": "python3"
  },
  "language_info": {
   "codemirror_mode": {
    "name": "ipython",
    "version": 3
   },
   "file_extension": ".py",
   "mimetype": "text/x-python",
   "name": "python",
   "nbconvert_exporter": "python",
   "pygments_lexer": "ipython3",
   "version": "3.10.8"
  }
 },
 "nbformat": 4,
 "nbformat_minor": 5
}
