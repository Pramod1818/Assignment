{
 "cells": [
  {
   "cell_type": "markdown",
   "id": "3cf7dbaf-eee4-4804-92f4-9d30c807893f",
   "metadata": {},
   "source": [
    "Q1. What is Statistics?"
   ]
  },
  {
   "cell_type": "markdown",
   "id": "ae19fd7a-5412-4635-aefb-4760ef8c6326",
   "metadata": {},
   "source": [
    "Statistics is the discipline that involves collecting, organizing, analyzing, interpreting, and presenting data. It provides methods for making informed decisions based on data by summarizing and drawing insights from information."
   ]
  },
  {
   "cell_type": "code",
   "execution_count": null,
   "id": "643ecb08-a4a2-4f62-9906-dbfd78da5059",
   "metadata": {},
   "outputs": [],
   "source": []
  },
  {
   "cell_type": "markdown",
   "id": "cd19a7a5-6cb1-46d1-a454-56c4e87183e4",
   "metadata": {},
   "source": [
    "Q2. Define the different types of statistics and give an example of when each type might be used."
   ]
  },
  {
   "cell_type": "markdown",
   "id": "5868012d-ab93-4c58-9c68-53b28c048c10",
   "metadata": {},
   "source": [
    "Descriptive Statistics: These involve summarizing and describing the main features of a dataset. Examples include measures of central tendency (mean, median, mode) and measures of variability (range, variance, standard deviation).\n",
    "\n",
    "Inferential Statistics: These involve making predictions or inferences about a population based on a sample of data. Examples include hypothesis testing, confidence intervals, and regression analysis."
   ]
  },
  {
   "cell_type": "code",
   "execution_count": null,
   "id": "a7a21acf-8d18-46c7-98a7-63c9f4f6e4d3",
   "metadata": {},
   "outputs": [],
   "source": []
  },
  {
   "cell_type": "markdown",
   "id": "0a16a2b5-654d-4381-abaf-acbe1ac6bb27",
   "metadata": {},
   "source": [
    "Q3. What are the different types of data and how do they differ from each other? Provide an example of\n",
    "each type of data."
   ]
  },
  {
   "cell_type": "markdown",
   "id": "161fa561-e26d-454c-ab22-0110581ae6a6",
   "metadata": {},
   "source": [
    "Qualitative (Categorical) Data: \n",
    "This type of data consists of categories or labels that can't be measured on a numerical scale. Examples include gender (male, female), colors, and types of fruit.\n",
    "\n",
    "Quantitative (Numerical) Data: \n",
    "This type of data represents quantities that can be measured on a numerical scale. Examples include height, age, weight, and temperature."
   ]
  },
  {
   "cell_type": "code",
   "execution_count": null,
   "id": "24128dac-f759-4690-9ec3-fabf011b1524",
   "metadata": {},
   "outputs": [],
   "source": []
  },
  {
   "cell_type": "markdown",
   "id": "1f101879-15ca-48e7-ab22-14ad922704b6",
   "metadata": {},
   "source": [
    "Q4. Categorise the following datasets with respect to quantitative and qualitative data types:\n",
    "\n",
    "(i) Grading in exam: A+, A, B+, B, C+, C, D, E\n",
    "(ii) Colour of mangoes: yellow, green, orange, red\n",
    "(iii) Height data of a class: [178.9, 179, 179.5, 176, 177.2, 178.3, 175.8,...]\n",
    "(iv) Number of mangoes exported by a farm: [500, 600, 478, 672, ...]\n"
   ]
  },
  {
   "cell_type": "markdown",
   "id": "e4805687-7732-4382-a209-93b18e0b4c81",
   "metadata": {},
   "source": [
    "(i) Grading in exam: Ordinal (qualitative)\n",
    "(ii) Colour of mangoes: Nominal (qualitative)\n",
    "(iii) Height data of a class: Continuous (quantitative)\n",
    "(iv) Number of mangoes exported by a farm: Discrete (quantitative)"
   ]
  },
  {
   "cell_type": "code",
   "execution_count": null,
   "id": "b156661f-f863-451b-9d23-98b15cb69dc1",
   "metadata": {},
   "outputs": [],
   "source": []
  },
  {
   "cell_type": "markdown",
   "id": "61285a09-3c4b-43d8-8c28-f4f4e0dd23a7",
   "metadata": {},
   "source": [
    "Q5. Explain the concept of levels of measurement and give an example of a variable for each level.\n"
   ]
  },
  {
   "cell_type": "markdown",
   "id": "a2944a38-0f82-42da-9911-486e322e7c9e",
   "metadata": {},
   "source": [
    "Nominal: Represents categories with no inherent order or ranking. Example: Eye color (blue, green, brown).\n",
    "\n",
    "Ordinal: Represents categories with a meaningful order but no consistent difference between them. Example: Education levels (high school, college, graduate).\n",
    "\n",
    "Interval: Represents ordered categories with consistent differences between them, but zero is arbitrary. Example: Temperature in Celsius or Fahrenheit.\n",
    "\n",
    "Ratio: Represents ordered categories with consistent differences and a meaningful zero point. Example: Height, weight, age, income."
   ]
  },
  {
   "cell_type": "code",
   "execution_count": null,
   "id": "5c78b699-51da-4694-8aff-2a9d19208a89",
   "metadata": {},
   "outputs": [],
   "source": []
  },
  {
   "cell_type": "markdown",
   "id": "149621fe-21dc-4c5b-b754-18c685c8c309",
   "metadata": {},
   "source": [
    "Q6. Why is it important to understand the level of measurement when analyzing data? Provide an example to illustrate your answer."
   ]
  },
  {
   "cell_type": "markdown",
   "id": "94ebcfff-56fd-4bd7-8d87-46e83dbaa8d8",
   "metadata": {},
   "source": [
    "Understanding the level of measurement helps determine the appropriate statistical methods to use. For instance, you can calculate means and standard deviations for interval and ratio data, but not for nominal and ordinal data. Using the wrong methods can lead to incorrect conclusions. For example, calculating the mean of nominal data like eye color wouldn't make sense."
   ]
  },
  {
   "cell_type": "code",
   "execution_count": null,
   "id": "9210f7ff-f2ec-4fff-8fd1-281e4ddbc8e0",
   "metadata": {},
   "outputs": [],
   "source": []
  },
  {
   "cell_type": "markdown",
   "id": "687f0de6-60ac-4b97-943c-900f6a6b81a1",
   "metadata": {},
   "source": [
    "Q7. How nominal data type is different from ordinal data type."
   ]
  },
  {
   "cell_type": "markdown",
   "id": "3fd3f294-bae6-429e-b0d4-fdc86cf7aff8",
   "metadata": {},
   "source": [
    "Nominal data represents categories without an inherent order, while ordinal data represents categories with a meaningful order but no consistent difference between them. For example, eye colors (nominal) vs. education levels (ordinal)."
   ]
  },
  {
   "cell_type": "code",
   "execution_count": null,
   "id": "45bb6afa-9e55-4fb0-808d-0d353db98d21",
   "metadata": {},
   "outputs": [],
   "source": []
  },
  {
   "cell_type": "markdown",
   "id": "e9083b1e-ac7c-4d2b-ac5d-ade67cc29571",
   "metadata": {},
   "source": [
    "Q8. Which type of plot can be used to display data in terms of range?"
   ]
  },
  {
   "cell_type": "markdown",
   "id": "d9ae3d33-e870-4095-9359-f75231f8bf35",
   "metadata": {},
   "source": [
    "A box plot (box-and-whisker plot) is commonly used to display data in terms of range. It shows the distribution of data and highlights the minimum, maximum, and quartiles."
   ]
  },
  {
   "cell_type": "code",
   "execution_count": null,
   "id": "82643ce7-3c03-4306-ba20-5b7201b8a009",
   "metadata": {},
   "outputs": [],
   "source": []
  },
  {
   "cell_type": "markdown",
   "id": "e9ce3bba-8644-4e03-a832-19efd625ad2f",
   "metadata": {},
   "source": [
    "Q9. Describe the difference between descriptive and inferential statistics. Give an example of each\n",
    "type of statistics and explain how they are used."
   ]
  },
  {
   "cell_type": "markdown",
   "id": "297bbd3c-676d-4b39-a947-a82f7106bef5",
   "metadata": {},
   "source": [
    "Descriptive Statistics: Summarizes and describes data in a meaningful way. Example: Calculating the mean and median of a dataset.\n",
    "\n",
    "Inferential Statistics: Uses sample data to make predictions or inferences about a larger population. Example: Conducting a hypothesis test to determine if a new drug is effective."
   ]
  },
  {
   "cell_type": "code",
   "execution_count": null,
   "id": "e81583fb-daeb-4b6c-8479-71c5bb85ac19",
   "metadata": {},
   "outputs": [],
   "source": []
  },
  {
   "cell_type": "markdown",
   "id": "cb11d805-b49b-4871-8cb6-82fd4869174b",
   "metadata": {},
   "source": [
    "Q10. What are some common measures of central tendency and variability used in statistics? Explain\n",
    "how each measure can be used to describe a dataset."
   ]
  },
  {
   "cell_type": "markdown",
   "id": "abad52d8-d74b-4684-b832-fdcec775082d",
   "metadata": {},
   "source": [
    "Central Tendency: \n",
    "These measures describe the center or average of a dataset.\n",
    "\n",
    "Mean: Average of all data points.\n",
    "\n",
    "Median: Middle value in an ordered dataset.\n",
    "\n",
    "Mode: Most frequently occurring value.\n",
    "\n",
    "Variability: These measures describe the spread or dispersion of data.\n",
    "\n",
    "Range: Difference between the maximum and minimum values.\n",
    "\n",
    "Variance: Average of squared differences from the mean.\n",
    "\n",
    "Standard Deviation: Square root of variance, indicating the average deviation from the mean."
   ]
  },
  {
   "cell_type": "code",
   "execution_count": null,
   "id": "eeab4108-f8b3-408e-b466-4347bf37c151",
   "metadata": {},
   "outputs": [],
   "source": []
  }
 ],
 "metadata": {
  "kernelspec": {
   "display_name": "Python 3 (ipykernel)",
   "language": "python",
   "name": "python3"
  },
  "language_info": {
   "codemirror_mode": {
    "name": "ipython",
    "version": 3
   },
   "file_extension": ".py",
   "mimetype": "text/x-python",
   "name": "python",
   "nbconvert_exporter": "python",
   "pygments_lexer": "ipython3",
   "version": "3.10.8"
  }
 },
 "nbformat": 4,
 "nbformat_minor": 5
}
