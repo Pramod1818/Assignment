{
 "cells": [
  {
   "cell_type": "markdown",
   "id": "7a892647-62b3-4d3e-a720-5930bd586ce1",
   "metadata": {},
   "source": [
    "Q1. What is the Probability density function?\n"
   ]
  },
  {
   "cell_type": "markdown",
   "id": "3404eb5b-9565-4d20-b306-2fc62d0c56f0",
   "metadata": {},
   "source": [
    "The Probability Density Function (PDF) is a concept used in probability and statistics to describe the likelihood of a continuous random variable taking a specific value. The PDF doesn't give the probability of a specific value occurring, but it gives the relative likelihood of the variable falling within a range of values. The area under the PDF curve within a certain range represents the probability of the variable falling within that range."
   ]
  },
  {
   "cell_type": "code",
   "execution_count": null,
   "id": "eff494da-667c-40f7-80cb-a1fd76d174f4",
   "metadata": {},
   "outputs": [],
   "source": []
  },
  {
   "cell_type": "markdown",
   "id": "007e5c6a-5a94-473f-a608-709064873f6d",
   "metadata": {},
   "source": [
    "Q2. What are the types of Probability distribution?"
   ]
  },
  {
   "cell_type": "markdown",
   "id": "5ce15e75-7b39-4c87-80ad-44e2d15f7456",
   "metadata": {},
   "source": [
    "There are several types of probability distributions, including:\n",
    "\n",
    "Normal Distribution: A symmetric bell-shaped distribution.\n",
    "\n",
    "Binomial Distribution: Deals with binary outcomes (success/failure) in multiple trials.\n",
    "\n",
    "Poisson Distribution: Models rare events in a fixed interval.\n",
    "\n",
    "Exponential Distribution: Models time between events in a Poisson process.\n",
    "\n",
    "Uniform Distribution: Represents equally likely outcomes in a continuous range."
   ]
  },
  {
   "cell_type": "code",
   "execution_count": null,
   "id": "527440b0-a522-43ae-ba2a-81e54b6bfbe5",
   "metadata": {},
   "outputs": [],
   "source": []
  },
  {
   "cell_type": "markdown",
   "id": "789116f8-a4c0-4df1-b016-46dd27793830",
   "metadata": {},
   "source": [
    "Q3. Write a Python function to calculate the probability density function of a normal distribution with\n",
    "given mean and standard deviation at a given point."
   ]
  },
  {
   "cell_type": "code",
   "execution_count": null,
   "id": "29c5ac71-6416-4475-8d02-8a72b14b660c",
   "metadata": {},
   "outputs": [],
   "source": [
    "import numpy as np\n",
    "import scipy.stats as stats\n",
    "\n",
    "def normal_pdf(x, mean, std_dev):\n",
    "    return stats.norm.pdf(x, mean, std_dev)\n",
    "\n",
    "# Eg usage\n",
    "x = 2.5\n",
    "mean = 2\n",
    "std_dev = 1\n",
    "pdf_val = normal_pdf(x, mean, std_dev)\n",
    "print(\"PDF at x =\", x , \":\", pdf_val)\n"
   ]
  },
  {
   "cell_type": "code",
   "execution_count": null,
   "id": "64e6474e-1759-4e9a-aa19-0fd573dd839d",
   "metadata": {},
   "outputs": [],
   "source": []
  },
  {
   "cell_type": "markdown",
   "id": "81b048b3-9cb2-45d5-990f-184f7ac57a7b",
   "metadata": {},
   "source": [
    "Q4. What are the properties of Binomial distribution? Give two examples of events where binomial\n",
    "distribution can be applied."
   ]
  },
  {
   "cell_type": "markdown",
   "id": "3ae0497e-3a9a-4edb-bd96-b663d2c8d84c",
   "metadata": {},
   "source": [
    "The binomial distribution is discrete and models the number of successes in a fixed number of independent trials.\n",
    "Each trial has two possible outcomes: success or failure.\n",
    "The trials are independent and have the same probability of success (denoted by \"p\").\n",
    "\n",
    "Examples where binomial distribution can be applied: flipping a coin, passing an exam (pass/fail)."
   ]
  },
  {
   "cell_type": "code",
   "execution_count": null,
   "id": "5c1c3ac7-1454-400d-90ef-e32a615ad34e",
   "metadata": {},
   "outputs": [],
   "source": []
  },
  {
   "cell_type": "markdown",
   "id": "8cdc84c5-8735-4b65-bd02-b180cd97c974",
   "metadata": {},
   "source": [
    "Q5. Generate a random sample of size 1000 from a binomial distribution with probability of success 0.4\n",
    "and plot a histogram of the results using matplotlib."
   ]
  },
  {
   "cell_type": "code",
   "execution_count": 14,
   "id": "accd724d-2d48-43f5-a4b2-4359c5a85344",
   "metadata": {},
   "outputs": [
    {
     "data": {
      "image/png": "[encoded data removed]",
      "text/plain": [
       "<Figure size 640x480 with 1 Axes>"
      ]
     },
     "metadata": {},
     "output_type": "display_data"
    }
   ],
   "source": [
    "import numpy as np\n",
    "import matplotlib.pyplot as plt\n",
    "\n",
    "\n",
    "sample_size = 1000\n",
    "prob_suc = 0.4\n",
    "random_sample = np.random.binomial(1, prob_suc, size=sample_size)\n",
    "\n",
    "plt.hist(random_sample, bins=2, edgecolor='black')\n",
    "plt.xlabel(\"Outcome\")\n",
    "plt.ylabel(\"Frequency\")\n",
    "plt.title(\"Histogram of Binomial Distribution\")\n",
    "plt.show()\n"
   ]
  },
  {
   "cell_type": "code",
   "execution_count": null,
   "id": "f17e8b69-7046-41b8-bcea-0fd6651343db",
   "metadata": {},
   "outputs": [],
   "source": []
  },
  {
   "cell_type": "markdown",
   "id": "880b44f5-f4e2-4425-a941-15e12126b28b",
   "metadata": {},
   "source": [
    "Q6. Write a Python function to calculate the cumulative distribution function of a Poisson distribution\n",
    "with given mean at a given point."
   ]
  },
  {
   "cell_type": "code",
   "execution_count": 16,
   "id": "787be717-4c65-4dfb-80df-3030864d3485",
   "metadata": {},
   "outputs": [
    {
     "name": "stdout",
     "output_type": "stream",
     "text": [
      "CDF at x = 3 : 0.04238011199168396\n"
     ]
    }
   ],
   "source": [
    "import scipy.stats as stats\n",
    "\n",
    "def poisson_cdf(x, mean):\n",
    "    return stats.poisson.cdf(x, mean)\n",
    "\n",
    "x = 3\n",
    "mean = 8\n",
    "cdf_value = poisson_cdf(x, mean)\n",
    "print(\"CDF at x =\", x, \":\", cdf_value)\n"
   ]
  },
  {
   "cell_type": "code",
   "execution_count": null,
   "id": "e22814b9-9e8a-4be3-a73f-24222cd9634d",
   "metadata": {},
   "outputs": [],
   "source": []
  },
  {
   "cell_type": "markdown",
   "id": "b5048aea-31dc-41ab-b3cc-eff7acd3f2fc",
   "metadata": {},
   "source": [
    "Q7. How Binomial distribution different from Poisson distribution?\n"
   ]
  },
  {
   "cell_type": "markdown",
   "id": "af093959-d0e1-441e-a19a-32db463d477a",
   "metadata": {},
   "source": [
    "Binomial distribution deals with a fixed number of independent trials with binary outcomes (success/failure).\n",
    "Poisson distribution models rare events occurring in a fixed interval."
   ]
  },
  {
   "cell_type": "code",
   "execution_count": null,
   "id": "9d565c80-4296-4a9d-9fcd-fd36760426a4",
   "metadata": {},
   "outputs": [],
   "source": []
  },
  {
   "cell_type": "markdown",
   "id": "a54ab3a5-3fea-458b-9003-67b798513f4f",
   "metadata": {},
   "source": [
    "Q8. Generate a random sample of size 1000 from a Poisson distribution with mean 5 and calculate the\n",
    "sample mean and variance.\n"
   ]
  },
  {
   "cell_type": "code",
   "execution_count": 25,
   "id": "58890a31-4426-4383-b2f3-896139e48e82",
   "metadata": {},
   "outputs": [
    {
     "name": "stdout",
     "output_type": "stream",
     "text": [
      "Sample Mean: 4.871\n",
      "Sample Variance: 4.936359\n"
     ]
    }
   ],
   "source": [
    "import numpy as np\n",
    "\n",
    "# random sample from Poisson distribution\n",
    "samp_size = 1000\n",
    "mean_value = 5\n",
    "random_sample = np.random.poisson(mean_value, size=samp_size)\n",
    "\n",
    "# sample mean and variance\n",
    "samp_mean = np.mean(random_sample)\n",
    "samp_variance = np.var(random_sample)\n",
    "\n",
    "print(\"Sample Mean:\", samp_mean)\n",
    "print(\"Sample Variance:\", samp_variance)\n"
   ]
  },
  {
   "cell_type": "code",
   "execution_count": null,
   "id": "528858cb-b698-483a-b8a5-659be5a7cf42",
   "metadata": {},
   "outputs": [],
   "source": []
  },
  {
   "cell_type": "markdown",
   "id": "a2500a78-0768-4cb8-b7dd-7ab4d4c30c8d",
   "metadata": {},
   "source": [
    "Q9. How mean and variance are related in Binomial distribution and Poisson distribution?"
   ]
  },
  {
   "cell_type": "markdown",
   "id": "39c56e4a-c6fc-4150-a317-cc58896dee28",
   "metadata": {},
   "source": [
    "In a binomial distribution, both the mean and variance are calculated as n * p, where n is the number of trials and p is the probability of success. In a Poisson distribution, both the mean and variance are equal and are represented by the parameter λ."
   ]
  },
  {
   "cell_type": "code",
   "execution_count": null,
   "id": "16747a91-648b-4aca-a68d-a3cddc67a5b0",
   "metadata": {},
   "outputs": [],
   "source": []
  },
  {
   "cell_type": "markdown",
   "id": "2af92b67-3dcb-4f57-974e-705f2dfae8ed",
   "metadata": {},
   "source": [
    "Q10. In normal distribution with respect to mean position, where does the least frequent data appear?"
   ]
  },
  {
   "cell_type": "markdown",
   "id": "f8ffc1b9-391b-4d0d-babc-8968e350319e",
   "metadata": {},
   "source": [
    "In a normal distribution, the least frequent data (outliers) appears in the tails of the distribution, which are the extreme values far from the mean."
   ]
  },
  {
   "cell_type": "code",
   "execution_count": null,
   "id": "6a713036-d720-4146-97ba-0eece4e2524f",
   "metadata": {},
   "outputs": [],
   "source": []
  }
 ],
 "metadata": {
  "kernelspec": {
   "display_name": "Python 3 (ipykernel)",
   "language": "python",
   "name": "python3"
  },
  "language_info": {
   "codemirror_mode": {
    "name": "ipython",
    "version": 3
   },
   "file_extension": ".py",
   "mimetype": "text/x-python",
   "name": "python",
   "nbconvert_exporter": "python",
   "pygments_lexer": "ipython3",
   "version": "3.10.8"
  }
 },
 "nbformat": 4,
 "nbformat_minor": 5
}
