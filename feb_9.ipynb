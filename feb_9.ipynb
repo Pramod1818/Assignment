{
 "cells": [
  {
   "cell_type": "markdown",
   "id": "7e513320-63b6-4a2d-9671-ec4df00155d1",
   "metadata": {},
   "source": [
    "Q1, Create a vehicle class with an init method having instance variables as name_of_vehicle, max_speed\n",
    "and average_of_vehicle.\n"
   ]
  },
  {
   "cell_type": "code",
   "execution_count": 5,
   "id": "8a50ef72-bb50-4720-a496-be4028ec4eab",
   "metadata": {},
   "outputs": [
    {
     "name": "stdout",
     "output_type": "stream",
     "text": [
      "Vehicle is Car\n",
      "Max speed is 180\n",
      "Average of vehicle is 28\n"
     ]
    }
   ],
   "source": [
    "class Vehicle:\n",
    "    def __init__(self, name_of_vehicle, max_speed, average_of_vehicle):\n",
    "        self.name_of_vehicle = name_of_vehicle\n",
    "        self.max_speed = max_speed\n",
    "        self.average_of_vehicle = average_of_vehicle\n",
    "\n",
    "\n",
    "vehicle1 = Vehicle(\"Car\", 180, 28)\n",
    "print(f'Vehicle is {vehicle1.name_of_vehicle}')\n",
    "print(f'Max speed is {vehicle1.max_speed}')\n",
    "print(f'Average of vehicle is {vehicle1.average_of_vehicle}')\n"
   ]
  },
  {
   "cell_type": "code",
   "execution_count": null,
   "id": "e0d0b795-4a43-4ae4-a367-8497bcbb77d1",
   "metadata": {},
   "outputs": [],
   "source": []
  },
  {
   "cell_type": "markdown",
   "id": "b408dfeb-efc6-431c-9627-52f2fc7a92bf",
   "metadata": {},
   "source": [
    "Q2. Create a child class car from the vehicle class created in Que 1, which will inherit the vehicle class.\n",
    "Create a method named seating_capacity which takes capacity as an argument and returns the name of\n",
    "the vehicle and its seating capacity.\n"
   ]
  },
  {
   "cell_type": "code",
   "execution_count": 6,
   "id": "d800f355-9d05-4caa-ae87-139a73b123a1",
   "metadata": {},
   "outputs": [
    {
     "name": "stdout",
     "output_type": "stream",
     "text": [
      "Hundai has a seating capacity of 5 people.\n"
     ]
    }
   ],
   "source": [
    "class Car(Vehicle):\n",
    "    def seating_capacity(self, capacity):\n",
    "        return f\"{self.name_of_vehicle} has a seating capacity of {capacity} people.\"\n",
    "\n",
    "\n",
    "car1 = Car(\"Hundai\", 180, 26)\n",
    "print(car1.seating_capacity(5))\n"
   ]
  },
  {
   "cell_type": "code",
   "execution_count": null,
   "id": "fb15c576-f295-4e49-8511-ab9c0dfc88c0",
   "metadata": {},
   "outputs": [],
   "source": []
  },
  {
   "cell_type": "markdown",
   "id": "8d4fa586-a8b7-41a4-b8f3-9d9bd29505c6",
   "metadata": {},
   "source": [
    "Q3. What is multiple inheritance? Write a python code to demonstrate multiple inheritance.\n"
   ]
  },
  {
   "cell_type": "markdown",
   "id": "35c2c66d-df6f-487a-adb0-a5097cfd9adc",
   "metadata": {},
   "source": [
    "Multiple inheritance refers to a scenario in object-oriented programming where a class can inherit attributes and methods from more than one parent class. It allows a class to inherit features from multiple base classes."
   ]
  },
  {
   "cell_type": "code",
   "execution_count": 7,
   "id": "fb3af131-38aa-4609-b173-e6495552016f",
   "metadata": {},
   "outputs": [
    {
     "name": "stdout",
     "output_type": "stream",
     "text": [
      "Method 1 from Parent 1\n",
      "Method 2 from Parent 2\n",
      "Method 3 in Child\n"
     ]
    }
   ],
   "source": [
    "class Parent1:\n",
    "    def method1(self):\n",
    "        print(\"Method 1 from Parent 1\")\n",
    "\n",
    "class Parent2:\n",
    "    def method2(self):\n",
    "        print(\"Method 2 from Parent 2\")\n",
    "\n",
    "class Child(Parent1, Parent2):\n",
    "    def method3(self):\n",
    "        print(\"Method 3 in Child\")\n",
    "\n",
    "child_obj = Child()\n",
    "child_obj.method1()\n",
    "child_obj.method2()\n",
    "child_obj.method3()\n"
   ]
  },
  {
   "cell_type": "code",
   "execution_count": null,
   "id": "3015a7f2-d113-4fe0-bbe9-57c2e0ebab41",
   "metadata": {},
   "outputs": [],
   "source": []
  },
  {
   "cell_type": "code",
   "execution_count": null,
   "id": "7f0ccff8-48ee-438c-bde0-9ce1c65b4d8a",
   "metadata": {},
   "outputs": [],
   "source": [
    "Q4. What are getter and setter in python? Create a class and create a getter and a setter method in this\n",
    "class.\n"
   ]
  },
  {
   "cell_type": "markdown",
   "id": "8a8366e4-4ae7-4fb8-b6c7-28be5c073d02",
   "metadata": {},
   "source": [
    "Getter and setter are methods used to access and modify the private attributes of a class. They allow controlled access to class attributes."
   ]
  },
  {
   "cell_type": "code",
   "execution_count": 10,
   "id": "4656a64a-27c4-4383-9b20-881db508ff53",
   "metadata": {},
   "outputs": [
    {
     "name": "stdout",
     "output_type": "stream",
     "text": [
      " Name set by constructor and retreive by getter function Raman\n",
      " Name set by setter and retreive by getter function suresh\n"
     ]
    }
   ],
   "source": [
    "class Person:\n",
    "    def __init__(self, name):\n",
    "        self.__name = name\n",
    "    \n",
    "    def get_name(self):\n",
    "        return self.__name\n",
    "    \n",
    "    def set_name(self, new_name):\n",
    "        self.__name = new_name\n",
    "\n",
    "person1 = Person(\"Raman\")\n",
    "print(f' Name set by constructor and retreive by getter function {person1.get_name()}')\n",
    "person1.set_name(\"suresh\")\n",
    "print(f' Name set by setter and retreive by getter function {person1.get_name()}')\n"
   ]
  },
  {
   "cell_type": "code",
   "execution_count": null,
   "id": "89d88790-f80a-4da9-a1da-1e8fa8a28135",
   "metadata": {},
   "outputs": [],
   "source": []
  },
  {
   "cell_type": "code",
   "execution_count": null,
   "id": "fe3a0bb8-38d9-4c81-8c15-9bd8013a2a7f",
   "metadata": {},
   "outputs": [],
   "source": [
    "Q5.What is method overriding in python? Write a python code to demonstrate method overriding."
   ]
  },
  {
   "cell_type": "markdown",
   "id": "66814545-7f27-4cf9-86b0-8dbb36a30b85",
   "metadata": {},
   "source": [
    "Method overriding allows a subclass to provide a specific implementation of a method that is already defined in its superclass. This allows the subclass to customize the behavior of the inherited method."
   ]
  },
  {
   "cell_type": "code",
   "execution_count": 11,
   "id": "5175dc3d-d3bd-4268-b98e-5f5ed39199e1",
   "metadata": {},
   "outputs": [
    {
     "name": "stdout",
     "output_type": "stream",
     "text": [
      "This is the child class\n"
     ]
    }
   ],
   "source": [
    "class Parent:\n",
    "    def func(self):\n",
    "        print(\"This is the parent class\")\n",
    "\n",
    "class Child(Parent):\n",
    "    def func(self):\n",
    "        print(\"This is the child class\")\n",
    "\n",
    "child_instance = Child()\n",
    "child_instance.func()"
   ]
  },
  {
   "cell_type": "code",
   "execution_count": null,
   "id": "e4ac95c5-44a7-443f-ab1c-5f2e276db813",
   "metadata": {},
   "outputs": [],
   "source": []
  },
  {
   "cell_type": "code",
   "execution_count": null,
   "id": "523395e6-64c7-47a7-ab44-604083b976a7",
   "metadata": {},
   "outputs": [],
   "source": []
  },
  {
   "cell_type": "code",
   "execution_count": null,
   "id": "a28cf1e3-74f9-4170-ab30-92a86ab5629f",
   "metadata": {},
   "outputs": [],
   "source": []
  }
 ],
 "metadata": {
  "kernelspec": {
   "display_name": "Python 3 (ipykernel)",
   "language": "python",
   "name": "python3"
  },
  "language_info": {
   "codemirror_mode": {
    "name": "ipython",
    "version": 3
   },
   "file_extension": ".py",
   "mimetype": "text/x-python",
   "name": "python",
   "nbconvert_exporter": "python",
   "pygments_lexer": "ipython3",
   "version": "3.10.8"
  }
 },
 "nbformat": 4,
 "nbformat_minor": 5
}
