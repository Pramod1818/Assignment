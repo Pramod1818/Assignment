{
 "cells": [
  {
   "cell_type": "markdown",
   "id": "60761fe6-e225-4721-9538-5fb8b820a6fc",
   "metadata": {},
   "source": [
    "Q1. Explain Class and Object with respect to Object-Oriented Programming. Give a suitable example.\n"
   ]
  },
  {
   "cell_type": "markdown",
   "id": "95435546-0bf3-4457-bbdc-1dfb7dc4c62e",
   "metadata": {},
   "source": [
    "In Object-Oriented Programming, \n",
    "\n",
    "A class is a blueprint or template for creating objects. It defines the structure and behavior that the objects of the class will have. A class is a user-defined data type that encapsulates attributes and functions that operate on that data. \n",
    "\n",
    "An object is an instance of a class. It's a concrete entity created based on the class blueprint, and it can hold specific data and perform actions.we can create multiple objects from a single class.\n",
    "\n",
    "A class is conceptual entity but a object is real entity"
   ]
  },
  {
   "cell_type": "code",
   "execution_count": 5,
   "id": "7c6abc63-5269-4545-a89f-d0b462cd9d62",
   "metadata": {},
   "outputs": [
    {
     "name": "stdout",
     "output_type": "stream",
     "text": [
      "This is a Wagnor and price is 50 lakhs.\n",
      "This is a Tata-Punch and price is 16 lakhs.\n"
     ]
    }
   ],
   "source": [
    "class Car:\n",
    "    def __init__(self, make, price):\n",
    "        self.make = make\n",
    "        self.price = price\n",
    "\n",
    "    def display_info(self):\n",
    "        print(f\"This is a {self.make} and price is {self.price}.\")\n",
    "\n",
    "car1 = Car(\"Wagnor\", \"50 lakhs\")\n",
    "car2 = Car(\"Tata-Punch\", \"16 lakhs\")\n",
    "\n",
    "car1.display_info()  \n",
    "car2.display_info() \n"
   ]
  },
  {
   "cell_type": "code",
   "execution_count": null,
   "id": "f2d9ac57-f390-4126-b0dc-730cc0130367",
   "metadata": {},
   "outputs": [],
   "source": []
  },
  {
   "cell_type": "code",
   "execution_count": null,
   "id": "c5289d9d-fef1-46da-b113-f023903bb425",
   "metadata": {},
   "outputs": [],
   "source": [
    "Q2. Name the four pillars of OOPs.\n"
   ]
  },
  {
   "cell_type": "markdown",
   "id": "54fdccad-49d7-4d59-90ac-ed122bfda329",
   "metadata": {},
   "source": [
    "The four pillars of Object-Oriented Programming are:\n",
    "\n",
    "Encapsulation:\n",
    "The bundling of data and methods that operate on the data into a single unit, i.e., the class. It restricts direct access to some of the object's components and allows controlled access through methods.\n",
    "\n",
    "Abstraction: Hiding the unnecessary details and showing only the necessary features/informations of an object to the user. It focuses on what an object does rather than how it does it.\n",
    "\n",
    "Inheritance: The ability of a class (subclass or derived class) to inherit properties and behavior from another class (superclass or base class). It promotes code reusability and extensibility.\n",
    "\n",
    "Polymorphism: The ability of different classes to be treated as instances of the same class through a common interface. It allows different classes to be used interchangeably in a program."
   ]
  },
  {
   "cell_type": "code",
   "execution_count": null,
   "id": "a5b592c0-18d8-44e5-858b-0aecbda23574",
   "metadata": {},
   "outputs": [],
   "source": []
  },
  {
   "cell_type": "markdown",
   "id": "13f240ad-3d3e-4037-8aca-b9c1fe42dd44",
   "metadata": {},
   "source": [
    "Q3. Explain why the __init__() function is used. Give a suitable example.\n"
   ]
  },
  {
   "cell_type": "markdown",
   "id": "e04159ab-51da-4c99-a067-48f6f0d5aede",
   "metadata": {},
   "source": [
    "The __init__() function is a special method in Python classes that is automatically called when an object of the class is created. It initializes the object's attributes. It is used to set up the initial state of an object by assigning values to its attributes."
   ]
  },
  {
   "cell_type": "code",
   "execution_count": 10,
   "id": "6a498b69-8982-4f32-bee8-734dd72b0ad4",
   "metadata": {},
   "outputs": [],
   "source": [
    "class student:\n",
    "    def __init__(self, name, age):\n",
    "        self.name = name\n",
    "        self.age = age\n",
    "    \n",
    "    def display_info(self):\n",
    "        print(f\"Student name is {self.name} and age is {self.age}\")\n",
    "\n",
    "studnt1 = student(\"Raman\", 17)\n",
    "studnt2 = student(\"Mukesh\", 15)\n"
   ]
  },
  {
   "cell_type": "code",
   "execution_count": 11,
   "id": "5b6dc8cc-1d86-4cc6-9f62-d3d9b21de154",
   "metadata": {},
   "outputs": [
    {
     "name": "stdout",
     "output_type": "stream",
     "text": [
      "Student name is Raman and age is 17\n"
     ]
    }
   ],
   "source": [
    "studnt1.display_info()"
   ]
  },
  {
   "cell_type": "code",
   "execution_count": null,
   "id": "48410b8a-d001-497f-b544-75db5b0511b1",
   "metadata": {},
   "outputs": [],
   "source": []
  },
  {
   "cell_type": "markdown",
   "id": "33b0eac7-7dcb-4a68-9d32-dd5209b949e5",
   "metadata": {},
   "source": [
    "Q4. Why self is used in OOPs?\n"
   ]
  },
  {
   "cell_type": "markdown",
   "id": "ef1fdc72-0166-421e-9836-fc0ea0574a4c",
   "metadata": {},
   "source": [
    "In Python, self is used as a convention to refer to the instance of the class itself.\n",
    "It represents the object on which the method is being invoked. By using self, we can access the attributes and methods of the object within the class methods. It helps differentiate between instance attributes and local variables."
   ]
  },
  {
   "cell_type": "code",
   "execution_count": null,
   "id": "aa8f4860-a1d2-43ea-9484-ebac0f732088",
   "metadata": {},
   "outputs": [],
   "source": []
  },
  {
   "cell_type": "markdown",
   "id": "9590d3f9-5b69-4ab5-82d7-7c5479dbcc07",
   "metadata": {},
   "source": [
    "Q5. What is inheritance? Give an example for each type of inheritance."
   ]
  },
  {
   "cell_type": "markdown",
   "id": "42ecad4e-563a-498c-b6ec-32fbbb7720fd",
   "metadata": {},
   "source": [
    "Inheritance is a fundamental concept in OOP that allows a new class (subclass or derived class) to inherit attributes and methods from an existing class (superclass or base class). The subclass can reuse the code of the superclass and extend or modify its behavior."
   ]
  },
  {
   "cell_type": "code",
   "execution_count": 12,
   "id": "a6648da8-2277-4077-bb21-2e7404e3616e",
   "metadata": {},
   "outputs": [
    {
     "name": "stdout",
     "output_type": "stream",
     "text": [
      "Parent class\n",
      "Child class\n"
     ]
    }
   ],
   "source": [
    "class Parent:\n",
    "    def parent_func(self):\n",
    "        print(\"Parent class\")\n",
    "\n",
    "class Child(Parent):\n",
    "    def child_func(self):\n",
    "        print(\"Child class\")\n",
    "\n",
    "child_obj = Child()\n",
    "child_obj.parent_func()  \n",
    "child_obj.child_func()  \n"
   ]
  },
  {
   "cell_type": "code",
   "execution_count": null,
   "id": "1f9d1285-3271-442c-8a20-c1bc49a456b3",
   "metadata": {},
   "outputs": [],
   "source": []
  }
 ],
 "metadata": {
  "kernelspec": {
   "display_name": "Python 3 (ipykernel)",
   "language": "python",
   "name": "python3"
  },
  "language_info": {
   "codemirror_mode": {
    "name": "ipython",
    "version": 3
   },
   "file_extension": ".py",
   "mimetype": "text/x-python",
   "name": "python",
   "nbconvert_exporter": "python",
   "pygments_lexer": "ipython3",
   "version": "3.10.8"
  }
 },
 "nbformat": 4,
 "nbformat_minor": 5
}
