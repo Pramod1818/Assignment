{
 "cells": [
  {
   "cell_type": "markdown",
   "id": "ab452a91-2507-4dda-a7fc-d0154dd56d88",
   "metadata": {},
   "source": [
    "Q1: What is Estimation Statistics? Explain point estimate and interval estimate."
   ]
  },
  {
   "cell_type": "markdown",
   "id": "4e1b5a36-31f1-4d14-86d2-b882692ddd3b",
   "metadata": {},
   "source": [
    "Estimation statistics involves using sample data to estimate population parameters.\n",
    "\n",
    "Point Estimate: A single value that estimates the population parameter. For example, using the sample mean to estimate the population mean.\n",
    "Interval Estimate (Confidence Interval): A range of values that likely contains the true population parameter. It provides a measure of uncertainty. For example, a 95% confidence interval for the population mean."
   ]
  },
  {
   "cell_type": "code",
   "execution_count": null,
   "id": "7cc6fe3d-d31e-4001-8b9a-377b050524ad",
   "metadata": {},
   "outputs": [],
   "source": []
  },
  {
   "cell_type": "markdown",
   "id": "712647aa-5546-4c0b-b941-bc0e8d2fb52b",
   "metadata": {},
   "source": [
    "Q2. Write a Python function to estimate the population mean using a sample mean and standard\n",
    "deviation."
   ]
  },
  {
   "cell_type": "code",
   "execution_count": 14,
   "id": "2bccd878-2826-412f-998f-4008220efb57",
   "metadata": {},
   "outputs": [
    {
     "name": "stdout",
     "output_type": "stream",
     "text": [
      "Estimated Population Mean: 4.875\n"
     ]
    }
   ],
   "source": [
    "import math\n",
    "\n",
    "def estimate_population_mean(s_mean, s_std_dev, s_size):\n",
    "    return sample_mean\n",
    "\n",
    "s_mean = 79\n",
    "s_std_dev = 4\n",
    "s_size = 50\n",
    "estimated_mean = estimate_population_mean(s_mean, s_std_dev, s_size)\n",
    "print(\"Estimated Population Mean:\", estimated_mean)\n"
   ]
  },
  {
   "cell_type": "code",
   "execution_count": null,
   "id": "41fbe437-e9eb-430f-87c8-5749c9a271b7",
   "metadata": {},
   "outputs": [],
   "source": []
  },
  {
   "cell_type": "markdown",
   "id": "fec45125-d4aa-4f05-a608-f746e1d4be0c",
   "metadata": {},
   "source": [
    "Q3: What is Hypothesis testing? Why is it used? State the importance of Hypothesis testing."
   ]
  },
  {
   "cell_type": "markdown",
   "id": "25bc8067-f1b3-41dc-af4a-b50f716f79d8",
   "metadata": {},
   "source": [
    "Hypothesis testing is a statistical method used to make decisions about population parameters based on sample data. It's used to determine if observed effects are statistically significant or if they could have occurred by chance."
   ]
  },
  {
   "cell_type": "code",
   "execution_count": null,
   "id": "48c52cf9-4d1e-4fa5-9d19-394f3721201e",
   "metadata": {},
   "outputs": [],
   "source": []
  },
  {
   "cell_type": "markdown",
   "id": "8476d4e6-e2dc-479e-b65a-d767b7122da7",
   "metadata": {},
   "source": [
    "Q4. Create a hypothesis that states whether the average weight of male college students is greater than\n",
    "the average weight of female college students."
   ]
  },
  {
   "cell_type": "markdown",
   "id": "5a4a2539-4049-48bf-a871-d29813fdbc3e",
   "metadata": {},
   "source": [
    "Null Hypothesis (H0): The average weight of male college students is not greater than the average weight of female college students.\n",
    "\n",
    "Alternative Hypothesis (Ha): The average weight of male college students is greater than the average weight of female college students."
   ]
  },
  {
   "cell_type": "code",
   "execution_count": null,
   "id": "2a7996a8-408b-4553-876d-76c7dbde0a9b",
   "metadata": {},
   "outputs": [],
   "source": []
  },
  {
   "cell_type": "markdown",
   "id": "9dd908ab-bfad-47f8-8196-e098fbe0ee87",
   "metadata": {},
   "source": [
    "Q5. Write a Python script to conduct a hypothesis test on the difference between two population means,\n",
    "given a sample from each population."
   ]
  },
  {
   "cell_type": "code",
   "execution_count": 15,
   "id": "cf3098e2-96ea-4a52-ae46-2b0167dae0e5",
   "metadata": {},
   "outputs": [
    {
     "name": "stdout",
     "output_type": "stream",
     "text": [
      "t-statistic: 1.431582920334927\n",
      "p-value: 0.16631740262735306\n"
     ]
    }
   ],
   "source": [
    "import scipy.stats as stats\n",
    "\n",
    "samp_1 = [2,3,3,2,3,1,3,2,3,5,4,2]\n",
    "samp_2 = [2,2,2,1,2,3,3,1,3,2,4,1]\n",
    "\n",
    "t_statistic, p_value = stats.ttest_ind(samp_1, samp_2)\n",
    "print(\"t-statistic:\", t_statistic)\n",
    "print(\"p-value:\", p_value)\n"
   ]
  },
  {
   "cell_type": "code",
   "execution_count": null,
   "id": "b4011011-bff0-46dc-8573-a3cbe156b520",
   "metadata": {},
   "outputs": [],
   "source": []
  },
  {
   "cell_type": "markdown",
   "id": "d843365d-ac55-4a19-a266-0cff0b279232",
   "metadata": {},
   "source": [
    "Q6: What is a null and alternative hypothesis? Give some examples."
   ]
  },
  {
   "cell_type": "markdown",
   "id": "db02d1ba-0a6f-4591-9d83-da5c5ddd812f",
   "metadata": {},
   "source": [
    "Null Hypothesis (H0): A statement of no effect or no difference. It's often denoted as the status quo.\n",
    "Alternative Hypothesis (Ha): A statement that contradicts the null hypothesis. It's what you're trying to find evidence for.\n",
    "Example:\n",
    "\n",
    "H0: The mean weight loss due to a diet is zero.\n",
    "\n",
    "Ha: The mean weight loss due to a diet is not zero."
   ]
  },
  {
   "cell_type": "code",
   "execution_count": null,
   "id": "a7299874-83fe-4f3e-a2a3-f068eb8e5a9a",
   "metadata": {},
   "outputs": [],
   "source": []
  },
  {
   "cell_type": "markdown",
   "id": "7b76634b-c728-408e-b668-9a53e01d0c87",
   "metadata": {},
   "source": [
    "Q7: Write down the steps involved in hypothesis testing."
   ]
  },
  {
   "cell_type": "markdown",
   "id": "332833d7-42ff-45b3-ad6f-0a50ace07788",
   "metadata": {},
   "source": [
    "Formulate Hypotheses (Null and Alternative).\n",
    "\n",
    "Choose Significance Level (α).\n",
    "\n",
    "Collect and Analyze Sample Data.\n",
    "\n",
    "Calculate Test Statistic.\n",
    "\n",
    "Determine Critical Value or p-value.\n",
    "\n",
    "Make a Decision and Draw Conclusion."
   ]
  },
  {
   "cell_type": "code",
   "execution_count": null,
   "id": "79767d06-bd28-4e2c-8d1a-d25cba6aa868",
   "metadata": {},
   "outputs": [],
   "source": []
  },
  {
   "cell_type": "markdown",
   "id": "0065cfde-1c6e-4e36-b8ca-b1821944c3ed",
   "metadata": {},
   "source": [
    "Q8. Define p-value and explain its significance in hypothesis testing."
   ]
  },
  {
   "cell_type": "markdown",
   "id": "0d2f2b9a-2a3a-4902-aa8b-509daaf7d6ad",
   "metadata": {},
   "source": [
    "P-value is the probability of observing a test statistic as extreme as or more extreme than the one calculated from the sample data, assuming the null hypothesis is true. A small p-value (typically ≤ α) indicates strong evidence against the null hypothesis."
   ]
  },
  {
   "cell_type": "code",
   "execution_count": null,
   "id": "1b30f3f6-b144-4d3f-8a89-d0b54e72a8b2",
   "metadata": {},
   "outputs": [],
   "source": []
  },
  {
   "cell_type": "markdown",
   "id": "aaca466d-eaec-4b54-8dc5-61cd6a460c29",
   "metadata": {},
   "source": [
    "Q9. Generate a Student's t-distribution plot using Python's matplotlib library, with the degrees of freedom\n",
    "parameter set to 10."
   ]
  },
  {
   "cell_type": "code",
   "execution_count": 18,
   "id": "3d47a584-2cf4-4053-b9e8-9d430f684261",
   "metadata": {},
   "outputs": [
    {
     "data": {
      "image/png": "[encoded data removed]",
      "text/plain": [
       "<Figure size 640x480 with 1 Axes>"
      ]
     },
     "metadata": {},
     "output_type": "display_data"
    }
   ],
   "source": [
    "import numpy as np\n",
    "import matplotlib.pyplot as plt\n",
    "from scipy.stats import t\n",
    "\n",
    "df = 10  # Degrees of freedom\n",
    "\n",
    "x = np.linspace(-5, 5, 1000)\n",
    "y = t.pdf(x, df)\n",
    "\n",
    "plt.plot(x, y)\n",
    "plt.title(\"Student's t-Distribution\")\n",
    "plt.xlabel(\"x\")\n",
    "plt.ylabel(\"Probability Density\")\n",
    "plt.show()\n"
   ]
  },
  {
   "cell_type": "code",
   "execution_count": null,
   "id": "cb90e673-863e-40ed-9169-9b580ff3994e",
   "metadata": {},
   "outputs": [],
   "source": []
  },
  {
   "cell_type": "markdown",
   "id": "321ac81a-c041-47be-be42-cc8136d1c089",
   "metadata": {},
   "source": [
    "Q10. Write a Python program to calculate the two-sample t-test for independent samples, given two\n",
    "random samples of equal size and a null hypothesis that the population means are equal."
   ]
  },
  {
   "cell_type": "code",
   "execution_count": 22,
   "id": "d6d12f71-3f75-4828-8691-9ce3047aa0ba",
   "metadata": {},
   "outputs": [
    {
     "name": "stdout",
     "output_type": "stream",
     "text": [
      "Fail to Reject Null Hypothesis.\n"
     ]
    }
   ],
   "source": [
    "import scipy.stats as stats\n",
    "\n",
    "sample1 = [12, 15, 18, 19]  # Sample 1 data\n",
    "sample2 = [10, 14, 17, 20]  # Sample 2 data\n",
    "alpha = 0.05  # Significance level\n",
    "\n",
    "t_statistic, p_value = stats.ttest_ind(sample1, sample2)\n",
    "if p_value < alpha:\n",
    "    print(\"Reject Null Hypothesis: Population means are not equal.\")\n",
    "else:\n",
    "    print(\"Fail to Reject Null Hypothesis.\")\n"
   ]
  },
  {
   "cell_type": "code",
   "execution_count": null,
   "id": "e4b7da4a-a32e-4bb9-9b93-0aa2e43d5a14",
   "metadata": {},
   "outputs": [],
   "source": []
  },
  {
   "cell_type": "markdown",
   "id": "0895c257-22c7-4bd8-a24a-f24fc1a95cb9",
   "metadata": {},
   "source": [
    "Q11: What is Student’s t distribution? When to use the t-Distribution."
   ]
  },
  {
   "cell_type": "markdown",
   "id": "b1d4e35a-edfb-47d9-9403-1b785941f4ec",
   "metadata": {},
   "source": [
    "Student's t-distribution is used when the population standard deviation is unknown or the sample size is small. It's used for hypothesis testing and constructing confidence intervals for population means."
   ]
  },
  {
   "cell_type": "code",
   "execution_count": null,
   "id": "46b2a6bf-6279-4ad9-9107-f79143c4074e",
   "metadata": {},
   "outputs": [],
   "source": []
  },
  {
   "cell_type": "markdown",
   "id": "a89449a9-2264-4fc2-aa1b-c650d18a5658",
   "metadata": {},
   "source": [
    "Q12: What is t-statistic? State the formula for t-statistic."
   ]
  },
  {
   "cell_type": "markdown",
   "id": "013e81d1-349e-488f-b533-f0ac63e88989",
   "metadata": {},
   "source": [
    "The t-statistic is calculated as (sample_mean - population_mean) / (sample_std_dev / sqrt(sample_size))."
   ]
  },
  {
   "cell_type": "code",
   "execution_count": null,
   "id": "2d1cb57c-62db-4f4e-8b40-d02e39b519b1",
   "metadata": {},
   "outputs": [],
   "source": []
  },
  {
   "cell_type": "markdown",
   "id": "807a9127-f2f2-4a77-a4f7-cdec6ee0a064",
   "metadata": {},
   "source": [
    "Q13. A coffee shop owner wants to estimate the average daily revenue for their shop. They take a random\n",
    "sample of 50 days and find the sample mean revenue to be $500 with a standard deviation of $50.\n",
    "Estimate the population mean revenue with a 95% confidence interval."
   ]
  },
  {
   "cell_type": "markdown",
   "id": "4637e0f4-1d65-4d84-b44e-83c5ac13a77c",
   "metadata": {},
   "source": [
    "For a 95% confidence interval, using the z-score for 95% confidence (1.96):\n",
    "\n",
    "95% CI = sample_mean ± (z-score) * (sample_std_dev / sqrt(sample_size))"
   ]
  },
  {
   "cell_type": "code",
   "execution_count": null,
   "id": "0e52d2d7-0112-4742-9101-83699fecf634",
   "metadata": {},
   "outputs": [],
   "source": []
  },
  {
   "cell_type": "markdown",
   "id": "11598969-cd76-4e13-aecb-2cc80d85488a",
   "metadata": {},
   "source": [
    "Q14. A researcher hypothesizes that a new drug will decrease blood pressure by 10 mmHg. They conduct a\n",
    "clinical trial with 100 patients and find that the sample mean decrease in blood pressure is 8 mmHg with a\n",
    "standard deviation of 3 mmHg. Test the hypothesis with a significance level of 0.05.\n"
   ]
  },
  {
   "cell_type": "markdown",
   "id": "c76b3dec-7764-416c-a982-f42cadfaf1ec",
   "metadata": {},
   "source": [
    "Given:\n",
    "Null Hypothesis (H0): The new drug does not decrease blood pressure by 10 mmHg. (μ = 0)\n",
    "Alternative Hypothesis (H1): The new drug decreases blood pressure by 10 mmHg. (μ < 0)\n",
    "Sample Mean (x̄) = 8 mmHg\n",
    "Sample Standard Deviation (s) = 3 mmHg\n",
    "Sample Size (n) = 100\n",
    "Significance Level (α) = 0.05\n",
    "\n",
    "Using a one-sample t-test:"
   ]
  },
  {
   "cell_type": "code",
   "execution_count": 19,
   "id": "567a0696-2e4a-4fd2-b039-d2412760175c",
   "metadata": {},
   "outputs": [
    {
     "name": "stdout",
     "output_type": "stream",
     "text": [
      "Reject Null Hypothesis: The new drug decreases blood pressure.\n"
     ]
    }
   ],
   "source": [
    "import scipy.stats as stats\n",
    "\n",
    "samp_mean = 8\n",
    "samp_std_dev = 3\n",
    "samp_size = 100\n",
    "null_mean = 10  # Hypothesized population mean under null hypothesis\n",
    "alpha = 0.05\n",
    "\n",
    "t_statistic = (samp_mean - null_mean) / (samp_std_dev / (samp_size ** 0.5))\n",
    "p_value = stats.t.cdf(t_statistic, df=sample_size-1)\n",
    "\n",
    "if p_value < alpha:\n",
    "    print(\"Reject Null Hypothesis: The new drug decreases blood pressure.\")\n",
    "else:\n",
    "    print(\"Fail to Reject Null Hypothesis.\")"
   ]
  },
  {
   "cell_type": "code",
   "execution_count": null,
   "id": "54651b88-6e96-493e-b746-67a408862de0",
   "metadata": {},
   "outputs": [],
   "source": []
  },
  {
   "cell_type": "markdown",
   "id": "2d42517a-509c-4b93-973c-539dcbdb82d1",
   "metadata": {},
   "source": [
    "Q15. An electronics company produces a certain type of product with a mean weight of 5 pounds and a\n",
    "standard deviation of 0.5 pounds. A random sample of 25 products is taken, and the sample mean weight\n",
    "is found to be 4.8 pounds. Test the hypothesis that the true mean weight of the products is less than 5\n",
    "pounds with a significance level of 0.01."
   ]
  },
  {
   "cell_type": "markdown",
   "id": "e212b117-6a1a-4f72-aa2d-aecbf1a3bada",
   "metadata": {},
   "source": [
    "Given:\n",
    "\n",
    "Null Hypothesis (H0): The true mean weight of the products is not less than 5 pounds. (μ ≥ 5)\n",
    "Alternative Hypothesis (H1): The true mean weight of the products is less than 5 pounds. (μ < 5)\n",
    "Sample Mean (x̄) = 4.8 pounds\n",
    "Sample Standard Deviation (s) = Unknown\n",
    "Sample Size (n) = 25\n",
    "Significance Level (α) = 0.01\n",
    "Using a one-sample t-test:"
   ]
  },
  {
   "cell_type": "code",
   "execution_count": 23,
   "id": "70307ab7-7d5a-4247-867e-096f01906f40",
   "metadata": {},
   "outputs": [
    {
     "name": "stdout",
     "output_type": "stream",
     "text": [
      "Fail to Reject Null Hypothesis.\n"
     ]
    }
   ],
   "source": [
    "import scipy.stats as stats\n",
    "\n",
    "sample_mean = 4.8\n",
    "sample_size = 25\n",
    "null_mean = 5  \n",
    "alpha = 0.01\n",
    "\n",
    "t_statistic = (sample_mean - null_mean) / (sample_std_dev / (sample_size ** 0.5))\n",
    "p_value = stats.t.cdf(t_statistic, df=sample_size-1)\n",
    "\n",
    "if p_value < alpha:\n",
    "    print(\"Reject Null Hypothesis: The true mean weight of the products is less than 5 pounds.\")\n",
    "else:\n",
    "    print(\"Fail to Reject Null Hypothesis.\")\n"
   ]
  },
  {
   "cell_type": "code",
   "execution_count": null,
   "id": "82c01a48-0d49-48b2-8fcc-8299c16135c0",
   "metadata": {},
   "outputs": [],
   "source": []
  },
  {
   "cell_type": "markdown",
   "id": "7755d58c-686e-4c82-9f0d-943677384b9d",
   "metadata": {},
   "source": [
    "Q16. Two groups of students are given different study materials to prepare for a test.\n",
    "The first group (n1 =\n",
    "30) has a mean score of 80 with a standard deviation of 10, and the second group (n2 = 40) has a mean\n",
    "score of 75 with a standard deviation of 8. Test the hypothesis that the population means for the two\n",
    "groups are equal with a significance level of 0.01."
   ]
  },
  {
   "cell_type": "code",
   "execution_count": 20,
   "id": "463e11a0-6447-465b-95c7-812802bc175b",
   "metadata": {},
   "outputs": [
    {
     "name": "stdout",
     "output_type": "stream",
     "text": [
      "Fail to Reject Null Hypothesis.\n"
     ]
    }
   ],
   "source": [
    "import scipy.stats as stats\n",
    "\n",
    "samp_1 = [80, 85, 78, 71]  \n",
    "samp_2 = [75, 72, 80,82]  \n",
    "alpha = 0.01  # Significance level\n",
    "\n",
    "t_statistic, p_value = stats.ttest_ind(sample1, sample2)\n",
    "if p_value < alpha:\n",
    "    print(\"Reject Null Hypothesis: Population means are not equal.\")\n",
    "else:\n",
    "    print(\"Fail to Reject Null Hypothesis.\")\n"
   ]
  },
  {
   "cell_type": "code",
   "execution_count": null,
   "id": "b395c977-a1c3-46f0-ad52-51d7a363d1ab",
   "metadata": {},
   "outputs": [],
   "source": []
  },
  {
   "cell_type": "markdown",
   "id": "adc9fcfe-cbc3-4778-867c-ad005317eeec",
   "metadata": {},
   "source": [
    "Q17. A marketing company wants to estimate the average number of ads watched by viewers during a TV\n",
    "program. They take a random sample of 50 viewers and find that the sample mean is 4 with a standard\n",
    "deviation of 1.5. Estimate the population mean with a 99% confidence interval."
   ]
  },
  {
   "cell_type": "code",
   "execution_count": 24,
   "id": "94155259-5240-4fc8-9cd5-bf2c4c2e430f",
   "metadata": {},
   "outputs": [
    {
     "name": "stdout",
     "output_type": "stream",
     "text": [
      "99% Confidence Interval: (-0.8844199197511786, 10.634419919751178)\n"
     ]
    }
   ],
   "source": [
    "import numpy as np\n",
    "import scipy.stats as stats\n",
    "\n",
    "sample = [4, 3.5, 4.2, 7.8] \n",
    "confidence_level = 0.99 \n",
    "\n",
    "samp_mean = np.mean(sample)\n",
    "samp_std_dev = np.std(sample, ddof=1)  \n",
    "\n",
    "critical_value = stats.t.ppf((1 + confidence_level) / 2, df=len(sample)-1)\n",
    "margin_of_error = critical_value * (samp_std_dev / np.sqrt(len(sample)))\n",
    "\n",
    "confidence_interval = (samp_mean - margin_of_error, samp_mean + margin_of_error)\n",
    "print(\"99% Confidence Interval:\", confidence_interval)\n"
   ]
  },
  {
   "cell_type": "code",
   "execution_count": null,
   "id": "7ae2efc3-0a74-47fc-942d-390fe81221d1",
   "metadata": {},
   "outputs": [],
   "source": []
  }
 ],
 "metadata": {
  "kernelspec": {
   "display_name": "Python 3 (ipykernel)",
   "language": "python",
   "name": "python3"
  },
  "language_info": {
   "codemirror_mode": {
    "name": "ipython",
    "version": 3
   },
   "file_extension": ".py",
   "mimetype": "text/x-python",
   "name": "python",
   "nbconvert_exporter": "python",
   "pygments_lexer": "ipython3",
   "version": "3.10.8"
  }
 },
 "nbformat": 4,
 "nbformat_minor": 5
}
